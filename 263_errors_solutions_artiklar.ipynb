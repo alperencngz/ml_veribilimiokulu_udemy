{
 "cells": [
  {
   "cell_type": "markdown",
   "id": "e1ce7ab0-0d4e-4b80-852c-1532b2c40d5d",
   "metadata": {},
   "source": [
    "## Artıklar ve Makine Öğrenmesindeki Önemi"
   ]
  },
  {
   "cell_type": "code",
   "execution_count": 48,
   "id": "f0ef45a5-d677-4c52-b4f6-a9f3cb2e13ea",
   "metadata": {},
   "outputs": [],
   "source": [
    "from sklearn.metrics import mean_squared_error, r2_score"
   ]
  },
  {
   "cell_type": "code",
   "execution_count": 49,
   "id": "bc590a0c-6899-4e20-9278-239400f357f1",
   "metadata": {},
   "outputs": [],
   "source": [
    "lm = smf.ols(\"sales ~ TV\", df)\n",
    "model = lm.fit()"
   ]
  },
  {
   "cell_type": "code",
   "execution_count": 50,
   "id": "9072cfc9-e557-4443-bf7f-655982a01310",
   "metadata": {},
   "outputs": [],
   "source": [
    "mse = mean_squared_error(y, model.fittedvalues)"
   ]
  },
  {
   "cell_type": "code",
   "execution_count": 51,
   "id": "3741adb3-72d9-45c7-958f-05bdf5fed643",
   "metadata": {},
   "outputs": [
    {
     "data": {
      "text/plain": [
       "10.512652915656757"
      ]
     },
     "execution_count": 51,
     "metadata": {},
     "output_type": "execute_result"
    }
   ],
   "source": [
    "mse # tahmin edilen değerler ile gerçek değerlerin farklarının karelerinin ortalaması (hata kareler ortalaması)\n",
    "# bu değer birim başına yapılabilecek ortalama hatayı gösteriyor"
   ]
  },
  {
   "cell_type": "code",
   "execution_count": 52,
   "id": "e69e4271-d8df-4e46-87c6-031c54ecb26d",
   "metadata": {},
   "outputs": [
    {
     "data": {
      "text/plain": [
       "3.2423221486546887"
      ]
     },
     "execution_count": 52,
     "metadata": {},
     "output_type": "execute_result"
    }
   ],
   "source": [
    "import numpy as np\n",
    "rmse = np.sqrt(mse)\n",
    "rmse"
   ]
  },
  {
   "cell_type": "code",
   "execution_count": 53,
   "id": "d45e0233-c11c-417b-9ab9-1e4b447ef9e6",
   "metadata": {},
   "outputs": [
    {
     "data": {
      "text/plain": [
       "array([17.97077451,  9.14797405,  7.85022376, 14.23439457, 15.62721814,\n",
       "        7.44616232,  9.76595037, 12.74649773,  7.44140866, 16.53041431])"
      ]
     },
     "execution_count": 53,
     "metadata": {},
     "output_type": "execute_result"
    }
   ],
   "source": [
    "reg.predict(X)[0:10] # regresyon üzerinden tahmin yaptırdık, yukarıdaki modul = reg.fit(X,y) kısmı önemli"
   ]
  },
  {
   "cell_type": "code",
   "execution_count": 54,
   "id": "07db0396-25b6-4da7-b545-058e0870465b",
   "metadata": {},
   "outputs": [
    {
     "data": {
      "text/plain": [
       "0    22.1\n",
       "1    10.4\n",
       "2     9.3\n",
       "3    18.5\n",
       "4    12.9\n",
       "5     7.2\n",
       "6    11.8\n",
       "7    13.2\n",
       "8     4.8\n",
       "9    10.6\n",
       "Name: sales, dtype: float64"
      ]
     },
     "execution_count": 54,
     "metadata": {},
     "output_type": "execute_result"
    }
   ],
   "source": [
    "y[0:10]"
   ]
  },
  {
   "cell_type": "code",
   "execution_count": 55,
   "id": "b2547ff2-f6ac-4bed-9d0d-a0f7967a5586",
   "metadata": {},
   "outputs": [],
   "source": [
    "k_t = pd.DataFrame({\"gercek_y\": y, \"tahmin_y\": reg.predict(X)})"
   ]
  },
  {
   "cell_type": "code",
   "execution_count": 56,
   "id": "3495d5e9-f8b7-4714-9458-97fa4cd655f6",
   "metadata": {},
   "outputs": [
    {
     "data": {
      "text/html": [
       "<div>\n",
       "<style scoped>\n",
       "    .dataframe tbody tr th:only-of-type {\n",
       "        vertical-align: middle;\n",
       "    }\n",
       "\n",
       "    .dataframe tbody tr th {\n",
       "        vertical-align: top;\n",
       "    }\n",
       "\n",
       "    .dataframe thead th {\n",
       "        text-align: right;\n",
       "    }\n",
       "</style>\n",
       "<table border=\"1\" class=\"dataframe\">\n",
       "  <thead>\n",
       "    <tr style=\"text-align: right;\">\n",
       "      <th></th>\n",
       "      <th>gercek_y</th>\n",
       "      <th>tahmin_y</th>\n",
       "    </tr>\n",
       "  </thead>\n",
       "  <tbody>\n",
       "    <tr>\n",
       "      <th>0</th>\n",
       "      <td>22.1</td>\n",
       "      <td>17.970775</td>\n",
       "    </tr>\n",
       "    <tr>\n",
       "      <th>1</th>\n",
       "      <td>10.4</td>\n",
       "      <td>9.147974</td>\n",
       "    </tr>\n",
       "    <tr>\n",
       "      <th>2</th>\n",
       "      <td>9.3</td>\n",
       "      <td>7.850224</td>\n",
       "    </tr>\n",
       "    <tr>\n",
       "      <th>3</th>\n",
       "      <td>18.5</td>\n",
       "      <td>14.234395</td>\n",
       "    </tr>\n",
       "    <tr>\n",
       "      <th>4</th>\n",
       "      <td>12.9</td>\n",
       "      <td>15.627218</td>\n",
       "    </tr>\n",
       "    <tr>\n",
       "      <th>5</th>\n",
       "      <td>7.2</td>\n",
       "      <td>7.446162</td>\n",
       "    </tr>\n",
       "    <tr>\n",
       "      <th>6</th>\n",
       "      <td>11.8</td>\n",
       "      <td>9.765950</td>\n",
       "    </tr>\n",
       "    <tr>\n",
       "      <th>7</th>\n",
       "      <td>13.2</td>\n",
       "      <td>12.746498</td>\n",
       "    </tr>\n",
       "    <tr>\n",
       "      <th>8</th>\n",
       "      <td>4.8</td>\n",
       "      <td>7.441409</td>\n",
       "    </tr>\n",
       "    <tr>\n",
       "      <th>9</th>\n",
       "      <td>10.6</td>\n",
       "      <td>16.530414</td>\n",
       "    </tr>\n",
       "  </tbody>\n",
       "</table>\n",
       "</div>"
      ],
      "text/plain": [
       "   gercek_y   tahmin_y\n",
       "0      22.1  17.970775\n",
       "1      10.4   9.147974\n",
       "2       9.3   7.850224\n",
       "3      18.5  14.234395\n",
       "4      12.9  15.627218\n",
       "5       7.2   7.446162\n",
       "6      11.8   9.765950\n",
       "7      13.2  12.746498\n",
       "8       4.8   7.441409\n",
       "9      10.6  16.530414"
      ]
     },
     "execution_count": 56,
     "metadata": {},
     "output_type": "execute_result"
    }
   ],
   "source": [
    "k_t[0:10]"
   ]
  },
  {
   "cell_type": "code",
   "execution_count": 57,
   "id": "5b8d274e-def7-4977-b980-b6639600e54e",
   "metadata": {},
   "outputs": [],
   "source": [
    "k_t[\"hata\"] = k_t[\"gercek_y\"] - k_t[\"tahmin_y\"]"
   ]
  },
  {
   "cell_type": "code",
   "execution_count": 58,
   "id": "3bd985b4-7476-4deb-adea-ea9dd8956342",
   "metadata": {},
   "outputs": [
    {
     "data": {
      "text/html": [
       "<div>\n",
       "<style scoped>\n",
       "    .dataframe tbody tr th:only-of-type {\n",
       "        vertical-align: middle;\n",
       "    }\n",
       "\n",
       "    .dataframe tbody tr th {\n",
       "        vertical-align: top;\n",
       "    }\n",
       "\n",
       "    .dataframe thead th {\n",
       "        text-align: right;\n",
       "    }\n",
       "</style>\n",
       "<table border=\"1\" class=\"dataframe\">\n",
       "  <thead>\n",
       "    <tr style=\"text-align: right;\">\n",
       "      <th></th>\n",
       "      <th>gercek_y</th>\n",
       "      <th>tahmin_y</th>\n",
       "      <th>hata</th>\n",
       "    </tr>\n",
       "  </thead>\n",
       "  <tbody>\n",
       "    <tr>\n",
       "      <th>0</th>\n",
       "      <td>22.1</td>\n",
       "      <td>17.970775</td>\n",
       "      <td>4.129225</td>\n",
       "    </tr>\n",
       "    <tr>\n",
       "      <th>1</th>\n",
       "      <td>10.4</td>\n",
       "      <td>9.147974</td>\n",
       "      <td>1.252026</td>\n",
       "    </tr>\n",
       "    <tr>\n",
       "      <th>2</th>\n",
       "      <td>9.3</td>\n",
       "      <td>7.850224</td>\n",
       "      <td>1.449776</td>\n",
       "    </tr>\n",
       "    <tr>\n",
       "      <th>3</th>\n",
       "      <td>18.5</td>\n",
       "      <td>14.234395</td>\n",
       "      <td>4.265605</td>\n",
       "    </tr>\n",
       "    <tr>\n",
       "      <th>4</th>\n",
       "      <td>12.9</td>\n",
       "      <td>15.627218</td>\n",
       "      <td>-2.727218</td>\n",
       "    </tr>\n",
       "  </tbody>\n",
       "</table>\n",
       "</div>"
      ],
      "text/plain": [
       "   gercek_y   tahmin_y      hata\n",
       "0      22.1  17.970775  4.129225\n",
       "1      10.4   9.147974  1.252026\n",
       "2       9.3   7.850224  1.449776\n",
       "3      18.5  14.234395  4.265605\n",
       "4      12.9  15.627218 -2.727218"
      ]
     },
     "execution_count": 58,
     "metadata": {},
     "output_type": "execute_result"
    }
   ],
   "source": [
    "k_t.head()"
   ]
  },
  {
   "cell_type": "code",
   "execution_count": 59,
   "id": "dac63bf0-cc7f-465b-9866-e51cf8403ca3",
   "metadata": {},
   "outputs": [],
   "source": [
    "k_t[\"hata_kare\"] = k_t[\"hata\"]**2"
   ]
  },
  {
   "cell_type": "code",
   "execution_count": 60,
   "id": "b952022b-058c-4495-99a2-eee96197008d",
   "metadata": {},
   "outputs": [
    {
     "data": {
      "text/html": [
       "<div>\n",
       "<style scoped>\n",
       "    .dataframe tbody tr th:only-of-type {\n",
       "        vertical-align: middle;\n",
       "    }\n",
       "\n",
       "    .dataframe tbody tr th {\n",
       "        vertical-align: top;\n",
       "    }\n",
       "\n",
       "    .dataframe thead th {\n",
       "        text-align: right;\n",
       "    }\n",
       "</style>\n",
       "<table border=\"1\" class=\"dataframe\">\n",
       "  <thead>\n",
       "    <tr style=\"text-align: right;\">\n",
       "      <th></th>\n",
       "      <th>gercek_y</th>\n",
       "      <th>tahmin_y</th>\n",
       "      <th>hata</th>\n",
       "      <th>hata_kare</th>\n",
       "    </tr>\n",
       "  </thead>\n",
       "  <tbody>\n",
       "    <tr>\n",
       "      <th>0</th>\n",
       "      <td>22.1</td>\n",
       "      <td>17.970775</td>\n",
       "      <td>4.129225</td>\n",
       "      <td>17.050503</td>\n",
       "    </tr>\n",
       "    <tr>\n",
       "      <th>1</th>\n",
       "      <td>10.4</td>\n",
       "      <td>9.147974</td>\n",
       "      <td>1.252026</td>\n",
       "      <td>1.567569</td>\n",
       "    </tr>\n",
       "    <tr>\n",
       "      <th>2</th>\n",
       "      <td>9.3</td>\n",
       "      <td>7.850224</td>\n",
       "      <td>1.449776</td>\n",
       "      <td>2.101851</td>\n",
       "    </tr>\n",
       "    <tr>\n",
       "      <th>3</th>\n",
       "      <td>18.5</td>\n",
       "      <td>14.234395</td>\n",
       "      <td>4.265605</td>\n",
       "      <td>18.195390</td>\n",
       "    </tr>\n",
       "    <tr>\n",
       "      <th>4</th>\n",
       "      <td>12.9</td>\n",
       "      <td>15.627218</td>\n",
       "      <td>-2.727218</td>\n",
       "      <td>7.437719</td>\n",
       "    </tr>\n",
       "  </tbody>\n",
       "</table>\n",
       "</div>"
      ],
      "text/plain": [
       "   gercek_y   tahmin_y      hata  hata_kare\n",
       "0      22.1  17.970775  4.129225  17.050503\n",
       "1      10.4   9.147974  1.252026   1.567569\n",
       "2       9.3   7.850224  1.449776   2.101851\n",
       "3      18.5  14.234395  4.265605  18.195390\n",
       "4      12.9  15.627218 -2.727218   7.437719"
      ]
     },
     "execution_count": 60,
     "metadata": {},
     "output_type": "execute_result"
    }
   ],
   "source": [
    "k_t.head()"
   ]
  },
  {
   "cell_type": "code",
   "execution_count": 61,
   "id": "8fbce172-49e6-4a92-8817-0602d8284a65",
   "metadata": {},
   "outputs": [
    {
     "data": {
      "text/plain": [
       "2102.5305831313512"
      ]
     },
     "execution_count": 61,
     "metadata": {},
     "output_type": "execute_result"
    }
   ],
   "source": [
    "np.sum(k_t[\"hata_kare\"])"
   ]
  },
  {
   "cell_type": "code",
   "execution_count": 62,
   "id": "f89e9753-ef2c-49db-a003-f907009657b1",
   "metadata": {},
   "outputs": [
    {
     "data": {
      "text/plain": [
       "10.512652915656757"
      ]
     },
     "execution_count": 62,
     "metadata": {},
     "output_type": "execute_result"
    }
   ],
   "source": [
    "np.mean(k_t[\"hata_kare\"])"
   ]
  },
  {
   "cell_type": "code",
   "execution_count": 63,
   "id": "8a112c7a-3ef5-4dd0-a9c9-5acbd7499c6e",
   "metadata": {},
   "outputs": [
    {
     "data": {
      "text/plain": [
       "3.2423221486546887"
      ]
     },
     "execution_count": 63,
     "metadata": {},
     "output_type": "execute_result"
    }
   ],
   "source": [
    "np.sqrt(np.mean(k_t[\"hata_kare\"])) # hata kareleri ortalamasının karekök değeri"
   ]
  },
  {
   "cell_type": "code",
   "execution_count": 64,
   "id": "b0feeb1e-e9c5-4cee-a2b0-474005de166b",
   "metadata": {},
   "outputs": [],
   "source": [
    "k_t[\"hata_abs\"] = k_t[\"hata\"].abs()"
   ]
  },
  {
   "cell_type": "code",
   "execution_count": 65,
   "id": "7bb5b9b0-761d-4512-8da4-594ea7233611",
   "metadata": {},
   "outputs": [
    {
     "data": {
      "text/plain": [
       "2.549806038927486"
      ]
     },
     "execution_count": 65,
     "metadata": {},
     "output_type": "execute_result"
    }
   ],
   "source": [
    "k_t[\"hata_abs\"].mean() # hata mutlak değerler ortalaması"
   ]
  },
  {
   "cell_type": "code",
   "execution_count": 66,
   "id": "2ade12d6-6f1d-47b0-b787-e77d822f495d",
   "metadata": {},
   "outputs": [
    {
     "data": {
      "text/plain": [
       "0    4.129225\n",
       "1    1.252026\n",
       "2    1.449776\n",
       "3    4.265605\n",
       "4   -2.727218\n",
       "5   -0.246162\n",
       "6    2.034050\n",
       "7    0.453502\n",
       "8   -2.641409\n",
       "9   -5.930414\n",
       "dtype: float64"
      ]
     },
     "execution_count": 66,
     "metadata": {},
     "output_type": "execute_result"
    }
   ],
   "source": [
    "model.resid[0:10] # artıklar"
   ]
  },
  {
   "cell_type": "code",
   "execution_count": 67,
   "id": "43b04f83-a98e-41b0-8809-17c9cfd20aa7",
   "metadata": {},
   "outputs": [
    {
     "data": {
      "image/png": "[encoded data removed]",
      "text/plain": [
       "<Figure size 432x288 with 1 Axes>"
      ]
     },
     "metadata": {
      "needs_background": "light"
     },
     "output_type": "display_data"
    }
   ],
   "source": [
    "plt.plot(model.resid); # artıkların görselleştirilmesi , buralardaki hatanın 8 ve -8 değerlerine yakın olduğu noktalar önemli"
   ]
  },
  {
   "cell_type": "markdown",
   "id": "d39d729c-bee8-49a2-be3e-a394d06a871f",
   "metadata": {},
   "source": [
    "# ----------------------------------------------------------------------"
   ]
  },
  {
   "cell_type": "markdown",
   "id": "de16d56c-5336-4383-a18c-c0f02782b868",
   "metadata": {
    "jp-MarkdownHeadingCollapsed": true,
    "tags": []
   },
   "source": [
    "Regresyon modellerinde hata değerleri hesaplanıp optimum parametreler bulunmaya çalışılınır:\n",
    "\n",
    "#### Yapay sinir ağlarında hatalar (artıklar):\n",
    "\n",
    "a -> Tekrar dağıtılıp bir ceza işlemi gerçekleştirilip bir iterasyon sonrası küçültülmeye çalışılır\n",
    "\n",
    "#### Ağaca dağalı yöntemlerde:\n",
    "\n",
    "a -> Model kurulduktan sonraya ortaya çıkan artıklar üzerine birdaha model kurulur (additive model) -> buradan elde edilen hatalar üzerinde birdaha model kurulur ve işlem böyle devam eder. Sonuçta kümülatif olarak hatalar üzerine tek bir model formunda görülen bir modeller serisi oluşturularak hata optimizasyonuna ulaşmaya çalışılır.\n",
    "\n",
    " Bu uygulamalarda genel amacımız hata optimizasyonu oluyor. Ne yapmaya çalışıyorduk ?= \n",
    " \n",
    " #### *Makine öğrenmesinde amaç her zaman buradaki hataları minimum yapacak şekilde ilgili parametrelere ulaşmak olacaktır.*\n"
   ]
  },
  {
   "cell_type": "markdown",
   "id": "8db48cde-4f41-4287-a6ce-4ddd89879af1",
   "metadata": {
    "tags": []
   },
   "source": [
    "## Kritik Bilgi (veri seti gözlemleri ve hatalara yaklaşım üzerine) :\n",
    "\n",
    "Hatayı muhattaplara sunarken direkt rmse, sme, mae gibi şekillerde sunmak aldatıcı olur. \n",
    "\n",
    "Modeli yaptıktan sonra hatayı sunarken HATALARIN DAĞILIMINA bakmak gerekir. \n",
    "\n",
    "#### Burada hataları görselleştirip, başarılı ve başarısız olduğumuz kısımları incelememiz gerekir.\n",
    "\n",
    "Hata raporunuz: \"Veri setinin %95'inde 0.001 hata yaptım, geri kalan %5'inde X kadar hata yaptım.\" şeklinde olmalı.\n",
    "\n",
    "Geri kalan %5'e odaklanıp:\n",
    "\n",
    "*Gözlemlerin kendilerine gidip yapısal bir sıknıtı olup olmadığını incelememiz gerekir.*\n",
    "\n",
    "*Gözlemlerin taşıdığı karakteristiği (aykırılıklara vesaire) odaklanmamız ve neden başarılı tahmin yapamadığımıza odaklanmamız gerekir*\n",
    "\n",
    "Bu şekilde neden doğru tahmin yapılamadığını düşünen kişilerin algoritmalarını bugün kullanıyoruz. Yani %5'e odaklanma fikrini 1990'larda pratiğe geçiren insanların."
   ]
  },
  {
   "cell_type": "code",
   "execution_count": null,
   "id": "cb96e9e0-4f90-42e9-a2bc-e4512d5a66c8",
   "metadata": {},
   "outputs": [],
   "source": []
  }
 ],
 "metadata": {
  "kernelspec": {
   "display_name": "Python 3 (ipykernel)",
   "language": "python",
   "name": "python3"
  },
  "language_info": {
   "codemirror_mode": {
    "name": "ipython",
    "version": 3
   },
   "file_extension": ".py",
   "mimetype": "text/x-python",
   "name": "python",
   "nbconvert_exporter": "python",
   "pygments_lexer": "ipython3",
   "version": "3.9.7"
  }
 },
 "nbformat": 4,
 "nbformat_minor": 5
}
