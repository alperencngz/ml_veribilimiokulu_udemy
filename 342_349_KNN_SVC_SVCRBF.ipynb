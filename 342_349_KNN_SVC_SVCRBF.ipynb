{
 "cells": [
  {
   "cell_type": "markdown",
   "id": "873c4924-7cca-4e62-9f0a-0e3f04973d26",
   "metadata": {
    "jp-MarkdownHeadingCollapsed": true,
    "tags": []
   },
   "source": [
    "# KNN (K Nearest Neighbour)"
   ]
  },
  {
   "cell_type": "code",
   "execution_count": 1,
   "id": "55c5aed8-4da8-46fa-b3fd-54d920d32b14",
   "metadata": {},
   "outputs": [],
   "source": [
    "import numpy as np\n",
    "import pandas as pd \n",
    "import statsmodels.api as sm\n",
    "import statsmodels.formula.api as smf\n",
    "import seaborn as sns\n",
    "from sklearn.preprocessing import scale \n",
    "from sklearn.model_selection import train_test_split, GridSearchCV, cross_val_score\n",
    "from sklearn.metrics import confusion_matrix, accuracy_score, classification_report\n",
    "from sklearn.metrics import roc_auc_score,roc_curve\n",
    "import statsmodels.formula.api as smf\n",
    "import matplotlib.pyplot as plt\n",
    "from sklearn.neighbors import KNeighborsClassifier\n",
    "from sklearn.discriminant_analysis import LinearDiscriminantAnalysis\n",
    "from sklearn.linear_model import LogisticRegression\n",
    "from sklearn.svm import SVC\n",
    "from sklearn.naive_bayes import GaussianNB\n",
    "from sklearn import tree\n",
    "from sklearn.ensemble import RandomForestClassifier\n",
    "from sklearn.ensemble import GradientBoostingClassifier\n",
    "from xgboost import XGBClassifier\n",
    "from lightgbm import LGBMClassifier\n",
    "from catboost import CatBoostClassifier\n",
    "\n",
    "from warnings import filterwarnings\n",
    "filterwarnings('ignore')"
   ]
  },
  {
   "cell_type": "markdown",
   "id": "cd7ac016-6bc5-4d47-a6ab-97ae7a21f107",
   "metadata": {
    "tags": []
   },
   "source": [
    "## Model ve Tahmin"
   ]
  },
  {
   "cell_type": "code",
   "execution_count": 2,
   "id": "8a96fc1d-d25f-451b-84c8-05ced03237c4",
   "metadata": {},
   "outputs": [],
   "source": [
    "# KNN'de hiperparametremiz komşu sayısı (k), tuning kısmında buna bakacağız"
   ]
  },
  {
   "cell_type": "code",
   "execution_count": 3,
   "id": "8f46b038-8b46-492d-910d-8fef66b8ed57",
   "metadata": {},
   "outputs": [],
   "source": [
    "diabetes = pd.read_csv(\"diabetes.csv\")\n",
    "df = diabetes.copy()\n",
    "df = df.dropna()\n",
    "y = df[\"Outcome\"]\n",
    "X = df.drop(['Outcome'], axis=1)\n",
    "X_train, X_test, y_train, y_test = train_test_split(X, y, \n",
    "                                                    test_size=0.30, \n",
    "                                                    random_state=42)"
   ]
  },
  {
   "cell_type": "code",
   "execution_count": 5,
   "id": "e569f09a-ec89-4b87-9735-61b9a4b6ea82",
   "metadata": {},
   "outputs": [],
   "source": [
    "knn = KNeighborsClassifier()"
   ]
  },
  {
   "cell_type": "code",
   "execution_count": 8,
   "id": "5126c219-328f-499b-a741-1aa2fb94d397",
   "metadata": {},
   "outputs": [
    {
     "data": {
      "text/plain": [
       "{'algorithm': 'auto',\n",
       " 'leaf_size': 30,\n",
       " 'metric': 'minkowski',\n",
       " 'metric_params': None,\n",
       " 'n_jobs': None,\n",
       " 'n_neighbors': 5,\n",
       " 'p': 2,\n",
       " 'weights': 'uniform'}"
      ]
     },
     "execution_count": 8,
     "metadata": {},
     "output_type": "execute_result"
    }
   ],
   "source": [
    "knn_model = knn.fit(X_train, y_train)\n",
    "knn_model.get_params()"
   ]
  },
  {
   "cell_type": "code",
   "execution_count": 9,
   "id": "462c180f-32c4-4d3a-9f9a-62d75bbd2d76",
   "metadata": {},
   "outputs": [],
   "source": [
    "y_pred = knn_model.predict(X_test)"
   ]
  },
  {
   "cell_type": "code",
   "execution_count": 10,
   "id": "505ac5c3-3fb6-43ac-ae07-0897896006cf",
   "metadata": {},
   "outputs": [
    {
     "data": {
      "text/plain": [
       "0.6883116883116883"
      ]
     },
     "execution_count": 10,
     "metadata": {},
     "output_type": "execute_result"
    }
   ],
   "source": [
    "accuracy_score(y_test, y_pred)"
   ]
  },
  {
   "cell_type": "code",
   "execution_count": 11,
   "id": "b9a7eaba-31c2-4400-bdaa-728945aff083",
   "metadata": {},
   "outputs": [
    {
     "name": "stdout",
     "output_type": "stream",
     "text": [
      "              precision    recall  f1-score   support\n",
      "\n",
      "           0       0.77      0.75      0.76       151\n",
      "           1       0.55      0.56      0.56        80\n",
      "\n",
      "    accuracy                           0.69       231\n",
      "   macro avg       0.66      0.66      0.66       231\n",
      "weighted avg       0.69      0.69      0.69       231\n",
      "\n"
     ]
    }
   ],
   "source": [
    "print(classification_report(y_test, y_pred))"
   ]
  },
  {
   "cell_type": "markdown",
   "id": "b5f98748-fdbe-4674-bd1b-5908af521ecc",
   "metadata": {
    "tags": []
   },
   "source": [
    "## Model Tuning"
   ]
  },
  {
   "cell_type": "code",
   "execution_count": 12,
   "id": "55872cb8-9bb8-4a24-838d-e05c3bf65427",
   "metadata": {},
   "outputs": [],
   "source": [
    "knn_params = {\"n_neighbors\": np.arange(1,50)}"
   ]
  },
  {
   "cell_type": "code",
   "execution_count": 13,
   "id": "5854ee69-dc51-420d-bbfb-e72f721215e2",
   "metadata": {},
   "outputs": [
    {
     "data": {
      "text/plain": [
       "GridSearchCV(cv=10, estimator=KNeighborsClassifier(),\n",
       "             param_grid={'n_neighbors': array([ 1,  2,  3,  4,  5,  6,  7,  8,  9, 10, 11, 12, 13, 14, 15, 16, 17,\n",
       "       18, 19, 20, 21, 22, 23, 24, 25, 26, 27, 28, 29, 30, 31, 32, 33, 34,\n",
       "       35, 36, 37, 38, 39, 40, 41, 42, 43, 44, 45, 46, 47, 48, 49])})"
      ]
     },
     "execution_count": 13,
     "metadata": {},
     "output_type": "execute_result"
    }
   ],
   "source": [
    "knn = KNeighborsClassifier()\n",
    "knn_cv = GridSearchCV(knn, knn_params, cv=10)\n",
    "knn_cv.fit(X_train, y_train)"
   ]
  },
  {
   "cell_type": "code",
   "execution_count": 14,
   "id": "dea25c4e-14fd-4d30-9596-02d8eebfa7c4",
   "metadata": {},
   "outputs": [
    {
     "name": "stdout",
     "output_type": "stream",
     "text": [
      "En iyi skor:0.748637316561845\n",
      "En iyi parametreler: {'n_neighbors': 11}\n"
     ]
    }
   ],
   "source": [
    "print(\"En iyi skor:\" + str(knn_cv.best_score_))\n",
    "print(\"En iyi parametreler: \" + str(knn_cv.best_params_))"
   ]
  },
  {
   "cell_type": "code",
   "execution_count": 15,
   "id": "8f62568e-dc9b-434f-b7dc-86cfe98d98e0",
   "metadata": {},
   "outputs": [],
   "source": [
    "# final model"
   ]
  },
  {
   "cell_type": "code",
   "execution_count": 16,
   "id": "5731c1b1-2833-45dc-a1d4-78a357cf9ff7",
   "metadata": {},
   "outputs": [],
   "source": [
    "knn = KNeighborsClassifier(11)\n",
    "knn_tuned = knn.fit(X_train, y_train)"
   ]
  },
  {
   "cell_type": "code",
   "execution_count": 18,
   "id": "ac48e0d9-40df-467b-a473-16580efe4752",
   "metadata": {},
   "outputs": [
    {
     "data": {
      "text/plain": [
       "0.7316017316017316"
      ]
     },
     "execution_count": 18,
     "metadata": {},
     "output_type": "execute_result"
    }
   ],
   "source": [
    "knn_tuned.score(X_test, y_test)"
   ]
  },
  {
   "cell_type": "code",
   "execution_count": 19,
   "id": "fab31ee2-4d71-42b9-8bc1-6e2410935c80",
   "metadata": {},
   "outputs": [],
   "source": [
    "y_pred = knn_tuned.predict(X_test)"
   ]
  },
  {
   "cell_type": "code",
   "execution_count": 20,
   "id": "9120b293-1c48-4ff5-ae7d-26f37e6e6f83",
   "metadata": {},
   "outputs": [
    {
     "data": {
      "text/plain": [
       "0.7316017316017316"
      ]
     },
     "execution_count": 20,
     "metadata": {},
     "output_type": "execute_result"
    }
   ],
   "source": [
    "accuracy_score(y_test, y_pred)"
   ]
  },
  {
   "cell_type": "code",
   "execution_count": null,
   "id": "9b77a800-3dac-477b-82e9-a6e0e1f020c3",
   "metadata": {},
   "outputs": [],
   "source": []
  },
  {
   "cell_type": "markdown",
   "id": "a58117dc-c2d0-4348-8be5-8b040985d1d4",
   "metadata": {
    "jp-MarkdownHeadingCollapsed": true,
    "tags": []
   },
   "source": [
    "# Destek Vektör Sınıflandırıcısı (SVC)"
   ]
  },
  {
   "cell_type": "markdown",
   "id": "15167fba-1401-4cfe-9e21-23b6f0818285",
   "metadata": {},
   "source": [
    "## Model ve Tahmin"
   ]
  },
  {
   "cell_type": "code",
   "execution_count": 21,
   "id": "962f01f0-8989-4c55-9e62-0cb6bf88d992",
   "metadata": {},
   "outputs": [],
   "source": [
    "df = diabetes.copy()\n",
    "df = df.dropna()\n",
    "y = df[\"Outcome\"]\n",
    "X = df.drop(['Outcome'], axis=1)\n",
    "X_train, X_test, y_train, y_test = train_test_split(X, y, \n",
    "                                                    test_size=0.30, \n",
    "                                                    random_state=42)"
   ]
  },
  {
   "cell_type": "code",
   "execution_count": 40,
   "id": "4928707a-32a4-408d-9800-6a92a3e07828",
   "metadata": {
    "collapsed": true,
    "jupyter": {
     "outputs_hidden": true
    },
    "tags": []
   },
   "outputs": [
    {
     "data": {
      "text/plain": [
       "{'C': 5,\n",
       " 'break_ties': False,\n",
       " 'cache_size': 200,\n",
       " 'class_weight': None,\n",
       " 'coef0': 0.0,\n",
       " 'decision_function_shape': 'ovr',\n",
       " 'degree': 3,\n",
       " 'gamma': 'scale',\n",
       " 'kernel': 'linear',\n",
       " 'max_iter': -1,\n",
       " 'probability': False,\n",
       " 'random_state': None,\n",
       " 'shrinking': True,\n",
       " 'tol': 0.001,\n",
       " 'verbose': False}"
      ]
     },
     "execution_count": 40,
     "metadata": {},
     "output_type": "execute_result"
    }
   ],
   "source": [
    "svm_model = SVC(kernel = \"linear\", C = 5).fit(X_train, y_train)\n",
    "svm_model.get_params()"
   ]
  },
  {
   "cell_type": "code",
   "execution_count": 41,
   "id": "81a0790c-18d0-40b4-92e6-9f35de0e2040",
   "metadata": {},
   "outputs": [],
   "source": [
    "y_pred = svm_model.predict(X_test)"
   ]
  },
  {
   "cell_type": "code",
   "execution_count": 42,
   "id": "f8ae7f4d-973c-4c6c-b7f7-bafc894c7b69",
   "metadata": {},
   "outputs": [
    {
     "data": {
      "text/plain": [
       "0.7445887445887446"
      ]
     },
     "execution_count": 42,
     "metadata": {},
     "output_type": "execute_result"
    }
   ],
   "source": [
    "accuracy_score(y_test, y_pred)"
   ]
  },
  {
   "cell_type": "markdown",
   "id": "688c93bf-7540-48d6-9de8-bd55a37e550b",
   "metadata": {},
   "source": [
    "## Model Tuning"
   ]
  },
  {
   "cell_type": "code",
   "execution_count": 26,
   "id": "c8e5a902-a085-402b-bcad-3061e3335535",
   "metadata": {},
   "outputs": [
    {
     "name": "stdout",
     "output_type": "stream",
     "text": [
      "Fitting 10 folds for each of 9 candidates, totalling 90 fits\n"
     ]
    },
    {
     "data": {
      "text/plain": [
       "GridSearchCV(cv=10, estimator=SVC(kernel='linear'), n_jobs=-1,\n",
       "             param_grid={'C': array([1, 2, 3, 4, 5, 6, 7, 8, 9])}, verbose=2)"
      ]
     },
     "execution_count": 26,
     "metadata": {},
     "output_type": "execute_result"
    }
   ],
   "source": [
    "svc_params = {\"C\": np.arange(1,10)}\n",
    "\n",
    "svc = SVC(kernel = \"linear\")\n",
    "\n",
    "svc_cv_model = GridSearchCV(svc,svc_params, \n",
    "                            cv = 10, \n",
    "                            n_jobs = -1, \n",
    "                            verbose = 2 )\n",
    "\n",
    "svc_cv_model.fit(X_train, y_train)"
   ]
  },
  {
   "cell_type": "code",
   "execution_count": 34,
   "id": "783059db-280e-4978-866f-351475964d85",
   "metadata": {},
   "outputs": [
    {
     "name": "stdout",
     "output_type": "stream",
     "text": [
      "En iyi parametreler: {'C': 1}\n"
     ]
    }
   ],
   "source": [
    "print(\"En iyi parametreler: \" + str(svc_cv_model.best_params_))"
   ]
  },
  {
   "cell_type": "code",
   "execution_count": 35,
   "id": "ba070847-f194-405a-83ca-853620a1d322",
   "metadata": {
    "tags": []
   },
   "outputs": [],
   "source": [
    "# final model"
   ]
  },
  {
   "cell_type": "code",
   "execution_count": 43,
   "id": "ca3b33ca-3207-436c-ab62-96105106640c",
   "metadata": {
    "collapsed": true,
    "jupyter": {
     "outputs_hidden": true
    },
    "tags": []
   },
   "outputs": [
    {
     "data": {
      "text/plain": [
       "{'C': 1,\n",
       " 'break_ties': False,\n",
       " 'cache_size': 200,\n",
       " 'class_weight': None,\n",
       " 'coef0': 0.0,\n",
       " 'decision_function_shape': 'ovr',\n",
       " 'degree': 3,\n",
       " 'gamma': 'scale',\n",
       " 'kernel': 'linear',\n",
       " 'max_iter': -1,\n",
       " 'probability': False,\n",
       " 'random_state': None,\n",
       " 'shrinking': True,\n",
       " 'tol': 0.001,\n",
       " 'verbose': False}"
      ]
     },
     "execution_count": 43,
     "metadata": {},
     "output_type": "execute_result"
    }
   ],
   "source": [
    "svc_tuned = SVC(kernel = \"linear\", C = 1).fit(X_train, y_train)\n",
    "svc_tuned.get_params()"
   ]
  },
  {
   "cell_type": "code",
   "execution_count": 44,
   "id": "733e609e-6849-4ba7-a888-bbdc6cdfc820",
   "metadata": {},
   "outputs": [
    {
     "data": {
      "text/plain": [
       "0.7445887445887446"
      ]
     },
     "execution_count": 44,
     "metadata": {},
     "output_type": "execute_result"
    }
   ],
   "source": [
    "y_pred = svc_tuned.predict(X_test)\n",
    "accuracy_score(y_test, svc_tuned.predict(X_test))"
   ]
  },
  {
   "cell_type": "code",
   "execution_count": 38,
   "id": "6c4b292b-0918-47d6-ab4d-eec8c368ae6f",
   "metadata": {
    "tags": []
   },
   "outputs": [],
   "source": [
    "# NEDEN ACCURACY_SCORE AYNI CIKIYOR?"
   ]
  },
  {
   "cell_type": "markdown",
   "id": "445c35c0-32b6-4c10-86d0-e86776bdda10",
   "metadata": {
    "jp-MarkdownHeadingCollapsed": true,
    "tags": []
   },
   "source": [
    "# SVC RBF"
   ]
  },
  {
   "cell_type": "markdown",
   "id": "3fb7c859-42f0-4cf9-ab56-1b6518e52ef4",
   "metadata": {},
   "source": [
    "## Model ve Tahmin"
   ]
  },
  {
   "cell_type": "code",
   "execution_count": 45,
   "id": "49aeaaa5-ee71-4b76-9b5f-4a670da77288",
   "metadata": {},
   "outputs": [],
   "source": [
    "df = diabetes.copy()\n",
    "df = df.dropna()\n",
    "y = df[\"Outcome\"]\n",
    "X = df.drop(['Outcome'], axis=1)\n",
    "X_train, X_test, y_train, y_test = train_test_split(X, y, \n",
    "                                                    test_size=0.30, \n",
    "                                                    random_state=42)"
   ]
  },
  {
   "cell_type": "code",
   "execution_count": 55,
   "id": "d9359ede-d94c-47ad-9a12-302e9ab39b29",
   "metadata": {},
   "outputs": [
    {
     "data": {
      "text/plain": [
       "{'C': 1.0,\n",
       " 'break_ties': False,\n",
       " 'cache_size': 200,\n",
       " 'class_weight': None,\n",
       " 'coef0': 0.0,\n",
       " 'decision_function_shape': 'ovr',\n",
       " 'degree': 3,\n",
       " 'gamma': 'scale',\n",
       " 'kernel': 'rbf',\n",
       " 'max_iter': -1,\n",
       " 'probability': False,\n",
       " 'random_state': None,\n",
       " 'shrinking': True,\n",
       " 'tol': 0.001,\n",
       " 'verbose': False}"
      ]
     },
     "execution_count": 55,
     "metadata": {},
     "output_type": "execute_result"
    }
   ],
   "source": [
    "svc_model = SVC(kernel = \"rbf\").fit(X_train, y_train)\n",
    "svc_model.get_params()"
   ]
  },
  {
   "cell_type": "code",
   "execution_count": 51,
   "id": "57230364-2cd0-4e3a-974e-17f7cabaa5f1",
   "metadata": {
    "collapsed": true,
    "jupyter": {
     "outputs_hidden": true
    },
    "tags": []
   },
   "outputs": [
    {
     "data": {
      "text/plain": [
       "['C',\n",
       " '__abstractmethods__',\n",
       " '__class__',\n",
       " '__delattr__',\n",
       " '__dict__',\n",
       " '__dir__',\n",
       " '__doc__',\n",
       " '__eq__',\n",
       " '__format__',\n",
       " '__ge__',\n",
       " '__getattribute__',\n",
       " '__getstate__',\n",
       " '__gt__',\n",
       " '__hash__',\n",
       " '__init__',\n",
       " '__init_subclass__',\n",
       " '__le__',\n",
       " '__lt__',\n",
       " '__module__',\n",
       " '__ne__',\n",
       " '__new__',\n",
       " '__reduce__',\n",
       " '__reduce_ex__',\n",
       " '__repr__',\n",
       " '__setattr__',\n",
       " '__setstate__',\n",
       " '__sizeof__',\n",
       " '__str__',\n",
       " '__subclasshook__',\n",
       " '__weakref__',\n",
       " '_abc_impl',\n",
       " '_check_n_features',\n",
       " '_check_proba',\n",
       " '_compute_kernel',\n",
       " '_decision_function',\n",
       " '_dense_decision_function',\n",
       " '_dense_fit',\n",
       " '_dense_predict',\n",
       " '_dense_predict_proba',\n",
       " '_dual_coef_',\n",
       " '_estimator_type',\n",
       " '_gamma',\n",
       " '_get_coef',\n",
       " '_get_param_names',\n",
       " '_get_tags',\n",
       " '_impl',\n",
       " '_intercept_',\n",
       " '_more_tags',\n",
       " '_n_support',\n",
       " '_pairwise',\n",
       " '_predict_log_proba',\n",
       " '_predict_proba',\n",
       " '_probA',\n",
       " '_probB',\n",
       " '_repr_html_',\n",
       " '_repr_html_inner',\n",
       " '_repr_mimebundle_',\n",
       " '_sparse',\n",
       " '_sparse_decision_function',\n",
       " '_sparse_fit',\n",
       " '_sparse_kernels',\n",
       " '_sparse_predict',\n",
       " '_sparse_predict_proba',\n",
       " '_validate_data',\n",
       " '_validate_for_predict',\n",
       " '_validate_targets',\n",
       " '_warn_from_fit_status',\n",
       " 'break_ties',\n",
       " 'cache_size',\n",
       " 'class_weight',\n",
       " 'class_weight_',\n",
       " 'classes_',\n",
       " 'coef0',\n",
       " 'coef_',\n",
       " 'decision_function',\n",
       " 'decision_function_shape',\n",
       " 'degree',\n",
       " 'dual_coef_',\n",
       " 'epsilon',\n",
       " 'fit',\n",
       " 'fit_status_',\n",
       " 'gamma',\n",
       " 'get_params',\n",
       " 'intercept_',\n",
       " 'kernel',\n",
       " 'max_iter',\n",
       " 'n_features_in_',\n",
       " 'n_support_',\n",
       " 'nu',\n",
       " 'predict',\n",
       " 'predict_log_proba',\n",
       " 'predict_proba',\n",
       " 'probA_',\n",
       " 'probB_',\n",
       " 'probability',\n",
       " 'random_state',\n",
       " 'score',\n",
       " 'set_params',\n",
       " 'shape_fit_',\n",
       " 'shrinking',\n",
       " 'support_',\n",
       " 'support_vectors_',\n",
       " 'tol',\n",
       " 'verbose']"
      ]
     },
     "execution_count": 51,
     "metadata": {},
     "output_type": "execute_result"
    }
   ],
   "source": [
    "dir(svc_model)"
   ]
  },
  {
   "cell_type": "code",
   "execution_count": 59,
   "id": "ce05622a-14d3-4280-85a2-f68c7d52f617",
   "metadata": {
    "collapsed": true,
    "jupyter": {
     "outputs_hidden": true
    },
    "tags": []
   },
   "outputs": [
    {
     "data": {
      "text/plain": [
       "0.7359307359307359"
      ]
     },
     "execution_count": 59,
     "metadata": {},
     "output_type": "execute_result"
    },
    {
     "name": "stdout",
     "output_type": "stream",
     "text": [
      "[CV] END .............................C=0.0001, gamma=0.0001; total time=   0.0s\n",
      "[CV] END ..............................C=0.0001, gamma=0.001; total time=   0.0s\n",
      "[CV] END ..............................C=0.0001, gamma=0.001; total time=   0.0s\n",
      "[CV] END ................................C=0.0001, gamma=0.1; total time=   0.0s\n",
      "[CV] END ..................................C=0.0001, gamma=1; total time=   0.0s\n",
      "[CV] END ..................................C=0.0001, gamma=1; total time=   0.0s\n",
      "[CV] END ..................................C=0.0001, gamma=5; total time=   0.0s\n",
      "[CV] END .................................C=0.0001, gamma=50; total time=   0.0s\n",
      "[CV] END .................................C=0.0001, gamma=50; total time=   0.0s\n",
      "[CV] END ................................C=0.0001, gamma=100; total time=   0.0s\n",
      "[CV] END ................................C=0.0001, gamma=100; total time=   0.0s\n",
      "[CV] END .................................C=0.001, gamma=0.1; total time=   0.0s\n",
      "[CV] END .................................C=0.001, gamma=0.1; total time=   0.0s\n",
      "[CV] END ...................................C=0.001, gamma=1; total time=   0.0s\n",
      "[CV] END ...................................C=0.001, gamma=1; total time=   0.0s\n",
      "[CV] END ..................................C=0.001, gamma=10; total time=   0.0s\n",
      "[CV] END ..................................C=0.001, gamma=10; total time=   0.0s\n",
      "[CV] END ..................................C=0.001, gamma=10; total time=   0.0s\n",
      "[CV] END ..................................C=0.001, gamma=10; total time=   0.0s\n",
      "[CV] END .....................................C=0.1, gamma=1; total time=   0.0s\n",
      "[CV] END .....................................C=0.1, gamma=1; total time=   0.0s\n",
      "[CV] END .....................................C=0.1, gamma=1; total time=   0.0s\n",
      "[CV] END .....................................C=0.1, gamma=1; total time=   0.0s\n",
      "[CV] END .....................................C=0.1, gamma=1; total time=   0.0s\n",
      "[CV] END .....................................C=0.1, gamma=1; total time=   0.0s\n",
      "[CV] END .....................................C=0.1, gamma=1; total time=   0.0s\n",
      "[CV] END .....................................C=0.1, gamma=1; total time=   0.0s\n",
      "[CV] END ...................................C=1, gamma=0.001; total time=   0.0s\n",
      "[CV] END ...................................C=1, gamma=0.001; total time=   0.0s\n",
      "[CV] END ...................................C=1, gamma=0.001; total time=   0.0s\n",
      "[CV] END ...................................C=1, gamma=0.001; total time=   0.0s\n",
      "[CV] END .....................................C=1, gamma=0.1; total time=   0.0s\n",
      "[CV] END .....................................C=1, gamma=0.1; total time=   0.0s\n",
      "[CV] END .....................................C=1, gamma=0.1; total time=   0.0s\n",
      "[CV] END .....................................C=1, gamma=0.1; total time=   0.0s\n",
      "[CV] END ..................................C=5, gamma=0.0001; total time=   0.0s\n",
      "[CV] END ..................................C=5, gamma=0.0001; total time=   0.0s\n",
      "[CV] END ...................................C=5, gamma=0.001; total time=   0.0s\n",
      "[CV] END ...................................C=5, gamma=0.001; total time=   0.0s\n",
      "[CV] END ...................................C=5, gamma=0.001; total time=   0.0s\n",
      "[CV] END ...................................C=5, gamma=0.001; total time=   0.0s\n",
      "[CV] END ...................................C=5, gamma=0.001; total time=   0.0s\n",
      "[CV] END ...................................C=5, gamma=0.001; total time=   0.0s\n",
      "[CV] END ......................................C=5, gamma=50; total time=   0.0s\n",
      "[CV] END ......................................C=5, gamma=50; total time=   0.0s\n",
      "[CV] END ......................................C=5, gamma=50; total time=   0.0s\n",
      "[CV] END ......................................C=5, gamma=50; total time=   0.0s\n",
      "[CV] END ......................................C=5, gamma=50; total time=   0.0s\n",
      "[CV] END ......................................C=5, gamma=50; total time=   0.0s\n",
      "[CV] END .....................................C=5, gamma=100; total time=   0.0s\n",
      "[CV] END .....................................C=5, gamma=100; total time=   0.0s\n",
      "[CV] END ......................................C=10, gamma=5; total time=   0.0s\n",
      "[CV] END ......................................C=10, gamma=5; total time=   0.0s\n",
      "[CV] END ......................................C=10, gamma=5; total time=   0.0s\n",
      "[CV] END ......................................C=10, gamma=5; total time=   0.0s\n",
      "[CV] END ......................................C=10, gamma=5; total time=   0.0s\n",
      "[CV] END ......................................C=10, gamma=5; total time=   0.0s\n",
      "[CV] END ......................................C=10, gamma=5; total time=   0.0s\n",
      "[CV] END ......................................C=10, gamma=5; total time=   0.0s\n",
      "[CV] END .................................C=50, gamma=0.0001; total time=   0.0s\n",
      "[CV] END .................................C=50, gamma=0.0001; total time=   0.0s\n",
      "[CV] END ..................................C=50, gamma=0.001; total time=   0.0s\n",
      "[CV] END ..................................C=50, gamma=0.001; total time=   0.0s\n",
      "[CV] END ..................................C=50, gamma=0.001; total time=   0.0s\n",
      "[CV] END ..................................C=50, gamma=0.001; total time=   0.0s\n",
      "[CV] END ..................................C=50, gamma=0.001; total time=   0.0s\n",
      "[CV] END ..................................C=50, gamma=0.001; total time=   0.0s\n",
      "[CV] END ....................................C=50, gamma=100; total time=   0.0s\n",
      "[CV] END ....................................C=50, gamma=100; total time=   0.0s\n",
      "[CV] END ....................................C=50, gamma=100; total time=   0.0s\n",
      "[CV] END ....................................C=50, gamma=100; total time=   0.0s\n",
      "[CV] END ....................................C=50, gamma=100; total time=   0.0s\n",
      "[CV] END ....................................C=50, gamma=100; total time=   0.0s\n",
      "[CV] END ....................................C=50, gamma=100; total time=   0.0s\n",
      "[CV] END ....................................C=50, gamma=100; total time=   0.0s\n",
      "[CV] END .....................................C=100, gamma=1; total time=   0.0s\n",
      "[CV] END .....................................C=100, gamma=5; total time=   0.0s\n",
      "[CV] END ....................................C=100, gamma=10; total time=   0.0s\n",
      "[CV] END ....................................C=100, gamma=10; total time=   0.0s\n",
      "[CV] END ....................................C=100, gamma=50; total time=   0.0s\n",
      "[CV] END ...................................C=100, gamma=100; total time=   0.0s\n",
      "[CV] END .............................C=0.0001, gamma=0.0001; total time=   0.0s\n",
      "[CV] END .............................C=0.0001, gamma=0.0001; total time=   0.0s\n",
      "[CV] END ..............................C=0.0001, gamma=0.001; total time=   0.0s\n",
      "[CV] END ................................C=0.0001, gamma=0.1; total time=   0.0s\n",
      "[CV] END ..................................C=0.0001, gamma=1; total time=   0.0s\n",
      "[CV] END ..................................C=0.0001, gamma=5; total time=   0.0s\n",
      "[CV] END ..................................C=0.0001, gamma=5; total time=   0.0s\n",
      "[CV] END .................................C=0.0001, gamma=10; total time=   0.0s\n",
      "[CV] END .................................C=0.0001, gamma=10; total time=   0.0s\n",
      "[CV] END ..............................C=0.001, gamma=0.0001; total time=   0.0s\n",
      "[CV] END ..............................C=0.001, gamma=0.0001; total time=   0.0s\n",
      "[CV] END ..............................C=0.001, gamma=0.0001; total time=   0.0s\n",
      "[CV] END ..............................C=0.001, gamma=0.0001; total time=   0.0s\n",
      "[CV] END ...................................C=0.001, gamma=1; total time=   0.0s\n",
      "[CV] END ...................................C=0.001, gamma=1; total time=   0.0s\n",
      "[CV] END ...................................C=0.001, gamma=1; total time=   0.0s\n",
      "[CV] END ...................................C=0.001, gamma=1; total time=   0.0s\n",
      "[CV] END .................................C=0.001, gamma=100; total time=   0.0s\n",
      "[CV] END .................................C=0.001, gamma=100; total time=   0.0s\n",
      "[CV] END .................................C=0.001, gamma=100; total time=   0.0s\n",
      "[CV] END .................................C=0.001, gamma=100; total time=   0.0s\n",
      "[CV] END .................................C=0.001, gamma=100; total time=   0.0s\n",
      "[CV] END .................................C=0.001, gamma=100; total time=   0.0s\n",
      "[CV] END .................................C=0.001, gamma=100; total time=   0.0s\n",
      "[CV] END .................................C=0.001, gamma=100; total time=   0.0s\n",
      "[CV] END .....................................C=0.1, gamma=5; total time=   0.0s\n",
      "[CV] END .....................................C=0.1, gamma=5; total time=   0.0s\n",
      "[CV] END ....................................C=0.1, gamma=10; total time=   0.0s\n",
      "[CV] END ....................................C=0.1, gamma=10; total time=   0.0s\n",
      "[CV] END ....................................C=0.1, gamma=10; total time=   0.0s\n",
      "[CV] END ....................................C=0.1, gamma=10; total time=   0.0s\n",
      "[CV] END ....................................C=0.1, gamma=10; total time=   0.0s\n",
      "[CV] END ....................................C=0.1, gamma=10; total time=   0.0s\n",
      "[CV] END .......................................C=1, gamma=5; total time=   0.0s\n",
      "[CV] END .......................................C=1, gamma=5; total time=   0.0s\n",
      "[CV] END .......................................C=1, gamma=5; total time=   0.0s\n",
      "[CV] END .......................................C=1, gamma=5; total time=   0.0s\n",
      "[CV] END .......................................C=1, gamma=5; total time=   0.0s\n",
      "[CV] END .......................................C=1, gamma=5; total time=   0.0s\n",
      "[CV] END .......................................C=1, gamma=5; total time=   0.0s\n",
      "[CV] END .......................................C=1, gamma=5; total time=   0.0s\n",
      "[CV] END .......................................C=5, gamma=1; total time=   0.0s\n",
      "[CV] END .......................................C=5, gamma=1; total time=   0.0s\n",
      "[CV] END .......................................C=5, gamma=1; total time=   0.0s\n",
      "[CV] END .......................................C=5, gamma=1; total time=   0.0s\n",
      "[CV] END .......................................C=5, gamma=1; total time=   0.0s\n",
      "[CV] END .......................................C=5, gamma=1; total time=   0.0s\n",
      "[CV] END .......................................C=5, gamma=1; total time=   0.0s\n",
      "[CV] END .......................................C=5, gamma=1; total time=   0.0s\n",
      "[CV] END .................................C=10, gamma=0.0001; total time=   0.0s\n",
      "[CV] END .................................C=10, gamma=0.0001; total time=   0.0s\n",
      "[CV] END ..................................C=10, gamma=0.001; total time=   0.0s\n",
      "[CV] END ..................................C=10, gamma=0.001; total time=   0.0s\n",
      "[CV] END ..................................C=10, gamma=0.001; total time=   0.0s\n",
      "[CV] END ..................................C=10, gamma=0.001; total time=   0.1s\n",
      "[CV] END ..................................C=10, gamma=0.001; total time=   0.0s\n",
      "[CV] END ..................................C=10, gamma=0.001; total time=   0.0s\n",
      "[CV] END ....................................C=10, gamma=100; total time=   0.0s\n",
      "[CV] END ....................................C=10, gamma=100; total time=   0.0s\n",
      "[CV] END ....................................C=10, gamma=100; total time=   0.0s\n",
      "[CV] END ....................................C=10, gamma=100; total time=   0.0s\n",
      "[CV] END ....................................C=10, gamma=100; total time=   0.0s\n",
      "[CV] END ....................................C=10, gamma=100; total time=   0.0s\n",
      "[CV] END ....................................C=10, gamma=100; total time=   0.0s\n",
      "[CV] END ....................................C=10, gamma=100; total time=   0.0s\n",
      "[CV] END .....................................C=50, gamma=50; total time=   0.0s\n",
      "[CV] END .....................................C=50, gamma=50; total time=   0.0s\n",
      "[CV] END .....................................C=50, gamma=50; total time=   0.0s\n",
      "[CV] END .....................................C=50, gamma=50; total time=   0.0s\n",
      "[CV] END .....................................C=50, gamma=50; total time=   0.0s\n",
      "[CV] END .....................................C=50, gamma=50; total time=   0.0s\n",
      "[CV] END ....................................C=50, gamma=100; total time=   0.0s\n",
      "[CV] END ....................................C=50, gamma=100; total time=   0.0s\n",
      "[CV] END .....................................C=100, gamma=1; total time=   0.0s\n",
      "[CV] END .....................................C=100, gamma=5; total time=   0.0s\n",
      "[CV] END .....................................C=100, gamma=5; total time=   0.0s\n",
      "[CV] END ....................................C=100, gamma=10; total time=   0.0s\n",
      "[CV] END ....................................C=100, gamma=50; total time=   0.0s\n",
      "[CV] END ...................................C=100, gamma=100; total time=   0.0s\n",
      "[CV] END .............................C=0.0001, gamma=0.0001; total time=   0.0s\n",
      "[CV] END ..............................C=0.0001, gamma=0.001; total time=   0.0s\n",
      "[CV] END ................................C=0.0001, gamma=0.1; total time=   0.0s\n",
      "[CV] END ................................C=0.0001, gamma=0.1; total time=   0.0s\n",
      "[CV] END ..................................C=0.0001, gamma=1; total time=   0.0s\n",
      "[CV] END ..................................C=0.0001, gamma=5; total time=   0.0s\n",
      "[CV] END .................................C=0.0001, gamma=10; total time=   0.0s\n",
      "[CV] END .................................C=0.0001, gamma=10; total time=   0.0s\n",
      "[CV] END .................................C=0.0001, gamma=50; total time=   0.0s\n",
      "[CV] END .................................C=0.0001, gamma=50; total time=   0.0s\n",
      "[CV] END .................................C=0.001, gamma=0.1; total time=   0.0s\n",
      "[CV] END .................................C=0.001, gamma=0.1; total time=   0.0s\n",
      "[CV] END .................................C=0.001, gamma=0.1; total time=   0.0s\n",
      "[CV] END .................................C=0.001, gamma=0.1; total time=   0.0s\n",
      "[CV] END ...................................C=0.001, gamma=5; total time=   0.0s\n",
      "[CV] END ...................................C=0.001, gamma=5; total time=   0.0s\n",
      "[CV] END ...................................C=0.001, gamma=5; total time=   0.0s\n",
      "[CV] END ...................................C=0.001, gamma=5; total time=   0.0s\n",
      "[CV] END ................................C=0.1, gamma=0.0001; total time=   0.0s\n",
      "[CV] END ................................C=0.1, gamma=0.0001; total time=   0.0s\n",
      "[CV] END ................................C=0.1, gamma=0.0001; total time=   0.0s\n",
      "[CV] END ................................C=0.1, gamma=0.0001; total time=   0.0s\n",
      "[CV] END ................................C=0.1, gamma=0.0001; total time=   0.0s\n",
      "[CV] END ................................C=0.1, gamma=0.0001; total time=   0.0s\n",
      "[CV] END ................................C=0.1, gamma=0.0001; total time=   0.0s\n",
      "[CV] END ................................C=0.1, gamma=0.0001; total time=   0.0s\n",
      "[CV] END ....................................C=0.1, gamma=10; total time=   0.0s\n",
      "[CV] END ....................................C=0.1, gamma=10; total time=   0.0s\n",
      "[CV] END ....................................C=0.1, gamma=10; total time=   0.0s\n",
      "[CV] END ....................................C=0.1, gamma=10; total time=   0.0s\n",
      "[CV] END ....................................C=0.1, gamma=50; total time=   0.0s\n",
      "[CV] END ....................................C=0.1, gamma=50; total time=   0.0s\n",
      "[CV] END ....................................C=0.1, gamma=50; total time=   0.0s\n",
      "[CV] END ....................................C=0.1, gamma=50; total time=   0.0s\n",
      "[CV] END .......................................C=1, gamma=1; total time=   0.0s\n",
      "[CV] END .......................................C=1, gamma=1; total time=   0.0s\n",
      "[CV] END .......................................C=1, gamma=1; total time=   0.0s\n",
      "[CV] END .......................................C=1, gamma=1; total time=   0.0s\n",
      "[CV] END .......................................C=1, gamma=1; total time=   0.0s\n",
      "[CV] END .......................................C=1, gamma=1; total time=   0.0s\n",
      "[CV] END .......................................C=1, gamma=1; total time=   0.0s\n",
      "[CV] END .......................................C=1, gamma=1; total time=   0.0s\n",
      "[CV] END ...................................C=5, gamma=0.001; total time=   0.0s\n",
      "[CV] END ...................................C=5, gamma=0.001; total time=   0.0s\n",
      "[CV] END ...................................C=5, gamma=0.001; total time=   0.0s\n",
      "[CV] END ...................................C=5, gamma=0.001; total time=   0.0s\n",
      "[CV] END .....................................C=5, gamma=0.1; total time=   0.0s\n",
      "[CV] END .....................................C=5, gamma=0.1; total time=   0.0s\n",
      "[CV] END .....................................C=5, gamma=0.1; total time=   0.0s\n",
      "[CV] END .....................................C=5, gamma=0.1; total time=   0.0s\n",
      "[CV] END .................................C=10, gamma=0.0001; total time=   0.0s\n",
      "[CV] END .................................C=10, gamma=0.0001; total time=   0.0s\n",
      "[CV] END .................................C=10, gamma=0.0001; total time=   0.0s\n",
      "[CV] END .................................C=10, gamma=0.0001; total time=   0.0s\n",
      "[CV] END .................................C=10, gamma=0.0001; total time=   0.0s\n",
      "[CV] END .................................C=10, gamma=0.0001; total time=   0.0s\n",
      "[CV] END .................................C=10, gamma=0.0001; total time=   0.0s\n",
      "[CV] END .................................C=10, gamma=0.0001; total time=   0.0s\n",
      "[CV] END .....................................C=10, gamma=50; total time=   0.0s\n",
      "[CV] END .....................................C=10, gamma=50; total time=   0.0s\n",
      "[CV] END .....................................C=10, gamma=50; total time=   0.0s\n",
      "[CV] END .....................................C=10, gamma=50; total time=   0.0s\n",
      "[CV] END .....................................C=10, gamma=50; total time=   0.0s\n",
      "[CV] END .....................................C=10, gamma=50; total time=   0.0s\n",
      "[CV] END ....................................C=10, gamma=100; total time=   0.0s\n",
      "[CV] END ....................................C=10, gamma=100; total time=   0.0s\n",
      "[CV] END ......................................C=50, gamma=5; total time=   0.0s\n",
      "[CV] END ......................................C=50, gamma=5; total time=   0.0s\n",
      "[CV] END .....................................C=50, gamma=10; total time=   0.0s\n",
      "[CV] END .....................................C=50, gamma=10; total time=   0.0s\n",
      "[CV] END .....................................C=50, gamma=10; total time=   0.0s\n",
      "[CV] END .....................................C=50, gamma=10; total time=   0.0s\n",
      "[CV] END .....................................C=50, gamma=10; total time=   0.0s\n",
      "[CV] END .....................................C=50, gamma=10; total time=   0.0s\n",
      "[CV] END .................................C=100, gamma=0.001; total time=   0.0s\n",
      "[CV] END .................................C=100, gamma=0.001; total time=   0.0s\n",
      "[CV] END .................................C=100, gamma=0.001; total time=   0.0s\n",
      "[CV] END .................................C=100, gamma=0.001; total time=   0.0s\n",
      "[CV] END ...................................C=100, gamma=0.1; total time=   0.0s\n",
      "[CV] END ...................................C=100, gamma=0.1; total time=   0.0s\n",
      "[CV] END ...................................C=100, gamma=0.1; total time=   0.0s\n",
      "[CV] END ...................................C=100, gamma=0.1; total time=   0.0s\n",
      "[CV] END ....................................C=100, gamma=10; total time=   0.0s\n",
      "[CV] END ....................................C=100, gamma=10; total time=   0.0s\n",
      "[CV] END ....................................C=100, gamma=50; total time=   0.0s\n",
      "[CV] END ....................................C=100, gamma=50; total time=   0.0s\n",
      "[CV] END ...................................C=100, gamma=100; total time=   0.0s\n",
      "[CV] END .............................C=0.0001, gamma=0.0001; total time=   0.0s\n",
      "[CV] END ..............................C=0.0001, gamma=0.001; total time=   0.0s\n",
      "[CV] END ................................C=0.0001, gamma=0.1; total time=   0.0s\n",
      "[CV] END ..................................C=0.0001, gamma=1; total time=   0.0s\n",
      "[CV] END ..................................C=0.0001, gamma=1; total time=   0.0s\n",
      "[CV] END .................................C=0.0001, gamma=10; total time=   0.0s\n",
      "[CV] END .................................C=0.0001, gamma=10; total time=   0.0s\n",
      "[CV] END .................................C=0.0001, gamma=50; total time=   0.0s\n",
      "[CV] END .................................C=0.0001, gamma=50; total time=   0.0s\n",
      "[CV] END ................................C=0.0001, gamma=100; total time=   0.0s\n",
      "[CV] END ................................C=0.0001, gamma=100; total time=   0.0s\n",
      "[CV] END ...............................C=0.001, gamma=0.001; total time=   0.0s\n",
      "[CV] END ...............................C=0.001, gamma=0.001; total time=   0.0s\n",
      "[CV] END ...............................C=0.001, gamma=0.001; total time=   0.0s\n",
      "[CV] END ...............................C=0.001, gamma=0.001; total time=   0.0s\n",
      "[CV] END ..................................C=0.001, gamma=10; total time=   0.0s\n",
      "[CV] END ..................................C=0.001, gamma=10; total time=   0.0s\n",
      "[CV] END ..................................C=0.001, gamma=10; total time=   0.0s\n",
      "[CV] END ..................................C=0.001, gamma=10; total time=   0.0s\n",
      "[CV] END .................................C=0.1, gamma=0.001; total time=   0.0s\n",
      "[CV] END .................................C=0.1, gamma=0.001; total time=   0.0s\n",
      "[CV] END .................................C=0.1, gamma=0.001; total time=   0.0s\n",
      "[CV] END .................................C=0.1, gamma=0.001; total time=   0.0s\n",
      "[CV] END ...................................C=0.1, gamma=0.1; total time=   0.0s\n",
      "[CV] END ...................................C=0.1, gamma=0.1; total time=   0.0s\n",
      "[CV] END ...................................C=0.1, gamma=0.1; total time=   0.0s\n",
      "[CV] END ...................................C=0.1, gamma=0.1; total time=   0.0s\n",
      "[CV] END ..................................C=1, gamma=0.0001; total time=   0.0s\n",
      "[CV] END ..................................C=1, gamma=0.0001; total time=   0.0s\n",
      "[CV] END ...................................C=1, gamma=0.001; total time=   0.0s\n",
      "[CV] END ...................................C=1, gamma=0.001; total time=   0.0s\n",
      "[CV] END ...................................C=1, gamma=0.001; total time=   0.0s\n",
      "[CV] END ...................................C=1, gamma=0.001; total time=   0.0s\n",
      "[CV] END ...................................C=1, gamma=0.001; total time=   0.0s\n",
      "[CV] END ...................................C=1, gamma=0.001; total time=   0.0s\n",
      "[CV] END .....................................C=1, gamma=100; total time=   0.0s\n",
      "[CV] END .....................................C=1, gamma=100; total time=   0.0s\n",
      "[CV] END .....................................C=1, gamma=100; total time=   0.0s\n",
      "[CV] END .....................................C=1, gamma=100; total time=   0.0s\n",
      "[CV] END .....................................C=1, gamma=100; total time=   0.0s\n",
      "[CV] END .....................................C=1, gamma=100; total time=   0.0s\n",
      "[CV] END .....................................C=1, gamma=100; total time=   0.0s\n",
      "[CV] END .....................................C=1, gamma=100; total time=   0.0s\n",
      "[CV] END .......................................C=5, gamma=5; total time=   0.0s\n",
      "[CV] END .......................................C=5, gamma=5; total time=   0.0s\n",
      "[CV] END ......................................C=5, gamma=10; total time=   0.0s\n",
      "[CV] END ......................................C=5, gamma=10; total time=   0.0s\n",
      "[CV] END ......................................C=5, gamma=10; total time=   0.0s\n",
      "[CV] END ......................................C=5, gamma=10; total time=   0.0s\n",
      "[CV] END ......................................C=5, gamma=10; total time=   0.0s\n",
      "[CV] END ......................................C=5, gamma=10; total time=   0.0s\n",
      "[CV] END ....................................C=10, gamma=0.1; total time=   0.0s\n",
      "[CV] END ....................................C=10, gamma=0.1; total time=   0.0s\n",
      "[CV] END ....................................C=10, gamma=0.1; total time=   0.0s\n",
      "[CV] END ....................................C=10, gamma=0.1; total time=   0.1s\n",
      "[CV] END ....................................C=10, gamma=0.1; total time=   0.0s\n",
      "[CV] END ....................................C=10, gamma=0.1; total time=   0.0s\n",
      "[CV] END ......................................C=10, gamma=1; total time=   0.0s\n",
      "[CV] END ......................................C=10, gamma=1; total time=   0.0s\n",
      "[CV] END .................................C=50, gamma=0.0001; total time=   0.0s\n",
      "[CV] END .................................C=50, gamma=0.0001; total time=   0.0s\n",
      "[CV] END .................................C=50, gamma=0.0001; total time=   0.0s\n",
      "[CV] END .................................C=50, gamma=0.0001; total time=   0.0s\n",
      "[CV] END .................................C=50, gamma=0.0001; total time=   0.0s\n",
      "[CV] END .................................C=50, gamma=0.0001; total time=   0.0s\n",
      "[CV] END .................................C=50, gamma=0.0001; total time=   0.0s\n",
      "[CV] END .................................C=50, gamma=0.0001; total time=   0.0s\n",
      "[CV] END .....................................C=50, gamma=10; total time=   0.0s\n",
      "[CV] END .....................................C=50, gamma=10; total time=   0.0s\n",
      "[CV] END .....................................C=50, gamma=10; total time=   0.0s\n",
      "[CV] END .....................................C=50, gamma=10; total time=   0.0s\n",
      "[CV] END .....................................C=50, gamma=50; total time=   0.0s\n",
      "[CV] END .....................................C=50, gamma=50; total time=   0.0s\n",
      "[CV] END .....................................C=50, gamma=50; total time=   0.0s\n",
      "[CV] END .....................................C=50, gamma=50; total time=   0.0s\n",
      "[CV] END .....................................C=100, gamma=1; total time=   0.0s\n",
      "[CV] END .....................................C=100, gamma=1; total time=   0.0s\n",
      "[CV] END .....................................C=100, gamma=5; total time=   0.0s\n",
      "[CV] END .....................................C=100, gamma=5; total time=   0.0s\n",
      "[CV] END ....................................C=100, gamma=10; total time=   0.0s\n",
      "[CV] END ....................................C=100, gamma=50; total time=   0.0s\n",
      "[CV] END ....................................C=100, gamma=50; total time=   0.0s\n",
      "[CV] END ...................................C=100, gamma=100; total time=   0.0s\n",
      "[CV] END .............................C=0.0001, gamma=0.0001; total time=   0.0s\n",
      "[CV] END ..............................C=0.0001, gamma=0.001; total time=   0.0s\n",
      "[CV] END ................................C=0.0001, gamma=0.1; total time=   0.0s\n",
      "[CV] END ..................................C=0.0001, gamma=1; total time=   0.0s\n",
      "[CV] END ..................................C=0.0001, gamma=5; total time=   0.0s\n",
      "[CV] END .................................C=0.0001, gamma=50; total time=   0.0s\n",
      "[CV] END .................................C=0.0001, gamma=50; total time=   0.0s\n",
      "[CV] END ................................C=0.0001, gamma=100; total time=   0.0s\n",
      "[CV] END ................................C=0.0001, gamma=100; total time=   0.0s\n",
      "[CV] END ..............................C=0.001, gamma=0.0001; total time=   0.0s\n",
      "[CV] END ..............................C=0.001, gamma=0.0001; total time=   0.0s\n",
      "[CV] END ...............................C=0.001, gamma=0.001; total time=   0.0s\n",
      "[CV] END ...............................C=0.001, gamma=0.001; total time=   0.0s\n",
      "[CV] END ...................................C=0.001, gamma=5; total time=   0.0s\n",
      "[CV] END ...................................C=0.001, gamma=5; total time=   0.0s\n",
      "[CV] END ..................................C=0.001, gamma=10; total time=   0.0s\n",
      "[CV] END ..................................C=0.001, gamma=10; total time=   0.0s\n",
      "[CV] END ................................C=0.1, gamma=0.0001; total time=   0.0s\n",
      "[CV] END ................................C=0.1, gamma=0.0001; total time=   0.0s\n",
      "[CV] END .................................C=0.1, gamma=0.001; total time=   0.0s\n",
      "[CV] END .................................C=0.1, gamma=0.001; total time=   0.0s\n",
      "[CV] END .................................C=0.1, gamma=0.001; total time=   0.0s\n",
      "[CV] END .................................C=0.1, gamma=0.001; total time=   0.0s\n",
      "[CV] END .................................C=0.1, gamma=0.001; total time=   0.0s\n",
      "[CV] END .................................C=0.1, gamma=0.001; total time=   0.0s\n",
      "[CV] END ...................................C=0.1, gamma=100; total time=   0.0s\n",
      "[CV] END ...................................C=0.1, gamma=100; total time=   0.0s\n",
      "[CV] END ...................................C=0.1, gamma=100; total time=   0.0s\n",
      "[CV] END ...................................C=0.1, gamma=100; total time=   0.0s\n",
      "[CV] END ...................................C=0.1, gamma=100; total time=   0.0s\n",
      "[CV] END ...................................C=0.1, gamma=100; total time=   0.0s\n",
      "[CV] END ...................................C=0.1, gamma=100; total time=   0.0s\n",
      "[CV] END ...................................C=0.1, gamma=100; total time=   0.0s\n",
      "[CV] END ......................................C=1, gamma=50; total time=   0.0s\n",
      "[CV] END ......................................C=1, gamma=50; total time=   0.0s\n",
      "[CV] END ......................................C=1, gamma=50; total time=   0.0s\n",
      "[CV] END ......................................C=1, gamma=50; total time=   0.0s\n",
      "[CV] END ......................................C=1, gamma=50; total time=   0.0s\n",
      "[CV] END ......................................C=1, gamma=50; total time=   0.0s\n",
      "[CV] END .....................................C=1, gamma=100; total time=   0.0s\n",
      "[CV] END .....................................C=1, gamma=100; total time=   0.0s\n",
      "[CV] END ......................................C=5, gamma=10; total time=   0.0s\n",
      "[CV] END ......................................C=5, gamma=10; total time=   0.0s\n",
      "[CV] END ......................................C=5, gamma=10; total time=   0.0s\n",
      "[CV] END ......................................C=5, gamma=10; total time=   0.0s\n",
      "[CV] END ......................................C=5, gamma=50; total time=   0.0s\n",
      "[CV] END ......................................C=5, gamma=50; total time=   0.0s\n",
      "[CV] END ......................................C=5, gamma=50; total time=   0.0s\n",
      "[CV] END ......................................C=5, gamma=50; total time=   0.0s\n",
      "[CV] END .....................................C=10, gamma=10; total time=   0.0s\n",
      "[CV] END .....................................C=10, gamma=10; total time=   0.0s\n",
      "[CV] END .....................................C=10, gamma=10; total time=   0.0s\n",
      "[CV] END .....................................C=10, gamma=10; total time=   0.0s\n",
      "[CV] END .....................................C=10, gamma=50; total time=   0.0s\n",
      "[CV] END .....................................C=10, gamma=50; total time=   0.0s\n",
      "[CV] END .....................................C=10, gamma=50; total time=   0.0s\n",
      "[CV] END .....................................C=10, gamma=50; total time=   0.0s\n",
      "[CV] END ......................................C=50, gamma=5; total time=   0.0s\n",
      "[CV] END ......................................C=50, gamma=5; total time=   0.0s\n",
      "[CV] END ......................................C=50, gamma=5; total time=   0.0s\n",
      "[CV] END ......................................C=50, gamma=5; total time=   0.0s\n",
      "[CV] END ......................................C=50, gamma=5; total time=   0.0s\n",
      "[CV] END ......................................C=50, gamma=5; total time=   0.0s\n",
      "[CV] END ......................................C=50, gamma=5; total time=   0.0s\n",
      "[CV] END ......................................C=50, gamma=5; total time=   0.0s\n",
      "[CV] END ................................C=100, gamma=0.0001; total time=   0.0s\n",
      "[CV] END ................................C=100, gamma=0.0001; total time=   0.0s\n",
      "[CV] END ................................C=100, gamma=0.0001; total time=   0.0s\n",
      "[CV] END ................................C=100, gamma=0.0001; total time=   0.0s\n",
      "[CV] END ................................C=100, gamma=0.0001; total time=   0.0s\n",
      "[CV] END ................................C=100, gamma=0.0001; total time=   0.0s\n",
      "[CV] END ................................C=100, gamma=0.0001; total time=   0.0s\n",
      "[CV] END ................................C=100, gamma=0.0001; total time=   0.0s\n",
      "[CV] END .....................................C=100, gamma=5; total time=   0.0s\n",
      "[CV] END .....................................C=100, gamma=5; total time=   0.0s\n",
      "[CV] END ....................................C=100, gamma=10; total time=   0.0s\n",
      "[CV] END ....................................C=100, gamma=50; total time=   0.0s\n",
      "[CV] END ...................................C=100, gamma=100; total time=   0.0s\n",
      "[CV] END ...................................C=100, gamma=100; total time=   0.0s\n",
      "[CV] END .............................C=0.0001, gamma=0.0001; total time=   0.0s\n",
      "[CV] END .............................C=0.0001, gamma=0.0001; total time=   0.0s\n",
      "[CV] END ..............................C=0.0001, gamma=0.001; total time=   0.0s\n",
      "[CV] END ................................C=0.0001, gamma=0.1; total time=   0.0s\n",
      "[CV] END ..................................C=0.0001, gamma=1; total time=   0.0s\n",
      "[CV] END ..................................C=0.0001, gamma=5; total time=   0.0s\n",
      "[CV] END .................................C=0.0001, gamma=10; total time=   0.0s\n",
      "[CV] END .................................C=0.0001, gamma=10; total time=   0.0s\n",
      "[CV] END ................................C=0.0001, gamma=100; total time=   0.0s\n",
      "[CV] END ................................C=0.0001, gamma=100; total time=   0.0s\n",
      "[CV] END .................................C=0.001, gamma=0.1; total time=   0.0s\n",
      "[CV] END .................................C=0.001, gamma=0.1; total time=   0.0s\n",
      "[CV] END .................................C=0.001, gamma=0.1; total time=   0.0s\n",
      "[CV] END .................................C=0.001, gamma=0.1; total time=   0.0s\n",
      "[CV] END ..................................C=0.001, gamma=50; total time=   0.0s\n",
      "[CV] END ..................................C=0.001, gamma=50; total time=   0.0s\n",
      "[CV] END ..................................C=0.001, gamma=50; total time=   0.0s\n",
      "[CV] END ..................................C=0.001, gamma=50; total time=   0.0s\n",
      "[CV] END .....................................C=0.1, gamma=5; total time=   0.0s\n",
      "[CV] END .....................................C=0.1, gamma=5; total time=   0.0s\n",
      "[CV] END .....................................C=0.1, gamma=5; total time=   0.0s\n",
      "[CV] END .....................................C=0.1, gamma=5; total time=   0.0s\n",
      "[CV] END .....................................C=0.1, gamma=5; total time=   0.0s\n",
      "[CV] END .....................................C=0.1, gamma=5; total time=   0.0s\n",
      "[CV] END .....................................C=0.1, gamma=5; total time=   0.0s\n",
      "[CV] END .....................................C=0.1, gamma=5; total time=   0.0s\n",
      "[CV] END ..................................C=1, gamma=0.0001; total time=   0.0s\n",
      "[CV] END ..................................C=1, gamma=0.0001; total time=   0.0s\n",
      "[CV] END ..................................C=1, gamma=0.0001; total time=   0.0s\n",
      "[CV] END ..................................C=1, gamma=0.0001; total time=   0.0s\n",
      "[CV] END ..................................C=1, gamma=0.0001; total time=   0.0s\n",
      "[CV] END ..................................C=1, gamma=0.0001; total time=   0.0s\n",
      "[CV] END ..................................C=1, gamma=0.0001; total time=   0.0s\n",
      "[CV] END ..................................C=1, gamma=0.0001; total time=   0.0s\n",
      "[CV] END .......................................C=1, gamma=5; total time=   0.0s\n",
      "[CV] END .......................................C=1, gamma=5; total time=   0.0s\n",
      "[CV] END ......................................C=1, gamma=10; total time=   0.0s\n",
      "[CV] END ......................................C=1, gamma=10; total time=   0.0s\n",
      "[CV] END ......................................C=1, gamma=10; total time=   0.0s\n",
      "[CV] END ......................................C=1, gamma=10; total time=   0.0s\n",
      "[CV] END ......................................C=1, gamma=10; total time=   0.0s\n",
      "[CV] END ......................................C=1, gamma=10; total time=   0.0s\n",
      "[CV] END .....................................C=5, gamma=0.1; total time=   0.0s\n",
      "[CV] END .....................................C=5, gamma=0.1; total time=   0.0s\n",
      "[CV] END .....................................C=5, gamma=0.1; total time=   0.0s\n",
      "[CV] END .....................................C=5, gamma=0.1; total time=   0.0s\n",
      "[CV] END .....................................C=5, gamma=0.1; total time=   0.0s\n",
      "[CV] END .....................................C=5, gamma=0.1; total time=   0.0s\n",
      "[CV] END .......................................C=5, gamma=1; total time=   0.0s\n",
      "[CV] END .......................................C=5, gamma=1; total time=   0.0s\n",
      "[CV] END ......................................C=10, gamma=1; total time=   0.0s\n",
      "[CV] END ......................................C=10, gamma=1; total time=   0.0s\n",
      "[CV] END ......................................C=10, gamma=1; total time=   0.0s\n",
      "[CV] END ......................................C=10, gamma=1; total time=   0.0s\n",
      "[CV] END ......................................C=10, gamma=1; total time=   0.0s\n",
      "[CV] END ......................................C=10, gamma=1; total time=   0.0s\n",
      "[CV] END ......................................C=10, gamma=1; total time=   0.0s\n",
      "[CV] END ......................................C=10, gamma=1; total time=   0.0s\n",
      "[CV] END ..................................C=50, gamma=0.001; total time=   0.0s\n",
      "[CV] END ..................................C=50, gamma=0.001; total time=   0.0s\n",
      "[CV] END ..................................C=50, gamma=0.001; total time=   0.0s\n",
      "[CV] END ..................................C=50, gamma=0.001; total time=   0.0s\n",
      "[CV] END ....................................C=50, gamma=0.1; total time=   0.0s\n",
      "[CV] END ....................................C=50, gamma=0.1; total time=   0.0s\n",
      "[CV] END ....................................C=50, gamma=0.1; total time=   0.0s\n",
      "[CV] END ....................................C=50, gamma=0.1; total time=   0.0s\n",
      "[CV] END ................................C=100, gamma=0.0001; total time=   0.0s\n",
      "[CV] END ................................C=100, gamma=0.0001; total time=   0.0s\n",
      "[CV] END .................................C=100, gamma=0.001; total time=   0.0s\n",
      "[CV] END .................................C=100, gamma=0.001; total time=   0.0s\n",
      "[CV] END .................................C=100, gamma=0.001; total time=   0.0s\n",
      "[CV] END .................................C=100, gamma=0.001; total time=   0.0s\n",
      "[CV] END .................................C=100, gamma=0.001; total time=   0.0s\n",
      "[CV] END .................................C=100, gamma=0.001; total time=   0.0s\n",
      "[CV] END ....................................C=100, gamma=10; total time=   0.0s\n",
      "[CV] END ....................................C=100, gamma=50; total time=   0.0s\n",
      "[CV] END ...................................C=100, gamma=100; total time=   0.0s\n",
      "[CV] END .............................C=0.0001, gamma=0.0001; total time=   0.0s\n",
      "[CV] END ..............................C=0.0001, gamma=0.001; total time=   0.0s\n",
      "[CV] END ................................C=0.0001, gamma=0.1; total time=   0.0s\n",
      "[CV] END ................................C=0.0001, gamma=0.1; total time=   0.0s\n",
      "[CV] END ..................................C=0.0001, gamma=1; total time=   0.0s\n",
      "[CV] END ..................................C=0.0001, gamma=5; total time=   0.0s\n",
      "[CV] END .................................C=0.0001, gamma=10; total time=   0.0s\n",
      "[CV] END .................................C=0.0001, gamma=10; total time=   0.0s\n",
      "[CV] END ................................C=0.0001, gamma=100; total time=   0.0s\n",
      "[CV] END ................................C=0.0001, gamma=100; total time=   0.0s\n",
      "[CV] END ...............................C=0.001, gamma=0.001; total time=   0.0s\n",
      "[CV] END ...............................C=0.001, gamma=0.001; total time=   0.0s\n",
      "[CV] END ...............................C=0.001, gamma=0.001; total time=   0.0s\n",
      "[CV] END ...............................C=0.001, gamma=0.001; total time=   0.0s\n",
      "[CV] END ...................................C=0.001, gamma=5; total time=   0.0s\n",
      "[CV] END ...................................C=0.001, gamma=5; total time=   0.0s\n",
      "[CV] END ...................................C=0.001, gamma=5; total time=   0.0s\n",
      "[CV] END ...................................C=0.001, gamma=5; total time=   0.0s\n",
      "[CV] END ...................................C=0.1, gamma=0.1; total time=   0.0s\n",
      "[CV] END ...................................C=0.1, gamma=0.1; total time=   0.0s\n",
      "[CV] END ...................................C=0.1, gamma=0.1; total time=   0.0s\n",
      "[CV] END ...................................C=0.1, gamma=0.1; total time=   0.0s\n",
      "[CV] END ...................................C=0.1, gamma=0.1; total time=   0.0s\n",
      "[CV] END ...................................C=0.1, gamma=0.1; total time=   0.0s\n",
      "[CV] END .....................................C=0.1, gamma=1; total time=   0.0s\n",
      "[CV] END .....................................C=0.1, gamma=1; total time=   0.0s\n",
      "[CV] END .....................................C=1, gamma=0.1; total time=   0.0s\n",
      "[CV] END .....................................C=1, gamma=0.1; total time=   0.0s\n",
      "[CV] END .....................................C=1, gamma=0.1; total time=   0.0s\n",
      "[CV] END .....................................C=1, gamma=0.1; total time=   0.0s\n",
      "[CV] END .....................................C=1, gamma=0.1; total time=   0.0s\n",
      "[CV] END .....................................C=1, gamma=0.1; total time=   0.0s\n",
      "[CV] END .......................................C=1, gamma=1; total time=   0.0s\n",
      "[CV] END .......................................C=1, gamma=1; total time=   0.0s\n",
      "[CV] END ..................................C=5, gamma=0.0001; total time=   0.0s\n",
      "[CV] END ..................................C=5, gamma=0.0001; total time=   0.0s\n",
      "[CV] END ..................................C=5, gamma=0.0001; total time=   0.0s\n",
      "[CV] END ..................................C=5, gamma=0.0001; total time=   0.0s\n",
      "[CV] END ..................................C=5, gamma=0.0001; total time=   0.0s\n",
      "[CV] END ..................................C=5, gamma=0.0001; total time=   0.0s\n",
      "[CV] END ..................................C=5, gamma=0.0001; total time=   0.0s\n",
      "[CV] END ..................................C=5, gamma=0.0001; total time=   0.0s\n",
      "[CV] END .....................................C=5, gamma=100; total time=   0.0s\n",
      "[CV] END .....................................C=5, gamma=100; total time=   0.0s\n",
      "[CV] END .....................................C=5, gamma=100; total time=   0.0s\n",
      "[CV] END .....................................C=5, gamma=100; total time=   0.0s\n",
      "[CV] END .....................................C=5, gamma=100; total time=   0.0s\n",
      "[CV] END .....................................C=5, gamma=100; total time=   0.0s\n",
      "[CV] END .....................................C=5, gamma=100; total time=   0.0s\n",
      "[CV] END .....................................C=5, gamma=100; total time=   0.0s\n",
      "[CV] END ......................................C=10, gamma=5; total time=   0.0s\n",
      "[CV] END ......................................C=10, gamma=5; total time=   0.0s\n",
      "[CV] END .....................................C=10, gamma=10; total time=   0.0s\n",
      "[CV] END .....................................C=10, gamma=10; total time=   0.0s\n",
      "[CV] END .....................................C=10, gamma=10; total time=   0.0s\n",
      "[CV] END .....................................C=10, gamma=10; total time=   0.0s\n",
      "[CV] END .....................................C=10, gamma=10; total time=   0.0s\n",
      "[CV] END .....................................C=10, gamma=10; total time=   0.0s\n",
      "[CV] END ......................................C=50, gamma=1; total time=   0.0s\n",
      "[CV] END ......................................C=50, gamma=1; total time=   0.0s\n",
      "[CV] END ......................................C=50, gamma=1; total time=   0.0s\n",
      "[CV] END ......................................C=50, gamma=1; total time=   0.0s\n",
      "[CV] END ......................................C=50, gamma=1; total time=   0.0s\n",
      "[CV] END ......................................C=50, gamma=1; total time=   0.0s\n",
      "[CV] END ......................................C=50, gamma=1; total time=   0.0s\n",
      "[CV] END ......................................C=50, gamma=1; total time=   0.0s\n",
      "[CV] END ...................................C=100, gamma=0.1; total time=   0.0s\n",
      "[CV] END ...................................C=100, gamma=0.1; total time=   0.0s\n",
      "[CV] END ...................................C=100, gamma=0.1; total time=   0.0s\n",
      "[CV] END ...................................C=100, gamma=0.1; total time=   0.0s\n",
      "[CV] END ...................................C=100, gamma=0.1; total time=   0.0s\n",
      "[CV] END ...................................C=100, gamma=0.1; total time=   0.0s\n",
      "[CV] END .....................................C=100, gamma=1; total time=   0.0s\n",
      "[CV] END .....................................C=100, gamma=1; total time=   0.0s\n",
      "[CV] END ....................................C=100, gamma=50; total time=   0.0s\n",
      "[CV] END ...................................C=100, gamma=100; total time=   0.0s\n",
      "[CV] END ...................................C=100, gamma=100; total time=   0.0s\n",
      "[CV] END .............................C=0.0001, gamma=0.0001; total time=   0.0s\n",
      "[CV] END ..............................C=0.0001, gamma=0.001; total time=   0.0s\n",
      "[CV] END ..............................C=0.0001, gamma=0.001; total time=   0.0s\n",
      "[CV] END ................................C=0.0001, gamma=0.1; total time=   0.0s\n",
      "[CV] END ..................................C=0.0001, gamma=1; total time=   0.0s\n",
      "[CV] END ..................................C=0.0001, gamma=5; total time=   0.0s\n",
      "[CV] END ..................................C=0.0001, gamma=5; total time=   0.0s\n",
      "[CV] END ..................................C=0.0001, gamma=5; total time=   0.0s\n",
      "[CV] END .................................C=0.0001, gamma=50; total time=   0.0s\n",
      "[CV] END .................................C=0.0001, gamma=50; total time=   0.0s\n",
      "[CV] END ..............................C=0.001, gamma=0.0001; total time=   0.0s\n",
      "[CV] END ..............................C=0.001, gamma=0.0001; total time=   0.0s\n",
      "[CV] END ..............................C=0.001, gamma=0.0001; total time=   0.0s\n",
      "[CV] END ..............................C=0.001, gamma=0.0001; total time=   0.0s\n",
      "[CV] END ...................................C=0.001, gamma=1; total time=   0.0s\n",
      "[CV] END ...................................C=0.001, gamma=1; total time=   0.0s\n",
      "[CV] END ...................................C=0.001, gamma=1; total time=   0.0s\n",
      "[CV] END ...................................C=0.001, gamma=1; total time=   0.0s\n",
      "[CV] END ..................................C=0.001, gamma=50; total time=   0.0s\n",
      "[CV] END ..................................C=0.001, gamma=50; total time=   0.0s\n",
      "[CV] END ..................................C=0.001, gamma=50; total time=   0.0s\n",
      "[CV] END ..................................C=0.001, gamma=50; total time=   0.0s\n",
      "[CV] END ..................................C=0.001, gamma=50; total time=   0.0s\n",
      "[CV] END ..................................C=0.001, gamma=50; total time=   0.0s\n",
      "[CV] END .................................C=0.001, gamma=100; total time=   0.0s\n",
      "[CV] END .................................C=0.001, gamma=100; total time=   0.0s\n",
      "[CV] END ....................................C=0.1, gamma=50; total time=   0.0s\n",
      "[CV] END ....................................C=0.1, gamma=50; total time=   0.0s\n",
      "[CV] END ....................................C=0.1, gamma=50; total time=   0.0s\n",
      "[CV] END ....................................C=0.1, gamma=50; total time=   0.0s\n",
      "[CV] END ....................................C=0.1, gamma=50; total time=   0.0s\n",
      "[CV] END ....................................C=0.1, gamma=50; total time=   0.0s\n",
      "[CV] END ...................................C=0.1, gamma=100; total time=   0.0s\n",
      "[CV] END ...................................C=0.1, gamma=100; total time=   0.0s\n",
      "[CV] END ......................................C=1, gamma=10; total time=   0.0s\n",
      "[CV] END ......................................C=1, gamma=10; total time=   0.0s\n",
      "[CV] END ......................................C=1, gamma=10; total time=   0.0s\n",
      "[CV] END ......................................C=1, gamma=10; total time=   0.0s\n",
      "[CV] END ......................................C=1, gamma=50; total time=   0.0s\n",
      "[CV] END ......................................C=1, gamma=50; total time=   0.0s\n",
      "[CV] END ......................................C=1, gamma=50; total time=   0.0s\n",
      "[CV] END ......................................C=1, gamma=50; total time=   0.0s\n",
      "[CV] END .......................................C=5, gamma=5; total time=   0.0s\n",
      "[CV] END .......................................C=5, gamma=5; total time=   0.0s\n",
      "[CV] END .......................................C=5, gamma=5; total time=   0.0s\n",
      "[CV] END .......................................C=5, gamma=5; total time=   0.0s\n",
      "[CV] END .......................................C=5, gamma=5; total time=   0.0s\n",
      "[CV] END .......................................C=5, gamma=5; total time=   0.0s\n",
      "[CV] END .......................................C=5, gamma=5; total time=   0.0s\n",
      "[CV] END .......................................C=5, gamma=5; total time=   0.0s\n",
      "[CV] END ..................................C=10, gamma=0.001; total time=   0.0s\n",
      "[CV] END ..................................C=10, gamma=0.001; total time=   0.0s\n",
      "[CV] END ..................................C=10, gamma=0.001; total time=   0.0s\n",
      "[CV] END ..................................C=10, gamma=0.001; total time=   0.0s\n",
      "[CV] END ....................................C=10, gamma=0.1; total time=   0.1s\n",
      "[CV] END ....................................C=10, gamma=0.1; total time=   0.0s\n",
      "[CV] END ....................................C=10, gamma=0.1; total time=   0.0s\n",
      "[CV] END ....................................C=10, gamma=0.1; total time=   0.0s\n",
      "[CV] END ....................................C=50, gamma=0.1; total time=   0.0s\n",
      "[CV] END ....................................C=50, gamma=0.1; total time=   0.0s\n",
      "[CV] END ....................................C=50, gamma=0.1; total time=   0.0s\n",
      "[CV] END ....................................C=50, gamma=0.1; total time=   0.0s\n",
      "[CV] END ....................................C=50, gamma=0.1; total time=   0.0s\n",
      "[CV] END ....................................C=50, gamma=0.1; total time=   0.0s\n",
      "[CV] END ......................................C=50, gamma=1; total time=   0.0s\n",
      "[CV] END ......................................C=50, gamma=1; total time=   0.0s\n",
      "[CV] END .....................................C=100, gamma=1; total time=   0.0s\n",
      "[CV] END .....................................C=100, gamma=1; total time=   0.0s\n",
      "[CV] END .....................................C=100, gamma=1; total time=   0.0s\n",
      "[CV] END .....................................C=100, gamma=1; total time=   0.0s\n",
      "[CV] END .....................................C=100, gamma=5; total time=   0.0s\n",
      "[CV] END .....................................C=100, gamma=5; total time=   0.0s\n",
      "[CV] END .....................................C=100, gamma=5; total time=   0.0s\n",
      "[CV] END ....................................C=100, gamma=10; total time=   0.0s\n",
      "[CV] END ....................................C=100, gamma=10; total time=   0.0s\n",
      "[CV] END ....................................C=100, gamma=50; total time=   0.0s\n",
      "[CV] END ...................................C=100, gamma=100; total time=   0.0s\n"
     ]
    }
   ],
   "source": [
    "y_pred = svc_model.predict(X_test)\n",
    "accuracy_score(y_test, y_pred)"
   ]
  },
  {
   "cell_type": "code",
   "execution_count": 60,
   "id": "c18a9d48-1b82-4f29-a5de-283284127a8d",
   "metadata": {},
   "outputs": [
    {
     "data": {
      "text/plain": [
       "0.7359307359307359"
      ]
     },
     "execution_count": 60,
     "metadata": {},
     "output_type": "execute_result"
    }
   ],
   "source": [
    "accuracy_score(y_test, y_pred)"
   ]
  },
  {
   "cell_type": "markdown",
   "id": "6edb8740-4c6c-4c55-9340-1b804b2dab85",
   "metadata": {},
   "source": [
    "## Model Tuning"
   ]
  },
  {
   "cell_type": "code",
   "execution_count": 49,
   "id": "e1d32d8a-2485-4576-bc22-fabd299b7a07",
   "metadata": {},
   "outputs": [],
   "source": [
    "svc_params = {\"C\": [0.0001, 0.001, 0.1, 1, 5, 10 ,50 ,100],\n",
    "             \"gamma\": [0.0001, 0.001, 0.1, 1, 5, 10 ,50 ,100]}"
   ]
  },
  {
   "cell_type": "code",
   "execution_count": 50,
   "id": "37d4d575-1f86-49bf-a262-0a0b85f4435a",
   "metadata": {},
   "outputs": [
    {
     "name": "stdout",
     "output_type": "stream",
     "text": [
      "Fitting 10 folds for each of 64 candidates, totalling 640 fits\n"
     ]
    },
    {
     "data": {
      "text/plain": [
       "GridSearchCV(cv=10, estimator=SVC(), n_jobs=-1,\n",
       "             param_grid={'C': [0.0001, 0.001, 0.1, 1, 5, 10, 50, 100],\n",
       "                         'gamma': [0.0001, 0.001, 0.1, 1, 5, 10, 50, 100]},\n",
       "             verbose=2)"
      ]
     },
     "execution_count": 50,
     "metadata": {},
     "output_type": "execute_result"
    }
   ],
   "source": [
    "svc = SVC()\n",
    "svc_cv_model = GridSearchCV(svc, svc_params, \n",
    "                         cv = 10, \n",
    "                         n_jobs = -1,\n",
    "                         verbose = 2)\n",
    "\n",
    "svc_cv_model.fit(X_train, y_train)"
   ]
  },
  {
   "cell_type": "code",
   "execution_count": 52,
   "id": "65ecb66f-0053-4314-8662-10f4681e9fd6",
   "metadata": {},
   "outputs": [
    {
     "name": "stdout",
     "output_type": "stream",
     "text": [
      "En iyi parametreler: {'C': 10, 'gamma': 0.0001}\n"
     ]
    }
   ],
   "source": [
    "print(\"En iyi parametreler: \" + str(svc_cv_model.best_params_))"
   ]
  },
  {
   "cell_type": "code",
   "execution_count": 53,
   "id": "4bde4325-f52e-41d0-8dfd-f464f945764a",
   "metadata": {},
   "outputs": [],
   "source": [
    "svc_tuned = SVC(C = 10, gamma = 0.0001).fit(X_train, y_train)"
   ]
  },
  {
   "cell_type": "code",
   "execution_count": 54,
   "id": "fe65519f-ba9d-4f5a-a936-cf99d96894b0",
   "metadata": {},
   "outputs": [
    {
     "data": {
      "text/plain": [
       "0.7359307359307359"
      ]
     },
     "execution_count": 54,
     "metadata": {},
     "output_type": "execute_result"
    }
   ],
   "source": [
    "y_pred = svc_tuned.predict(X_test)\n",
    "accuracy_score(y_test, y_pred)"
   ]
  },
  {
   "cell_type": "code",
   "execution_count": null,
   "id": "d3a7d4c2-1161-4e35-ba50-68e5b2dc2993",
   "metadata": {},
   "outputs": [],
   "source": []
  }
 ],
 "metadata": {
  "kernelspec": {
   "display_name": "Python 3 (ipykernel)",
   "language": "python",
   "name": "python3"
  },
  "language_info": {
   "codemirror_mode": {
    "name": "ipython",
    "version": 3
   },
   "file_extension": ".py",
   "mimetype": "text/x-python",
   "name": "python",
   "nbconvert_exporter": "python",
   "pygments_lexer": "ipython3",
   "version": "3.9.7"
  }
 },
 "nbformat": 4,
 "nbformat_minor": 5
}
