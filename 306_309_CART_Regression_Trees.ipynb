{
 "cells": [
  {
   "cell_type": "markdown",
   "id": "46744bdc-c42a-4ecf-842e-53722e0b8555",
   "metadata": {},
   "source": [
    "# CART (Classification and Regression Trees)"
   ]
  },
  {
   "cell_type": "markdown",
   "id": "2aa09be7-2867-4c96-8949-f7a7cc52809b",
   "metadata": {},
   "source": [
    "# Model"
   ]
  },
  {
   "cell_type": "code",
   "execution_count": 1,
   "id": "f5573fa7-b27d-4e04-bdf6-94242d13cfa6",
   "metadata": {},
   "outputs": [],
   "source": [
    "import numpy as np\n",
    "import pandas as pd \n",
    "from sklearn.model_selection import train_test_split, GridSearchCV,cross_val_score\n",
    "from sklearn.metrics import mean_squared_error, r2_score\n",
    "import matplotlib.pyplot as plt\n",
    "from sklearn.preprocessing import scale \n",
    "from sklearn import model_selection\n",
    "from sklearn.tree import DecisionTreeRegressor, DecisionTreeClassifier\n",
    "from sklearn.neighbors import KNeighborsRegressor\n",
    "from sklearn.ensemble import BaggingRegressor\n",
    "\n",
    "from warnings import filterwarnings\n",
    "filterwarnings('ignore')"
   ]
  },
  {
   "cell_type": "code",
   "execution_count": 2,
   "id": "4c253b6e-0363-44fd-8f59-e89cf59e1f4c",
   "metadata": {},
   "outputs": [],
   "source": [
    "hit = pd.read_csv(\"Hitters.csv\")\n",
    "df = hit.copy()\n",
    "df = df.dropna()\n",
    "dms = pd.get_dummies(df[['League', 'Division', 'NewLeague']])\n",
    "y = df[\"Salary\"]\n",
    "X_ = df.drop(['Salary', 'League', 'Division', 'NewLeague'], axis=1).astype('float64')\n",
    "X = pd.concat([X_, dms[['League_N', 'Division_W', 'NewLeague_N']]], axis=1)\n",
    "X_train, X_test, y_train, y_test = train_test_split(X, y, \n",
    "                                                    test_size=0.25, \n",
    "                                                    random_state=42)"
   ]
  },
  {
   "cell_type": "code",
   "execution_count": 3,
   "id": "1bc4d68d-ddda-4119-8410-5d9bc75c79ed",
   "metadata": {},
   "outputs": [],
   "source": [
    "X_train = pd.DataFrame(X_train[\"Hits\"])\n",
    "X_test = pd.DataFrame(X_test[\"Hits\"])"
   ]
  },
  {
   "cell_type": "code",
   "execution_count": 4,
   "id": "ce0eb053-d6bd-4391-8765-79d4fd7d900f",
   "metadata": {},
   "outputs": [],
   "source": [
    "cart_model = DecisionTreeRegressor(max_leaf_nodes = 10)"
   ]
  },
  {
   "cell_type": "code",
   "execution_count": 5,
   "id": "c27435b1-5a83-4caf-8694-456c4b673086",
   "metadata": {},
   "outputs": [
    {
     "data": {
      "text/plain": [
       "{'ccp_alpha': 0.0,\n",
       " 'criterion': 'mse',\n",
       " 'max_depth': None,\n",
       " 'max_features': None,\n",
       " 'max_leaf_nodes': 10,\n",
       " 'min_impurity_decrease': 0.0,\n",
       " 'min_impurity_split': None,\n",
       " 'min_samples_leaf': 1,\n",
       " 'min_samples_split': 2,\n",
       " 'min_weight_fraction_leaf': 0.0,\n",
       " 'random_state': None,\n",
       " 'splitter': 'best'}"
      ]
     },
     "execution_count": 5,
     "metadata": {},
     "output_type": "execute_result"
    }
   ],
   "source": [
    "cart_model.get_params()"
   ]
  },
  {
   "cell_type": "code",
   "execution_count": 6,
   "id": "d0122f66-1d3f-4654-839f-4d0442c76cb2",
   "metadata": {},
   "outputs": [
    {
     "data": {
      "text/plain": [
       "DecisionTreeRegressor(max_leaf_nodes=10)"
      ]
     },
     "execution_count": 6,
     "metadata": {},
     "output_type": "execute_result"
    }
   ],
   "source": [
    "cart_model.fit(X_train, y_train)"
   ]
  },
  {
   "cell_type": "code",
   "execution_count": 7,
   "id": "b54dd4a1-541c-4756-a459-30623028aa98",
   "metadata": {
    "tags": []
   },
   "outputs": [
    {
     "data": {
      "text/plain": [
       "\u001b[0;31mType:\u001b[0m        DecisionTreeRegressor\n",
       "\u001b[0;31mString form:\u001b[0m DecisionTreeRegressor(max_leaf_nodes=10)\n",
       "\u001b[0;31mFile:\u001b[0m        ~/opt/anaconda3/lib/python3.9/site-packages/sklearn/tree/_classes.py\n",
       "\u001b[0;31mDocstring:\u001b[0m  \n",
       "A decision tree regressor.\n",
       "\n",
       "Read more in the :ref:`User Guide <tree>`.\n",
       "\n",
       "Parameters\n",
       "----------\n",
       "criterion : {\"mse\", \"friedman_mse\", \"mae\", \"poisson\"}, default=\"mse\"\n",
       "    The function to measure the quality of a split. Supported criteria\n",
       "    are \"mse\" for the mean squared error, which is equal to variance\n",
       "    reduction as feature selection criterion and minimizes the L2 loss\n",
       "    using the mean of each terminal node, \"friedman_mse\", which uses mean\n",
       "    squared error with Friedman's improvement score for potential splits,\n",
       "    \"mae\" for the mean absolute error, which minimizes the L1 loss using\n",
       "    the median of each terminal node, and \"poisson\" which uses reduction in\n",
       "    Poisson deviance to find splits.\n",
       "\n",
       "    .. versionadded:: 0.18\n",
       "       Mean Absolute Error (MAE) criterion.\n",
       "\n",
       "    .. versionadded:: 0.24\n",
       "        Poisson deviance criterion.\n",
       "\n",
       "splitter : {\"best\", \"random\"}, default=\"best\"\n",
       "    The strategy used to choose the split at each node. Supported\n",
       "    strategies are \"best\" to choose the best split and \"random\" to choose\n",
       "    the best random split.\n",
       "\n",
       "max_depth : int, default=None\n",
       "    The maximum depth of the tree. If None, then nodes are expanded until\n",
       "    all leaves are pure or until all leaves contain less than\n",
       "    min_samples_split samples.\n",
       "\n",
       "min_samples_split : int or float, default=2\n",
       "    The minimum number of samples required to split an internal node:\n",
       "\n",
       "    - If int, then consider `min_samples_split` as the minimum number.\n",
       "    - If float, then `min_samples_split` is a fraction and\n",
       "      `ceil(min_samples_split * n_samples)` are the minimum\n",
       "      number of samples for each split.\n",
       "\n",
       "    .. versionchanged:: 0.18\n",
       "       Added float values for fractions.\n",
       "\n",
       "min_samples_leaf : int or float, default=1\n",
       "    The minimum number of samples required to be at a leaf node.\n",
       "    A split point at any depth will only be considered if it leaves at\n",
       "    least ``min_samples_leaf`` training samples in each of the left and\n",
       "    right branches.  This may have the effect of smoothing the model,\n",
       "    especially in regression.\n",
       "\n",
       "    - If int, then consider `min_samples_leaf` as the minimum number.\n",
       "    - If float, then `min_samples_leaf` is a fraction and\n",
       "      `ceil(min_samples_leaf * n_samples)` are the minimum\n",
       "      number of samples for each node.\n",
       "\n",
       "    .. versionchanged:: 0.18\n",
       "       Added float values for fractions.\n",
       "\n",
       "min_weight_fraction_leaf : float, default=0.0\n",
       "    The minimum weighted fraction of the sum total of weights (of all\n",
       "    the input samples) required to be at a leaf node. Samples have\n",
       "    equal weight when sample_weight is not provided.\n",
       "\n",
       "max_features : int, float or {\"auto\", \"sqrt\", \"log2\"}, default=None\n",
       "    The number of features to consider when looking for the best split:\n",
       "\n",
       "    - If int, then consider `max_features` features at each split.\n",
       "    - If float, then `max_features` is a fraction and\n",
       "      `int(max_features * n_features)` features are considered at each\n",
       "      split.\n",
       "    - If \"auto\", then `max_features=n_features`.\n",
       "    - If \"sqrt\", then `max_features=sqrt(n_features)`.\n",
       "    - If \"log2\", then `max_features=log2(n_features)`.\n",
       "    - If None, then `max_features=n_features`.\n",
       "\n",
       "    Note: the search for a split does not stop until at least one\n",
       "    valid partition of the node samples is found, even if it requires to\n",
       "    effectively inspect more than ``max_features`` features.\n",
       "\n",
       "random_state : int, RandomState instance or None, default=None\n",
       "    Controls the randomness of the estimator. The features are always\n",
       "    randomly permuted at each split, even if ``splitter`` is set to\n",
       "    ``\"best\"``. When ``max_features < n_features``, the algorithm will\n",
       "    select ``max_features`` at random at each split before finding the best\n",
       "    split among them. But the best found split may vary across different\n",
       "    runs, even if ``max_features=n_features``. That is the case, if the\n",
       "    improvement of the criterion is identical for several splits and one\n",
       "    split has to be selected at random. To obtain a deterministic behaviour\n",
       "    during fitting, ``random_state`` has to be fixed to an integer.\n",
       "    See :term:`Glossary <random_state>` for details.\n",
       "\n",
       "max_leaf_nodes : int, default=None\n",
       "    Grow a tree with ``max_leaf_nodes`` in best-first fashion.\n",
       "    Best nodes are defined as relative reduction in impurity.\n",
       "    If None then unlimited number of leaf nodes.\n",
       "\n",
       "min_impurity_decrease : float, default=0.0\n",
       "    A node will be split if this split induces a decrease of the impurity\n",
       "    greater than or equal to this value.\n",
       "\n",
       "    The weighted impurity decrease equation is the following::\n",
       "\n",
       "        N_t / N * (impurity - N_t_R / N_t * right_impurity\n",
       "                            - N_t_L / N_t * left_impurity)\n",
       "\n",
       "    where ``N`` is the total number of samples, ``N_t`` is the number of\n",
       "    samples at the current node, ``N_t_L`` is the number of samples in the\n",
       "    left child, and ``N_t_R`` is the number of samples in the right child.\n",
       "\n",
       "    ``N``, ``N_t``, ``N_t_R`` and ``N_t_L`` all refer to the weighted sum,\n",
       "    if ``sample_weight`` is passed.\n",
       "\n",
       "    .. versionadded:: 0.19\n",
       "\n",
       "min_impurity_split : float, default=0\n",
       "    Threshold for early stopping in tree growth. A node will split\n",
       "    if its impurity is above the threshold, otherwise it is a leaf.\n",
       "\n",
       "    .. deprecated:: 0.19\n",
       "       ``min_impurity_split`` has been deprecated in favor of\n",
       "       ``min_impurity_decrease`` in 0.19. The default value of\n",
       "       ``min_impurity_split`` has changed from 1e-7 to 0 in 0.23 and it\n",
       "       will be removed in 1.0 (renaming of 0.25).\n",
       "       Use ``min_impurity_decrease`` instead.\n",
       "\n",
       "ccp_alpha : non-negative float, default=0.0\n",
       "    Complexity parameter used for Minimal Cost-Complexity Pruning. The\n",
       "    subtree with the largest cost complexity that is smaller than\n",
       "    ``ccp_alpha`` will be chosen. By default, no pruning is performed. See\n",
       "    :ref:`minimal_cost_complexity_pruning` for details.\n",
       "\n",
       "    .. versionadded:: 0.22\n",
       "\n",
       "Attributes\n",
       "----------\n",
       "feature_importances_ : ndarray of shape (n_features,)\n",
       "    The feature importances.\n",
       "    The higher, the more important the feature.\n",
       "    The importance of a feature is computed as the\n",
       "    (normalized) total reduction of the criterion brought\n",
       "    by that feature. It is also known as the Gini importance [4]_.\n",
       "\n",
       "    Warning: impurity-based feature importances can be misleading for\n",
       "    high cardinality features (many unique values). See\n",
       "    :func:`sklearn.inspection.permutation_importance` as an alternative.\n",
       "\n",
       "max_features_ : int\n",
       "    The inferred value of max_features.\n",
       "\n",
       "n_features_ : int\n",
       "    The number of features when ``fit`` is performed.\n",
       "\n",
       "n_outputs_ : int\n",
       "    The number of outputs when ``fit`` is performed.\n",
       "\n",
       "tree_ : Tree instance\n",
       "    The underlying Tree object. Please refer to\n",
       "    ``help(sklearn.tree._tree.Tree)`` for attributes of Tree object and\n",
       "    :ref:`sphx_glr_auto_examples_tree_plot_unveil_tree_structure.py`\n",
       "    for basic usage of these attributes.\n",
       "\n",
       "See Also\n",
       "--------\n",
       "DecisionTreeClassifier : A decision tree classifier.\n",
       "\n",
       "Notes\n",
       "-----\n",
       "The default values for the parameters controlling the size of the trees\n",
       "(e.g. ``max_depth``, ``min_samples_leaf``, etc.) lead to fully grown and\n",
       "unpruned trees which can potentially be very large on some data sets. To\n",
       "reduce memory consumption, the complexity and size of the trees should be\n",
       "controlled by setting those parameter values.\n",
       "\n",
       "References\n",
       "----------\n",
       "\n",
       ".. [1] https://en.wikipedia.org/wiki/Decision_tree_learning\n",
       "\n",
       ".. [2] L. Breiman, J. Friedman, R. Olshen, and C. Stone, \"Classification\n",
       "       and Regression Trees\", Wadsworth, Belmont, CA, 1984.\n",
       "\n",
       ".. [3] T. Hastie, R. Tibshirani and J. Friedman. \"Elements of Statistical\n",
       "       Learning\", Springer, 2009.\n",
       "\n",
       ".. [4] L. Breiman, and A. Cutler, \"Random Forests\",\n",
       "       https://www.stat.berkeley.edu/~breiman/RandomForests/cc_home.htm\n",
       "\n",
       "Examples\n",
       "--------\n",
       ">>> from sklearn.datasets import load_diabetes\n",
       ">>> from sklearn.model_selection import cross_val_score\n",
       ">>> from sklearn.tree import DecisionTreeRegressor\n",
       ">>> X, y = load_diabetes(return_X_y=True)\n",
       ">>> regressor = DecisionTreeRegressor(random_state=0)\n",
       ">>> cross_val_score(regressor, X, y, cv=10)\n",
       "...                    # doctest: +SKIP\n",
       "...\n",
       "array([-0.39..., -0.46...,  0.02...,  0.06..., -0.50...,\n",
       "       0.16...,  0.11..., -0.73..., -0.30..., -0.00...])\n"
      ]
     },
     "metadata": {},
     "output_type": "display_data"
    }
   ],
   "source": [
    "?cart_model"
   ]
  },
  {
   "cell_type": "code",
   "execution_count": 8,
   "id": "9515d9ad-9b53-4d26-8be7-0de26e2e8d21",
   "metadata": {},
   "outputs": [],
   "source": [
    "# dallanma ve kırılmaların arkaplanda nasıl gerçekleştiğine bakalım"
   ]
  },
  {
   "cell_type": "code",
   "execution_count": 9,
   "id": "c8bb30c9-8801-4e57-a911-0bc22ea8de47",
   "metadata": {},
   "outputs": [
    {
     "data": {
      "image/png": "[encoded data removed]",
      "text/plain": [
       "<Figure size 432x288 with 1 Axes>"
      ]
     },
     "metadata": {
      "needs_background": "light"
     },
     "output_type": "display_data"
    }
   ],
   "source": [
    "X_grid = np.arange(min(np.array(X_train)),max(np.array(X_train)), 0.01) \n",
    "X_grid = X_grid.reshape((len(X_grid), 1))  # Regresyon kural noktalarını görebilmek için grid oluşturduk\n",
    "plt.scatter(X_train, y_train, color = 'red') # salary ve hit değişkenleri için scatterplot oluşturduk\n",
    "plt.plot(X_grid, cart_model.predict(X_grid), color = 'blue') # tahmin değerlerini grid yardımıyla ekledik\n",
    "plt.title('CART REGRESON AĞACI')  \n",
    "plt.xlabel('Atış Sayısı(Hits)') \n",
    "plt.ylabel('Maaş (Salary)') ;\n",
    "# max_leaf_nodes'un temel değeri sonsuzdur ve alttaki grafik oluşur"
   ]
  },
  {
   "cell_type": "code",
   "execution_count": 10,
   "id": "b4ab4c09-f5cd-46f6-b97b-62c69813696a",
   "metadata": {},
   "outputs": [
    {
     "data": {
      "image/png": "[encoded data removed]",
      "text/plain": [
       "<Figure size 432x288 with 1 Axes>"
      ]
     },
     "metadata": {
      "needs_background": "light"
     },
     "output_type": "display_data"
    }
   ],
   "source": [
    "# ŞİMDİ BİR HİPERPARAMETREYİ DEĞİŞTİREREK AĞACIN YAPISININ NASIL DEĞİŞECEĞİNİ GÖZLEMLEYELİM(max_leaf_nodes)\n",
    "X_grid = np.arange(min(np.array(X_train)),max(np.array(X_train)), 0.01) \n",
    "X_grid = X_grid.reshape((len(X_grid), 1))  \n",
    "plt.scatter(X_train, y_train, color = 'red') \n",
    "plt.plot(X_grid, cart_model.predict(X_grid), color = 'blue')  \n",
    "plt.title('CART REGRESON AĞACI')  \n",
    "plt.xlabel('Atış Sayısı(Hits)') \n",
    "plt.ylabel('Maaş (Salary)') ;\n",
    "# max_leaf_nodes = 10 verirsek alttaki grafik oluşur\n",
    "# Burada X eksenindeki bağımsız değişkene göre bölme işlemleri gerçekleşiyor"
   ]
  },
  {
   "cell_type": "markdown",
   "id": "c8959401-be3a-4c06-955c-b49d0b154cb1",
   "metadata": {},
   "source": [
    "Bizim burada amacımız ise bu parametrenin (örnekteki max_leaf_nodes) insan eli değmeden optimum değerini bulmak olacak."
   ]
  },
  {
   "cell_type": "markdown",
   "id": "601f378c-636b-4016-987e-62eda7be41ad",
   "metadata": {},
   "source": [
    "#### Bu modeli bir de ağaç yapısı olarak görselleştirmek istersek:"
   ]
  },
  {
   "cell_type": "markdown",
   "id": "3f3e87a4-6ba3-4c48-b6d2-f6f951fd914d",
   "metadata": {},
   "source": [
    "Mesela modeli kurduk ağaç yapısını oluşturduk, iş geliştirme departmanı bize diyor ki:\n",
    "\n",
    "\"Modeli kurdun ama bize bir kural seti ver ve biz bu kural setini sisteme entegre edip bağımsız değişken değerleri geldiğinde bu kural setini kullanarak tahmin değerleri oluşturabilelim.\"\n",
    "\n",
    "\"Kural seti öyle bir kural seti olsun ki derlenmesi anlamında pythona uyarlı olsun ve biz bazı argümanları girince tahmin üretsin.\"\n",
    "\n",
    "### Böyle bir işlemle karşılaşırsak şu şekilde kural yapısını üretebiliriz:"
   ]
  },
  {
   "cell_type": "code",
   "execution_count": 11,
   "id": "fc31e7a7-61c1-4b2c-9793-43f5ed936792",
   "metadata": {},
   "outputs": [],
   "source": [
    "#!pip install skompiler"
   ]
  },
  {
   "cell_type": "code",
   "execution_count": 12,
   "id": "6ea7b6c4-2fd6-4b5d-b537-399520efdf82",
   "metadata": {},
   "outputs": [],
   "source": [
    "from skompiler import skompile"
   ]
  },
  {
   "cell_type": "code",
   "execution_count": 13,
   "id": "cad33ce1-030e-4249-a630-70729b55b77f",
   "metadata": {},
   "outputs": [],
   "source": [
    "# bu fonksiyon aracılığı ile oluşturduğumuz modelin kural setini dışarı çıkartmış olacağız"
   ]
  },
  {
   "cell_type": "code",
   "execution_count": 14,
   "id": "8b427cb5-a283-46ee-968f-b82e41678f0c",
   "metadata": {},
   "outputs": [
    {
     "name": "stdout",
     "output_type": "stream",
     "text": [
      "(345.2011551724138 if x[0] <= 117.5 else ((((1300.0 if x[0] <= 118.5 else \n",
      "    641.0) if x[0] <= 122.5 else 1468.5236666666667) if x[0] <= 125.5 else \n",
      "    621.9679230769232) if x[0] <= 143.0 else (958.6111111111111 if x[0] <= \n",
      "    150.5 else 2460.0) if x[0] <= 151.5 else 499.1666666666667 if x[0] <= \n",
      "    157.5 else 892.5402413793104) if x[0] <= 225.5 else 1975.0)\n",
      "\n"
     ]
    }
   ],
   "source": [
    "print(skompile(cart_model.predict).to('python/code'))"
   ]
  },
  {
   "cell_type": "markdown",
   "id": "814e587f-299d-46a7-b98a-a271e9e629aa",
   "metadata": {},
   "source": [
    "# Tahmin"
   ]
  },
  {
   "cell_type": "code",
   "execution_count": 15,
   "id": "19d03495-7e98-4d3f-aafd-8467611ec95c",
   "metadata": {},
   "outputs": [],
   "source": [
    "x = [91] # çünkü aşağıda tahmin kısmını x[0] üzerinden yapıyor"
   ]
  },
  {
   "cell_type": "code",
   "execution_count": 16,
   "id": "37cefe78-4982-4348-8ddb-45f3408b8a0b",
   "metadata": {},
   "outputs": [
    {
     "data": {
      "text/plain": [
       "345.2011551724138"
      ]
     },
     "execution_count": 16,
     "metadata": {},
     "output_type": "execute_result"
    }
   ],
   "source": [
    "(345.2011551724138 if x[0] <= 117.5 else ((((1300.0 if x[0] <= 118.5 else \n",
    "    641.0) if x[0] <= 122.5 else 1468.5236666666667) if x[0] <= 125.5 else \n",
    "    621.9679230769232) if x[0] <= 143.0 else (958.6111111111111 if x[0] <= \n",
    "    150.5 else 2460.0) if x[0] <= 151.5 else 499.1666666666667 if x[0] <= \n",
    "    157.5 else 892.5402413793104) if x[0] <= 225.5 else 1975.0)"
   ]
  },
  {
   "cell_type": "markdown",
   "id": "6f550a80-d6db-4911-bc9f-f75f12c6297a",
   "metadata": {},
   "source": [
    "İş yerindeyseniz ve yaptığınız modeli implimente etmeniz isteniyor ise bunu svr ve doğrusal modelle nasıl yapacağımızı görmüştük."
   ]
  },
  {
   "cell_type": "markdown",
   "id": "05fcec61-7b89-44ef-bec3-f692ed823076",
   "metadata": {},
   "source": [
    "Karar ağacı ile de model yaptığımızda bunun implimente edilmesi (canlı sisteme entegrasyonu) olayı da yukarıdaki gibidir.\n",
    "\n",
    "Bu kural setini alıp sisteme gömün demektir (kural zaten python kodudur.)\n",
    "\n",
    "#### Mesela bir fonksiyon oluşturulabilir, fonksiyon istenen girdiyi alır (x) ve sonucu verir"
   ]
  },
  {
   "cell_type": "code",
   "execution_count": 17,
   "id": "f694a9b5-6d0c-4323-8876-4552eeac5999",
   "metadata": {},
   "outputs": [],
   "source": [
    "# şimdi de klasik anlamda bir tahmin işlemi yaparak bunu doğrulayalım"
   ]
  },
  {
   "cell_type": "code",
   "execution_count": 18,
   "id": "e6798714-1335-4d09-bbd5-b92faea3c28f",
   "metadata": {},
   "outputs": [
    {
     "data": {
      "text/plain": [
       "array([621.96792308, 958.61111111, 621.96792308, 345.20115517,\n",
       "       345.20115517])"
      ]
     },
     "execution_count": 18,
     "metadata": {},
     "output_type": "execute_result"
    }
   ],
   "source": [
    "cart_model.predict(X_test)[0:5]"
   ]
  },
  {
   "cell_type": "code",
   "execution_count": 19,
   "id": "c54073f2-7f0a-42ec-8d02-ab23f4f24e71",
   "metadata": {},
   "outputs": [
    {
     "data": {
      "text/plain": [
       "array([345.20115517])"
      ]
     },
     "execution_count": 19,
     "metadata": {},
     "output_type": "execute_result"
    }
   ],
   "source": [
    "cart_model.predict([[91]]) # yine 91'i tahmin ediyoruz"
   ]
  },
  {
   "cell_type": "code",
   "execution_count": 20,
   "id": "70773f62-0606-49d0-947c-1ee5d7b26d3c",
   "metadata": {},
   "outputs": [],
   "source": [
    "# ilkel test hatamızı da hesaplayalım"
   ]
  },
  {
   "cell_type": "code",
   "execution_count": 21,
   "id": "422c6760-e28a-469a-88b2-80c8bc45269a",
   "metadata": {},
   "outputs": [],
   "source": [
    "y_pred = cart_model.predict(X_test)"
   ]
  },
  {
   "cell_type": "code",
   "execution_count": 22,
   "id": "f8902c6d-b2b0-4df1-aef5-588fef833c45",
   "metadata": {},
   "outputs": [
    {
     "data": {
      "text/plain": [
       "486.34593105235456"
      ]
     },
     "execution_count": 22,
     "metadata": {},
     "output_type": "execute_result"
    }
   ],
   "source": [
    "np.sqrt(mean_squared_error(y_test, y_pred))"
   ]
  },
  {
   "cell_type": "markdown",
   "id": "901b22a0-5951-419b-b8a2-a2f35a0a0718",
   "metadata": {},
   "source": [
    "# Model Tuning"
   ]
  },
  {
   "cell_type": "code",
   "execution_count": 23,
   "id": "9294e58d-ef86-4ac1-95e7-251c35c4c159",
   "metadata": {},
   "outputs": [],
   "source": [
    "cart_model = DecisionTreeRegressor()\n",
    "cart_model.fit(X_train, y_train)\n",
    "y_pred = cart_model.predict(X_test)"
   ]
  },
  {
   "cell_type": "code",
   "execution_count": 24,
   "id": "a1ba3940-4fa1-4dd5-b408-ffc374b458ca",
   "metadata": {},
   "outputs": [
    {
     "data": {
      "text/plain": [
       "468.49579052913884"
      ]
     },
     "execution_count": 24,
     "metadata": {},
     "output_type": "execute_result"
    }
   ],
   "source": [
    "np.sqrt(mean_squared_error(y_test, y_pred))"
   ]
  },
  {
   "cell_type": "code",
   "execution_count": 25,
   "id": "53c8eabf-0cd0-4a8e-9364-ed054735cf12",
   "metadata": {},
   "outputs": [],
   "source": [
    "# şimdi birkaç parametreyi kendimiz kurcalayarak oluşacak değerlere bakalım"
   ]
  },
  {
   "cell_type": "code",
   "execution_count": 26,
   "id": "b9caedd6-899b-4d70-a892-2d31aee2006c",
   "metadata": {},
   "outputs": [
    {
     "data": {
      "text/plain": [
       "455.8367349677217"
      ]
     },
     "execution_count": 26,
     "metadata": {},
     "output_type": "execute_result"
    }
   ],
   "source": [
    "cart_model = DecisionTreeRegressor(max_leaf_nodes = 15)\n",
    "cart_model.fit(X_train, y_train)\n",
    "y_pred = cart_model.predict(X_test)\n",
    "np.sqrt(mean_squared_error(y_test, y_pred))"
   ]
  },
  {
   "cell_type": "code",
   "execution_count": 27,
   "id": "edfbdd14-4098-468f-985c-e2fe3dd792bb",
   "metadata": {},
   "outputs": [
    {
     "data": {
      "text/plain": [
       "446.72035850924783"
      ]
     },
     "execution_count": 27,
     "metadata": {},
     "output_type": "execute_result"
    }
   ],
   "source": [
    "cart_model = DecisionTreeRegressor(max_leaf_nodes = 20)\n",
    "cart_model.fit(X_train, y_train)\n",
    "y_pred = cart_model.predict(X_test)\n",
    "np.sqrt(mean_squared_error(y_test, y_pred))"
   ]
  },
  {
   "cell_type": "code",
   "execution_count": 28,
   "id": "eedf4830-fb1b-4297-ab72-ddd607084c9f",
   "metadata": {},
   "outputs": [],
   "source": [
    "# bir parametre daha ekleyelim"
   ]
  },
  {
   "cell_type": "code",
   "execution_count": 29,
   "id": "4b0418c5-b21e-4c95-b573-aaf9140ae282",
   "metadata": {},
   "outputs": [
    {
     "data": {
      "text/plain": [
       "446.72035850924783"
      ]
     },
     "execution_count": 29,
     "metadata": {},
     "output_type": "execute_result"
    }
   ],
   "source": [
    "cart_model = DecisionTreeRegressor(max_leaf_nodes = 20, min_samples_split = 2)\n",
    "cart_model.fit(X_train, y_train)\n",
    "y_pred = cart_model.predict(X_test)\n",
    "np.sqrt(mean_squared_error(y_test, y_pred))"
   ]
  },
  {
   "cell_type": "markdown",
   "id": "b963efaa-6ecf-4b78-9c07-14160de8d911",
   "metadata": {},
   "source": [
    "# ------------------------------------------------------------"
   ]
  },
  {
   "cell_type": "code",
   "execution_count": 30,
   "id": "3cda7ed7-f0db-42a0-b06e-9fdf7b848e45",
   "metadata": {},
   "outputs": [],
   "source": [
    "# Şimdi biraz elimizle denedikten sonra modelimizi GridSearchCV ile parametrelerini aratalım"
   ]
  },
  {
   "cell_type": "code",
   "execution_count": 31,
   "id": "391ad31a-ea72-4652-a6c5-7559b0df3e85",
   "metadata": {},
   "outputs": [],
   "source": [
    "cart_params = {\"min_samples_split\": range(2, 10), \n",
    "               \"max_leaf_nodes\" : range(2, 10)}"
   ]
  },
  {
   "cell_type": "code",
   "execution_count": 32,
   "id": "a8f83e03-127c-4500-a8b5-6237a9e2a344",
   "metadata": {},
   "outputs": [],
   "source": [
    "cart_model_cv = GridSearchCV(cart_model, cart_params, cv = 10)"
   ]
  },
  {
   "cell_type": "code",
   "execution_count": 33,
   "id": "72970cd7-d0c7-4c13-b3b0-d179717e8131",
   "metadata": {},
   "outputs": [
    {
     "data": {
      "text/plain": [
       "GridSearchCV(cv=10, estimator=DecisionTreeRegressor(max_leaf_nodes=20),\n",
       "             param_grid={'max_leaf_nodes': range(2, 10),\n",
       "                         'min_samples_split': range(2, 10)})"
      ]
     },
     "execution_count": 33,
     "metadata": {},
     "output_type": "execute_result"
    }
   ],
   "source": [
    "cart_model_cv.fit(X_train, y_train)"
   ]
  },
  {
   "cell_type": "code",
   "execution_count": 34,
   "id": "980ec875-c222-45b4-ab3c-6935d2efe13f",
   "metadata": {},
   "outputs": [
    {
     "data": {
      "text/plain": [
       "{'max_leaf_nodes': 2, 'min_samples_split': 2}"
      ]
     },
     "execution_count": 34,
     "metadata": {},
     "output_type": "execute_result"
    }
   ],
   "source": [
    "cart_model_cv.best_params_"
   ]
  },
  {
   "cell_type": "markdown",
   "id": "6b24c919-b714-4079-a7c5-4731ad187083",
   "metadata": {},
   "source": [
    "Burada iki hiperparametreyi 2 görünce bir sorun olmuş olabileceeğini düşündük.\n",
    "\n",
    "Hiperparametre optimizasyonu dünyasında YSA'da da belirttiğimiz üzere öyle bir parametre seti verlir ki onun başka bir kombinasyonuna da benzer bir şey elde edebilirsiniz. \n",
    "\n",
    "Bu sebeple gelişmiş hiperparametre optimizasyonu konusu ile de ele alacağımız olaylarda şöyle bir yaklaşım yapılabilir:\n",
    "\n",
    "1. Defapult parametrelere bakmak gerekir\n",
    "2. O algoritmanın sunduğu parametreler etrafında değerler vermek gerekir (Özellikle o problem bazında parametre deneyimi yoksa)\n",
    "\n",
    "Yukarda range(2, 20) verince algoritmayı tanıyan birisi bunun bir hata olmuş olabileceğini anlar çünkü algoritma karakteristiğini az çok tanıyordur. \n",
    "\n",
    "Bundan sonra range(2, 100) yaparak bir daha deneriz çünkü algoritma o aralıkta daha iyi hiperparametreler bulacak olabilir.\n",
    "\n",
    "\"Hangi aralıktaki değerleri daha iyi bulabileceğini nasıl bulabiliriz ki?\":\n",
    "\n",
    "1. Algoritmaın ön tanımlı değerlerinden fikir alarak aralıklar verilebilir\n",
    "2. Biraz algoritmanın karakteristiği biliniyorsa buna göre değerler verilebilir"
   ]
  },
  {
   "cell_type": "code",
   "execution_count": 35,
   "id": "ad00b41a-75b8-4818-b28d-2d6402d38814",
   "metadata": {},
   "outputs": [],
   "source": [
    "cart_params = {\"min_samples_split\": range(2, 100), \n",
    "               \"max_leaf_nodes\" : range(2, 10)}"
   ]
  },
  {
   "cell_type": "code",
   "execution_count": 36,
   "id": "611c7263-2ae8-43e2-8d91-565a44815092",
   "metadata": {},
   "outputs": [],
   "source": [
    "cart_model_cv = GridSearchCV(cart_model, cart_params, cv = 10)"
   ]
  },
  {
   "cell_type": "code",
   "execution_count": 37,
   "id": "3d4ff98a-45f3-44a4-b812-fc322cb10f10",
   "metadata": {},
   "outputs": [
    {
     "data": {
      "text/plain": [
       "GridSearchCV(cv=10, estimator=DecisionTreeRegressor(max_leaf_nodes=20),\n",
       "             param_grid={'max_leaf_nodes': range(2, 10),\n",
       "                         'min_samples_split': range(2, 100)})"
      ]
     },
     "execution_count": 37,
     "metadata": {},
     "output_type": "execute_result"
    }
   ],
   "source": [
    "cart_model_cv.fit(X_train, y_train)"
   ]
  },
  {
   "cell_type": "code",
   "execution_count": 38,
   "id": "afc54a56-5528-468a-827d-a9da4261cdca",
   "metadata": {},
   "outputs": [
    {
     "data": {
      "text/plain": [
       "{'max_leaf_nodes': 9, 'min_samples_split': 76}"
      ]
     },
     "execution_count": 38,
     "metadata": {},
     "output_type": "execute_result"
    }
   ],
   "source": [
    "cart_model_cv.best_params_"
   ]
  },
  {
   "cell_type": "markdown",
   "id": "72b57fb7-23c9-45fc-b63a-1f6ff5e28fe7",
   "metadata": {},
   "source": [
    "Yukarıda gördüğümüz gibi tekrar çalıştırınca değerler değişti.\n",
    "\n",
    "Hiperparametre optimizasyonu konusu biraz risklidir.\n",
    "\n",
    "Kişisel öneri: \"Ön tanımlı değerlerden parametrelere gidip belirli değerleri gördükten sonra parametre aramalarına gidilebilir.\""
   ]
  },
  {
   "cell_type": "code",
   "execution_count": 39,
   "id": "aba15eea-e2ba-4994-8304-9b3049999bec",
   "metadata": {},
   "outputs": [],
   "source": [
    "# Final modelin oluşturulması"
   ]
  },
  {
   "cell_type": "code",
   "execution_count": 40,
   "id": "c688b9fd-352c-4bcf-8102-9fce0058cfbb",
   "metadata": {},
   "outputs": [],
   "source": [
    "cart_tuned = DecisionTreeRegressor(max_leaf_nodes = 9, min_samples_split = 76)"
   ]
  },
  {
   "cell_type": "code",
   "execution_count": 41,
   "id": "dd6f1ad5-3d60-41ba-9e8d-d660319f7455",
   "metadata": {},
   "outputs": [
    {
     "data": {
      "text/plain": [
       "DecisionTreeRegressor(max_leaf_nodes=9, min_samples_split=76)"
      ]
     },
     "execution_count": 41,
     "metadata": {},
     "output_type": "execute_result"
    }
   ],
   "source": [
    "cart_tuned.fit(X_train, y_train)"
   ]
  },
  {
   "cell_type": "code",
   "execution_count": 42,
   "id": "2ad9a2fb-eec3-46ac-aac7-b4f8e9e74a4a",
   "metadata": {},
   "outputs": [],
   "source": [
    "y_pred = cart_tuned.predict(X_test)"
   ]
  },
  {
   "cell_type": "code",
   "execution_count": 43,
   "id": "4987227b-a247-4e5a-b3ab-8329d0491b91",
   "metadata": {},
   "outputs": [
    {
     "data": {
      "text/plain": [
       "423.406689243066"
      ]
     },
     "execution_count": 43,
     "metadata": {},
     "output_type": "execute_result"
    }
   ],
   "source": [
    "np.sqrt(mean_squared_error(y_test, y_pred))"
   ]
  },
  {
   "cell_type": "markdown",
   "id": "9fca3569-3854-4287-9542-4c2f2c93b9dc",
   "metadata": {},
   "source": [
    "Hata 423'e geriledi ama hala yüksek denebilecek bir hata. Bunun sebebi şuan ağacımızı tek değişkenle çalıştırıyor olmamız.\n",
    "\n",
    "### Şimdi bir de bütün değişkenleri kullanarak tune edilmiş ağacımızı çalıştıralım:"
   ]
  },
  {
   "cell_type": "markdown",
   "id": "a3f76829-33d3-42f1-a588-2b310562dc03",
   "metadata": {},
   "source": [
    "Bunu yapmamızın sebebi bağımlı değişkendeki değişim eklenecek yeni bağımsız değişkenlerle daha iyi açıklanabileceğinden (önceki tecrübelerimizde öyle olmuştu) daha doğru kararlar vermemizi sağlayabilir."
   ]
  },
  {
   "cell_type": "code",
   "execution_count": 44,
   "id": "caba3c3b-0e2a-49a0-8400-e6cd7f2a89c4",
   "metadata": {},
   "outputs": [],
   "source": [
    "hit = pd.read_csv(\"Hitters.csv\")\n",
    "df = hit.copy()\n",
    "df = df.dropna()\n",
    "dms = pd.get_dummies(df[['League', 'Division', 'NewLeague']])\n",
    "y = df[\"Salary\"]\n",
    "X_ = df.drop(['Salary', 'League', 'Division', 'NewLeague'], axis=1).astype('float64')\n",
    "X = pd.concat([X_, dms[['League_N', 'Division_W', 'NewLeague_N']]], axis=1)\n",
    "X_train, X_test, y_train, y_test = train_test_split(X, y, \n",
    "                                                    test_size=0.25, \n",
    "                                                    random_state=42)"
   ]
  },
  {
   "cell_type": "code",
   "execution_count": 45,
   "id": "6bae9543-c2ac-4df9-afd2-d382addc820a",
   "metadata": {},
   "outputs": [],
   "source": [
    "cart_model = DecisionTreeRegressor()\n",
    "cart_model.fit(X_train, y_train)\n",
    "y_pred = cart_model.predict(X_test)"
   ]
  },
  {
   "cell_type": "code",
   "execution_count": 46,
   "id": "ae50baf6-3cdc-423a-80b3-414e4a43e909",
   "metadata": {},
   "outputs": [
    {
     "data": {
      "text/plain": [
       "485.04366301547503"
      ]
     },
     "execution_count": 46,
     "metadata": {},
     "output_type": "execute_result"
    }
   ],
   "source": [
    "np.sqrt(mean_squared_error(y_test, y_pred)) # ilkel hatamıza bir daha baktık"
   ]
  },
  {
   "cell_type": "code",
   "execution_count": 47,
   "id": "71aff6a3-7b70-4e57-b961-9904ae603d76",
   "metadata": {},
   "outputs": [],
   "source": [
    "# Çok değişkenli modelimizi tune edelim"
   ]
  },
  {
   "cell_type": "code",
   "execution_count": 48,
   "id": "6ddd305b-c7d3-46c8-9d7c-bed3f7629728",
   "metadata": {},
   "outputs": [],
   "source": [
    "cart_params = {\"min_samples_split\": range(2, 100), \n",
    "               \"max_leaf_nodes\" : range(2, 20)}"
   ]
  },
  {
   "cell_type": "code",
   "execution_count": 49,
   "id": "1abecff7-cf3d-471b-a479-12ab2f58bf4c",
   "metadata": {},
   "outputs": [],
   "source": [
    "cart_model_cv = GridSearchCV(cart_model, cart_params, cv = 10)"
   ]
  },
  {
   "cell_type": "code",
   "execution_count": 50,
   "id": "4485a9f9-b914-4653-955d-02060e642ee2",
   "metadata": {},
   "outputs": [
    {
     "data": {
      "text/plain": [
       "GridSearchCV(cv=10, estimator=DecisionTreeRegressor(),\n",
       "             param_grid={'max_leaf_nodes': range(2, 20),\n",
       "                         'min_samples_split': range(2, 100)})"
      ]
     },
     "execution_count": 50,
     "metadata": {},
     "output_type": "execute_result"
    }
   ],
   "source": [
    "cart_model_cv.fit(X_train, y_train)"
   ]
  },
  {
   "cell_type": "code",
   "execution_count": 51,
   "id": "872f3e7a-8381-45f1-8a24-5f0afd50182e",
   "metadata": {},
   "outputs": [
    {
     "data": {
      "text/plain": [
       "{'max_leaf_nodes': 14, 'min_samples_split': 37}"
      ]
     },
     "execution_count": 51,
     "metadata": {},
     "output_type": "execute_result"
    }
   ],
   "source": [
    "cart_model_cv.best_params_"
   ]
  },
  {
   "cell_type": "code",
   "execution_count": 52,
   "id": "d85847eb-0acc-4e30-8f78-3ae7fd17034e",
   "metadata": {},
   "outputs": [],
   "source": [
    "# Çok değişkenli final modelimizi oluşturalım"
   ]
  },
  {
   "cell_type": "code",
   "execution_count": 53,
   "id": "81ea3378-c51b-45c7-ad97-98388ea339f6",
   "metadata": {},
   "outputs": [],
   "source": [
    "cart_tuned = DecisionTreeRegressor(max_leaf_nodes = 13, min_samples_split = 37)"
   ]
  },
  {
   "cell_type": "code",
   "execution_count": 54,
   "id": "2ebb0877-3666-456b-8b06-e21907fc18c1",
   "metadata": {},
   "outputs": [
    {
     "data": {
      "text/plain": [
       "DecisionTreeRegressor(max_leaf_nodes=13, min_samples_split=37)"
      ]
     },
     "execution_count": 54,
     "metadata": {},
     "output_type": "execute_result"
    }
   ],
   "source": [
    "cart_tuned.fit(X_train, y_train)"
   ]
  },
  {
   "cell_type": "code",
   "execution_count": 55,
   "id": "3dc69329-6aaf-4d9c-bd73-672c8a79e6cb",
   "metadata": {},
   "outputs": [],
   "source": [
    "y_pred = cart_tuned.predict(X_test)"
   ]
  },
  {
   "cell_type": "code",
   "execution_count": 56,
   "id": "46a0d95f-9ffc-4d5e-98c6-1c9c473697dd",
   "metadata": {},
   "outputs": [
    {
     "data": {
      "text/plain": [
       "375.01595709815194"
      ]
     },
     "execution_count": 56,
     "metadata": {},
     "output_type": "execute_result"
    }
   ],
   "source": [
    "np.sqrt(mean_squared_error(y_test, y_pred))"
   ]
  },
  {
   "cell_type": "markdown",
   "id": "549b0557-a34a-40a8-b4b7-f6679b938c22",
   "metadata": {},
   "source": [
    "Bütün değişkenleri kullanıp tune etme işlemi sonucunda hata değerimiz YSA'ları ile benzer seviyelere düştü."
   ]
  },
  {
   "cell_type": "code",
   "execution_count": null,
   "id": "da82197a-1efe-4d42-bc77-7f04628630eb",
   "metadata": {},
   "outputs": [],
   "source": []
  }
 ],
 "metadata": {
  "kernelspec": {
   "display_name": "Python 3 (ipykernel)",
   "language": "python",
   "name": "python3"
  },
  "language_info": {
   "codemirror_mode": {
    "name": "ipython",
    "version": 3
   },
   "file_extension": ".py",
   "mimetype": "text/x-python",
   "name": "python",
   "nbconvert_exporter": "python",
   "pygments_lexer": "ipython3",
   "version": "3.9.7"
  }
 },
 "nbformat": 4,
 "nbformat_minor": 5
}
