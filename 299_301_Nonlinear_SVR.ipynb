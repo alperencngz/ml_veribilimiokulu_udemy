{
 "cells": [
  {
   "cell_type": "markdown",
   "id": "793401dc-f7f0-45d6-bdc0-945b8a99867c",
   "metadata": {},
   "source": [
    "# Nonlinear SVR"
   ]
  },
  {
   "cell_type": "markdown",
   "id": "2edae65c-5240-46f8-a45c-69b00b53a1ef",
   "metadata": {},
   "source": [
    "# LinearRegression ile NonlinearSVR Görsel Karşılaştırması"
   ]
  },
  {
   "cell_type": "code",
   "execution_count": 1,
   "id": "40a5e417-5f92-4f72-a22f-8884aefc169f",
   "metadata": {},
   "outputs": [],
   "source": [
    "import numpy as np\n",
    "import pandas as pd \n",
    "from sklearn.model_selection import train_test_split, GridSearchCV,cross_val_score\n",
    "from sklearn.metrics import mean_squared_error, r2_score\n",
    "import matplotlib.pyplot as plt\n",
    "from sklearn.preprocessing import scale \n",
    "from sklearn import model_selection\n",
    "\n",
    "from warnings import filterwarnings\n",
    "filterwarnings('ignore')"
   ]
  },
  {
   "cell_type": "code",
   "execution_count": 2,
   "id": "81c8c219-dbcb-4745-b1b3-b4194f9287e5",
   "metadata": {},
   "outputs": [],
   "source": [
    "np.random.seed(3)\n",
    "\n",
    "x_sim = np.random.uniform(2, 10, 145)\n",
    "y_sim = np.sin(x_sim) + np.random.normal(0, 0.4, 145)\n",
    "\n",
    "x_outliers = np.arange(2.5, 5, 0.5)\n",
    "y_outliers = -5*np.ones(5)\n",
    "\n",
    "x_sim_idx = np.argsort(np.concatenate([x_sim, x_outliers]))\n",
    "x_sim = np.concatenate([x_sim, x_outliers])[x_sim_idx]\n",
    "y_sim = np.concatenate([y_sim, y_outliers])[x_sim_idx]"
   ]
  },
  {
   "cell_type": "code",
   "execution_count": 3,
   "id": "d38e7996-ca3e-43d4-be16-9429268ba21d",
   "metadata": {},
   "outputs": [],
   "source": [
    "from sklearn.linear_model import LinearRegression\n",
    "ols = LinearRegression()\n",
    "ols.fit(np.sin(x_sim[:, np.newaxis]), y_sim)\n",
    "ols_pred = ols.predict(np.sin(x_sim[:, np.newaxis]))\n",
    "\n",
    "from sklearn.svm import SVR\n",
    "eps = 0.1\n",
    "svr = SVR('rbf', epsilon = eps)\n",
    "svr.fit(x_sim[:, np.newaxis], y_sim)\n",
    "svr_pred = svr.predict(x_sim[:, np.newaxis])"
   ]
  },
  {
   "cell_type": "code",
   "execution_count": 4,
   "id": "93d45229-68df-4e32-852a-e472d8414204",
   "metadata": {},
   "outputs": [
    {
     "data": {
      "image/png": "[encoded data removed]",
      "text/plain": [
       "<Figure size 432x288 with 1 Axes>"
      ]
     },
     "metadata": {
      "needs_background": "light"
     },
     "output_type": "display_data"
    }
   ],
   "source": [
    "plt.scatter(x_sim, y_sim, alpha=0.5, s=26)\n",
    "plt_ols, = plt.plot(x_sim, ols_pred, 'g')\n",
    "plt_svr, = plt.plot(x_sim, svr_pred, color='r')\n",
    "plt.xlabel(\"Bağımsız Değişken\")\n",
    "plt.ylabel(\"Bağımlı Değişken\")\n",
    "plt.ylim(-5.2, 2.2)\n",
    "plt.legend([plt_ols, plt_svr], ['EKK', 'SVR'], loc = 4);"
   ]
  },
  {
   "cell_type": "code",
   "execution_count": 5,
   "id": "80895e69-9336-4f29-a5cc-f02c1c6d35c6",
   "metadata": {},
   "outputs": [],
   "source": [
    "# Grafikte gördüğümüz kırmızı çizgi aşağıdaki aykırı gözlemlerden daha az etkilenmiş, bu çizgi SVR çizgimiz"
   ]
  },
  {
   "cell_type": "markdown",
   "id": "43ebdf6a-a74d-4af2-a4b9-dc03724a0205",
   "metadata": {
    "tags": []
   },
   "source": [
    "------------------------------------------------------------------------------------------------\n",
    "#### Burada NonlinearSVR ve Linear Regression karşılaştırması yapmak için suni bir veri seti oluşturup bir model kurduk.\n",
    "\n",
    "#### Bu verisetine aşağı yönde aykırı gözlemler ekledik\n",
    "\n",
    "\n",
    "#### SVR'ımızı \"rbf\" (SVR'ın doğrusal olmayan bir formu) aracılığıyla oluşturduk\n",
    "---------------------------------------------------------------------------------------------------"
   ]
  },
  {
   "cell_type": "markdown",
   "id": "12a6f24c-5e0c-4c29-9c8b-207b226717fa",
   "metadata": {},
   "source": [
    "# Model"
   ]
  },
  {
   "cell_type": "code",
   "execution_count": 6,
   "id": "16bc75a4-a11c-4209-b4a1-1f97d08f25da",
   "metadata": {},
   "outputs": [],
   "source": [
    "hit = pd.read_csv(\"Hitters.csv\")\n",
    "df = hit.copy()\n",
    "df = df.dropna()\n",
    "dms = pd.get_dummies(df[['League', 'Division', 'NewLeague']])\n",
    "y = df[\"Salary\"]\n",
    "X_ = df.drop(['Salary', 'League', 'Division', 'NewLeague'], axis=1).astype('float64')\n",
    "X = pd.concat([X_, dms[['League_N', 'Division_W', 'NewLeague_N']]], axis=1)\n",
    "X_train, X_test, y_train, y_test = train_test_split(X, y, \n",
    "                                                    test_size=0.25, \n",
    "                                                    random_state=42)"
   ]
  },
  {
   "cell_type": "code",
   "execution_count": 7,
   "id": "1c7eacdd-819e-4504-abae-1919f713e2a8",
   "metadata": {},
   "outputs": [],
   "source": [
    "svr_rbf = SVR(\"rbf\").fit(X_train, y_train)"
   ]
  },
  {
   "cell_type": "markdown",
   "id": "bc6cc9ef-2399-4888-ba90-e17176cba5dd",
   "metadata": {},
   "source": [
    "# Tahmin"
   ]
  },
  {
   "cell_type": "code",
   "execution_count": 8,
   "id": "58c3dc37-ee00-47b7-9924-a2d6d4eb6525",
   "metadata": {},
   "outputs": [],
   "source": [
    "y_pred = svr_rbf.predict(X_test)"
   ]
  },
  {
   "cell_type": "code",
   "execution_count": 9,
   "id": "dd82a412-afab-40d1-83d6-a7b63db8f7fc",
   "metadata": {},
   "outputs": [
    {
     "data": {
      "text/plain": [
       "460.0032657244849"
      ]
     },
     "execution_count": 9,
     "metadata": {},
     "output_type": "execute_result"
    }
   ],
   "source": [
    "np.sqrt(mean_squared_error(y_test, y_pred)) # ilkel test hatamız"
   ]
  },
  {
   "cell_type": "markdown",
   "id": "0abb11fb-aeba-459c-a3b8-dc6861445500",
   "metadata": {},
   "source": [
    "# Model Tuning"
   ]
  },
  {
   "cell_type": "code",
   "execution_count": 10,
   "id": "eef9929c-c13b-4f84-921e-a0aa3d79b887",
   "metadata": {},
   "outputs": [],
   "source": [
    "from sklearn.model_selection import GridSearchCV"
   ]
  },
  {
   "cell_type": "code",
   "execution_count": 11,
   "id": "071dd82f-a967-4a5d-8edf-80437f7649d4",
   "metadata": {},
   "outputs": [],
   "source": [
    "# yine C parametresini optimize etmemiz gerekiyor"
   ]
  },
  {
   "cell_type": "code",
   "execution_count": 12,
   "id": "49950660-1592-47e9-bc31-91189731001b",
   "metadata": {},
   "outputs": [],
   "source": [
    "svr_params = {\"C\": [0.1, 0.4, 5, 10, 20, 30, 40]}"
   ]
  },
  {
   "cell_type": "code",
   "execution_count": 13,
   "id": "86a910bf-2099-4eda-95c9-cb544b0f769b",
   "metadata": {},
   "outputs": [],
   "source": [
    "svr_cv_model = GridSearchCV(svr_rbf, svr_params, cv = 10).fit(X_train, y_train)"
   ]
  },
  {
   "cell_type": "code",
   "execution_count": 14,
   "id": "6390a9c9-67f1-4254-a20f-bca093f860c7",
   "metadata": {},
   "outputs": [
    {
     "data": {
      "text/plain": [
       "40"
      ]
     },
     "execution_count": 14,
     "metadata": {},
     "output_type": "execute_result"
    }
   ],
   "source": [
    "pd.Series(svr_cv_model.best_params_)[0]"
   ]
  },
  {
   "cell_type": "code",
   "execution_count": 15,
   "id": "20879adf-e30d-4128-bfa5-c028a70af389",
   "metadata": {},
   "outputs": [],
   "source": [
    "# final modeli"
   ]
  },
  {
   "cell_type": "code",
   "execution_count": 16,
   "id": "585970a3-5e64-4f95-9204-82115111fd0f",
   "metadata": {},
   "outputs": [],
   "source": [
    "svr_tuned = SVR(\"rbf\", gamma = \"auto\", C = pd.Series(svr_cv_model.best_params_)[0]).fit(X_train,y_train)"
   ]
  },
  {
   "cell_type": "code",
   "execution_count": 17,
   "id": "089ab57f-e729-49d4-8757-0c611e7c835d",
   "metadata": {},
   "outputs": [],
   "source": [
    "y_pred = svr_tuned.predict(X_test)"
   ]
  },
  {
   "cell_type": "code",
   "execution_count": 18,
   "id": "923733df-ecca-4574-970a-b7068ef8fcc1",
   "metadata": {},
   "outputs": [
    {
     "data": {
      "text/plain": [
       "471.7983155460412"
      ]
     },
     "execution_count": 18,
     "metadata": {},
     "output_type": "execute_result"
    }
   ],
   "source": [
    "np.sqrt(mean_squared_error(y_test, y_pred))"
   ]
  },
  {
   "cell_type": "code",
   "execution_count": 19,
   "id": "a270ed70-5a24-4f1d-9ce1-241afb67c4d2",
   "metadata": {},
   "outputs": [],
   "source": [
    "# NonlinearSVR'da hata beklenenden büyük çıkarsa,\n",
    "# parametre setinden kaynaklı olabilir\n",
    "# KNN' yakın bir değer olması beklenebilir"
   ]
  },
  {
   "cell_type": "markdown",
   "id": "94a76f45-00de-4d44-a13a-a6de31249784",
   "metadata": {},
   "source": [
    "Burada gamma'nın otomatik değeri \"scale\" ama hocaya benzesin diye auto'ya çevirdim. normalde burada hata değerimiz scale ile 426 civarı bir şey çıkmıştı. Büyük çıkma olayı yaşanmamıştı ve dediğimiz gibi parametrelerle alakalı bir durum olduğunu görüyoruz bunun."
   ]
  },
  {
   "cell_type": "code",
   "execution_count": null,
   "id": "9b8cb500-c939-4c58-8a82-b74a20d5d00e",
   "metadata": {},
   "outputs": [],
   "source": []
  }
 ],
 "metadata": {
  "kernelspec": {
   "display_name": "Python 3 (ipykernel)",
   "language": "python",
   "name": "python3"
  },
  "language_info": {
   "codemirror_mode": {
    "name": "ipython",
    "version": 3
   },
   "file_extension": ".py",
   "mimetype": "text/x-python",
   "name": "python",
   "nbconvert_exporter": "python",
   "pygments_lexer": "ipython3",
   "version": "3.9.7"
  }
 },
 "nbformat": 4,
 "nbformat_minor": 5
}
