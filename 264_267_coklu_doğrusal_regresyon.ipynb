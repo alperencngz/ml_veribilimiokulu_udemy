{
 "cells": [
  {
   "cell_type": "markdown",
   "id": "cbf807b1-2a4b-419e-88df-d8631b7387b6",
   "metadata": {},
   "source": [
    "# Çoklu Doğrusal Regresyon"
   ]
  },
  {
   "cell_type": "markdown",
   "id": "c87a7fc3-f2e0-4d3b-9d6e-09cde885730e",
   "metadata": {},
   "source": [
    "# Model"
   ]
  },
  {
   "cell_type": "code",
   "execution_count": 1,
   "id": "172e8e71-8e46-4084-88a8-8f71ef306cd1",
   "metadata": {},
   "outputs": [],
   "source": [
    "from warnings import filterwarnings\n",
    "filterwarnings('ignore')"
   ]
  },
  {
   "cell_type": "code",
   "execution_count": 2,
   "id": "98150f5d-3d8d-4939-8f4e-7fbb3606e034",
   "metadata": {},
   "outputs": [
    {
     "data": {
      "text/html": [
       "<div>\n",
       "<style scoped>\n",
       "    .dataframe tbody tr th:only-of-type {\n",
       "        vertical-align: middle;\n",
       "    }\n",
       "\n",
       "    .dataframe tbody tr th {\n",
       "        vertical-align: top;\n",
       "    }\n",
       "\n",
       "    .dataframe thead th {\n",
       "        text-align: right;\n",
       "    }\n",
       "</style>\n",
       "<table border=\"1\" class=\"dataframe\">\n",
       "  <thead>\n",
       "    <tr style=\"text-align: right;\">\n",
       "      <th></th>\n",
       "      <th>TV</th>\n",
       "      <th>radio</th>\n",
       "      <th>newspaper</th>\n",
       "      <th>sales</th>\n",
       "    </tr>\n",
       "  </thead>\n",
       "  <tbody>\n",
       "    <tr>\n",
       "      <th>0</th>\n",
       "      <td>230.1</td>\n",
       "      <td>37.8</td>\n",
       "      <td>69.2</td>\n",
       "      <td>22.1</td>\n",
       "    </tr>\n",
       "    <tr>\n",
       "      <th>1</th>\n",
       "      <td>44.5</td>\n",
       "      <td>39.3</td>\n",
       "      <td>45.1</td>\n",
       "      <td>10.4</td>\n",
       "    </tr>\n",
       "    <tr>\n",
       "      <th>2</th>\n",
       "      <td>17.2</td>\n",
       "      <td>45.9</td>\n",
       "      <td>69.3</td>\n",
       "      <td>9.3</td>\n",
       "    </tr>\n",
       "    <tr>\n",
       "      <th>3</th>\n",
       "      <td>151.5</td>\n",
       "      <td>41.3</td>\n",
       "      <td>58.5</td>\n",
       "      <td>18.5</td>\n",
       "    </tr>\n",
       "    <tr>\n",
       "      <th>4</th>\n",
       "      <td>180.8</td>\n",
       "      <td>10.8</td>\n",
       "      <td>58.4</td>\n",
       "      <td>12.9</td>\n",
       "    </tr>\n",
       "  </tbody>\n",
       "</table>\n",
       "</div>"
      ],
      "text/plain": [
       "      TV  radio  newspaper  sales\n",
       "0  230.1   37.8       69.2   22.1\n",
       "1   44.5   39.3       45.1   10.4\n",
       "2   17.2   45.9       69.3    9.3\n",
       "3  151.5   41.3       58.5   18.5\n",
       "4  180.8   10.8       58.4   12.9"
      ]
     },
     "execution_count": 2,
     "metadata": {},
     "output_type": "execute_result"
    }
   ],
   "source": [
    "import pandas as pd\n",
    "import numpy as np\n",
    "ad = pd.read_csv(\"Advertising.csv\", usecols = [1,2,3,4])\n",
    "df = ad.copy()\n",
    "df.head()"
   ]
  },
  {
   "cell_type": "code",
   "execution_count": 3,
   "id": "d1434ac8-167c-4f81-b466-ed5a5f9215a9",
   "metadata": {},
   "outputs": [],
   "source": [
    "from sklearn.model_selection import train_test_split, cross_val_score, cross_val_predict"
   ]
  },
  {
   "cell_type": "code",
   "execution_count": 4,
   "id": "89e841e7-c4f5-4262-b674-e71a01e63379",
   "metadata": {},
   "outputs": [],
   "source": [
    "X = df.drop(\"sales\", axis = True)\n",
    "y = df[\"sales\"]"
   ]
  },
  {
   "cell_type": "code",
   "execution_count": 5,
   "id": "962dd1f0-0543-43dc-b35c-203f0db95aed",
   "metadata": {},
   "outputs": [],
   "source": [
    "import statsmodels.api as sm\n",
    "import statsmodels.formula.api as smf\n",
    "X = sm.add_constant(X) # constant ekleme"
   ]
  },
  {
   "cell_type": "code",
   "execution_count": 6,
   "id": "66ca0d8c-07f6-4a97-a007-8cc360eea0c6",
   "metadata": {},
   "outputs": [],
   "source": [
    "from sklearn.model_selection import train_test_split, cross_val_score, cross_val_predict"
   ]
  },
  {
   "cell_type": "code",
   "execution_count": 7,
   "id": "6395bf45-0cc0-4184-9cbd-8bcb0b738027",
   "metadata": {},
   "outputs": [],
   "source": [
    "X_train, X_test, y_train, y_test = train_test_split(X, y, test_size = 0.20, random_state= 42)"
   ]
  },
  {
   "cell_type": "code",
   "execution_count": 8,
   "id": "3ca2faab-7364-4114-81a7-a7b76fa8397e",
   "metadata": {},
   "outputs": [
    {
     "data": {
      "text/plain": [
       "(200, 4)"
      ]
     },
     "execution_count": 8,
     "metadata": {},
     "output_type": "execute_result"
    }
   ],
   "source": [
    "df.shape"
   ]
  },
  {
   "cell_type": "code",
   "execution_count": 9,
   "id": "87cb212e-6bfc-432f-bd54-eeb3c289f9b5",
   "metadata": {},
   "outputs": [
    {
     "data": {
      "text/plain": [
       "((160, 4), (40, 4), (160,), (40,))"
      ]
     },
     "execution_count": 9,
     "metadata": {},
     "output_type": "execute_result"
    }
   ],
   "source": [
    "X_train.shape, X_test.shape, y_train.shape, y_test.shape"
   ]
  },
  {
   "cell_type": "code",
   "execution_count": 10,
   "id": "2106cd8d-d3d6-41b0-8656-fbf71a05ca58",
   "metadata": {},
   "outputs": [],
   "source": [
    "training = df.copy()"
   ]
  },
  {
   "cell_type": "markdown",
   "id": "3d826f2f-6c20-4007-a422-8bcccbb259a7",
   "metadata": {},
   "source": [
    "## Statsmodels"
   ]
  },
  {
   "cell_type": "code",
   "execution_count": 11,
   "id": "458b768f-2785-424f-9f27-b3bf95a4073a",
   "metadata": {},
   "outputs": [],
   "source": [
    "import statsmodels.api as sm\n",
    "import statsmodels.formula.api as smf"
   ]
  },
  {
   "cell_type": "code",
   "execution_count": 12,
   "id": "ef71389f-368c-4b80-bcba-6d33e64b968d",
   "metadata": {},
   "outputs": [
    {
     "data": {
      "text/html": [
       "<div>\n",
       "<style scoped>\n",
       "    .dataframe tbody tr th:only-of-type {\n",
       "        vertical-align: middle;\n",
       "    }\n",
       "\n",
       "    .dataframe tbody tr th {\n",
       "        vertical-align: top;\n",
       "    }\n",
       "\n",
       "    .dataframe thead th {\n",
       "        text-align: right;\n",
       "    }\n",
       "</style>\n",
       "<table border=\"1\" class=\"dataframe\">\n",
       "  <thead>\n",
       "    <tr style=\"text-align: right;\">\n",
       "      <th></th>\n",
       "      <th>const</th>\n",
       "      <th>TV</th>\n",
       "      <th>radio</th>\n",
       "      <th>newspaper</th>\n",
       "    </tr>\n",
       "  </thead>\n",
       "  <tbody>\n",
       "    <tr>\n",
       "      <th>0</th>\n",
       "      <td>1.0</td>\n",
       "      <td>230.1</td>\n",
       "      <td>37.8</td>\n",
       "      <td>69.2</td>\n",
       "    </tr>\n",
       "    <tr>\n",
       "      <th>1</th>\n",
       "      <td>1.0</td>\n",
       "      <td>44.5</td>\n",
       "      <td>39.3</td>\n",
       "      <td>45.1</td>\n",
       "    </tr>\n",
       "    <tr>\n",
       "      <th>2</th>\n",
       "      <td>1.0</td>\n",
       "      <td>17.2</td>\n",
       "      <td>45.9</td>\n",
       "      <td>69.3</td>\n",
       "    </tr>\n",
       "    <tr>\n",
       "      <th>3</th>\n",
       "      <td>1.0</td>\n",
       "      <td>151.5</td>\n",
       "      <td>41.3</td>\n",
       "      <td>58.5</td>\n",
       "    </tr>\n",
       "    <tr>\n",
       "      <th>4</th>\n",
       "      <td>1.0</td>\n",
       "      <td>180.8</td>\n",
       "      <td>10.8</td>\n",
       "      <td>58.4</td>\n",
       "    </tr>\n",
       "  </tbody>\n",
       "</table>\n",
       "</div>"
      ],
      "text/plain": [
       "   const     TV  radio  newspaper\n",
       "0    1.0  230.1   37.8       69.2\n",
       "1    1.0   44.5   39.3       45.1\n",
       "2    1.0   17.2   45.9       69.3\n",
       "3    1.0  151.5   41.3       58.5\n",
       "4    1.0  180.8   10.8       58.4"
      ]
     },
     "execution_count": 12,
     "metadata": {},
     "output_type": "execute_result"
    }
   ],
   "source": [
    "X.head()"
   ]
  },
  {
   "cell_type": "code",
   "execution_count": 13,
   "id": "f9220bda-a865-4be5-92ae-08eeda586bb6",
   "metadata": {},
   "outputs": [],
   "source": [
    "lm = sm.OLS(y_train, X_train)"
   ]
  },
  {
   "cell_type": "code",
   "execution_count": 14,
   "id": "cc0056f7-4068-4e52-bdf5-8c357444d32e",
   "metadata": {},
   "outputs": [
    {
     "data": {
      "text/html": [
       "<table class=\"simpletable\">\n",
       "<caption>OLS Regression Results</caption>\n",
       "<tr>\n",
       "  <th>Dep. Variable:</th>          <td>sales</td>      <th>  R-squared:         </th> <td>   0.896</td>\n",
       "</tr>\n",
       "<tr>\n",
       "  <th>Model:</th>                   <td>OLS</td>       <th>  Adj. R-squared:    </th> <td>   0.894</td>\n",
       "</tr>\n",
       "<tr>\n",
       "  <th>Method:</th>             <td>Least Squares</td>  <th>  F-statistic:       </th> <td>   446.6</td>\n",
       "</tr>\n",
       "<tr>\n",
       "  <th>Date:</th>             <td>Tue, 30 Aug 2022</td> <th>  Prob (F-statistic):</th> <td>2.53e-76</td>\n",
       "</tr>\n",
       "<tr>\n",
       "  <th>Time:</th>                 <td>13:24:17</td>     <th>  Log-Likelihood:    </th> <td> -306.64</td>\n",
       "</tr>\n",
       "<tr>\n",
       "  <th>No. Observations:</th>      <td>   160</td>      <th>  AIC:               </th> <td>   621.3</td>\n",
       "</tr>\n",
       "<tr>\n",
       "  <th>Df Residuals:</th>          <td>   156</td>      <th>  BIC:               </th> <td>   633.6</td>\n",
       "</tr>\n",
       "<tr>\n",
       "  <th>Df Model:</th>              <td>     3</td>      <th>                     </th>     <td> </td>   \n",
       "</tr>\n",
       "<tr>\n",
       "  <th>Covariance Type:</th>      <td>nonrobust</td>    <th>                     </th>     <td> </td>   \n",
       "</tr>\n",
       "</table>\n",
       "<table class=\"simpletable\">\n",
       "<tr>\n",
       "      <td></td>         <th>coef</th>     <th>std err</th>      <th>t</th>      <th>P>|t|</th>  <th>[0.025</th>    <th>0.975]</th>  \n",
       "</tr>\n",
       "<tr>\n",
       "  <th>const</th>     <td>    2.9791</td> <td>    0.354</td> <td>    8.427</td> <td> 0.000</td> <td>    2.281</td> <td>    3.677</td>\n",
       "</tr>\n",
       "<tr>\n",
       "  <th>TV</th>        <td>    0.0447</td> <td>    0.002</td> <td>   28.544</td> <td> 0.000</td> <td>    0.042</td> <td>    0.048</td>\n",
       "</tr>\n",
       "<tr>\n",
       "  <th>radio</th>     <td>    0.1892</td> <td>    0.010</td> <td>   19.518</td> <td> 0.000</td> <td>    0.170</td> <td>    0.208</td>\n",
       "</tr>\n",
       "<tr>\n",
       "  <th>newspaper</th> <td>    0.0028</td> <td>    0.007</td> <td>    0.392</td> <td> 0.696</td> <td>   -0.011</td> <td>    0.017</td>\n",
       "</tr>\n",
       "</table>\n",
       "<table class=\"simpletable\">\n",
       "<tr>\n",
       "  <th>Omnibus:</th>       <td>67.697</td> <th>  Durbin-Watson:     </th> <td>   2.161</td>\n",
       "</tr>\n",
       "<tr>\n",
       "  <th>Prob(Omnibus):</th> <td> 0.000</td> <th>  Jarque-Bera (JB):  </th> <td> 240.326</td>\n",
       "</tr>\n",
       "<tr>\n",
       "  <th>Skew:</th>          <td>-1.627</td> <th>  Prob(JB):          </th> <td>6.52e-53</td>\n",
       "</tr>\n",
       "<tr>\n",
       "  <th>Kurtosis:</th>      <td> 8.046</td> <th>  Cond. No.          </th> <td>    471.</td>\n",
       "</tr>\n",
       "</table><br/><br/>Notes:<br/>[1] Standard Errors assume that the covariance matrix of the errors is correctly specified."
      ],
      "text/plain": [
       "<class 'statsmodels.iolib.summary.Summary'>\n",
       "\"\"\"\n",
       "                            OLS Regression Results                            \n",
       "==============================================================================\n",
       "Dep. Variable:                  sales   R-squared:                       0.896\n",
       "Model:                            OLS   Adj. R-squared:                  0.894\n",
       "Method:                 Least Squares   F-statistic:                     446.6\n",
       "Date:                Tue, 30 Aug 2022   Prob (F-statistic):           2.53e-76\n",
       "Time:                        13:24:17   Log-Likelihood:                -306.64\n",
       "No. Observations:                 160   AIC:                             621.3\n",
       "Df Residuals:                     156   BIC:                             633.6\n",
       "Df Model:                           3                                         \n",
       "Covariance Type:            nonrobust                                         \n",
       "==============================================================================\n",
       "                 coef    std err          t      P>|t|      [0.025      0.975]\n",
       "------------------------------------------------------------------------------\n",
       "const          2.9791      0.354      8.427      0.000       2.281       3.677\n",
       "TV             0.0447      0.002     28.544      0.000       0.042       0.048\n",
       "radio          0.1892      0.010     19.518      0.000       0.170       0.208\n",
       "newspaper      0.0028      0.007      0.392      0.696      -0.011       0.017\n",
       "==============================================================================\n",
       "Omnibus:                       67.697   Durbin-Watson:                   2.161\n",
       "Prob(Omnibus):                  0.000   Jarque-Bera (JB):              240.326\n",
       "Skew:                          -1.627   Prob(JB):                     6.52e-53\n",
       "Kurtosis:                       8.046   Cond. No.                         471.\n",
       "==============================================================================\n",
       "\n",
       "Notes:\n",
       "[1] Standard Errors assume that the covariance matrix of the errors is correctly specified.\n",
       "\"\"\""
      ]
     },
     "execution_count": 14,
     "metadata": {},
     "output_type": "execute_result"
    }
   ],
   "source": [
    "model = lm.fit()\n",
    "model.summary()"
   ]
  },
  {
   "cell_type": "code",
   "execution_count": 15,
   "id": "6b5532eb-6c8b-439a-abb3-40bcad3718e7",
   "metadata": {},
   "outputs": [],
   "source": [
    "# R-squared ile alakalı değerler bağımlı değişkenin bağımsız değişkenlerce değişiminin açıklanabilirlik değerini verir (%98)\n",
    "# F-statistic ise modelin anlamlılığını değerlendirir\n",
    "# Model doğrulama (validasyon) farklı bir konu\n",
    "# Modellerin tahmin başarısını değerlendirmek için mse ve rmse değerlerine odaklanırız"
   ]
  },
  {
   "cell_type": "code",
   "execution_count": 16,
   "id": "24c1c305-de9a-4b95-b6cb-bb2b022aeb6a",
   "metadata": {},
   "outputs": [
    {
     "data": {
      "text/plain": [
       "1238.993097435658"
      ]
     },
     "execution_count": 16,
     "metadata": {},
     "output_type": "execute_result"
    }
   ],
   "source": [
    "model.mse_model # hata kareler ortalaması yani mse, TV ve Radio"
   ]
  },
  {
   "cell_type": "markdown",
   "id": "c0624a27-6fed-4251-81bb-7cf2607ab161",
   "metadata": {},
   "source": [
    "## Sci-Kit Learn model"
   ]
  },
  {
   "cell_type": "code",
   "execution_count": 17,
   "id": "0455b2dc-9b13-403a-b0d6-6e0d2778ae06",
   "metadata": {},
   "outputs": [],
   "source": [
    "from sklearn.linear_model import LinearRegression"
   ]
  },
  {
   "cell_type": "code",
   "execution_count": 18,
   "id": "7716bc89-2b09-4b58-95fa-852ae0d0c489",
   "metadata": {},
   "outputs": [],
   "source": [
    "lm = LinearRegression()\n",
    "model = lm.fit(X_train, y_train)"
   ]
  },
  {
   "cell_type": "code",
   "execution_count": 19,
   "id": "dd2e59bf-124a-41b2-9a19-a335bfc8bc89",
   "metadata": {},
   "outputs": [
    {
     "data": {
      "text/plain": [
       "2.979067338122631"
      ]
     },
     "execution_count": 19,
     "metadata": {},
     "output_type": "execute_result"
    }
   ],
   "source": [
    "model.intercept_"
   ]
  },
  {
   "cell_type": "code",
   "execution_count": 20,
   "id": "848bdf6a-7ce1-4cc6-ad2f-7baeca9110f3",
   "metadata": {},
   "outputs": [
    {
     "data": {
      "text/plain": [
       "array([0.        , 0.04472952, 0.18919505, 0.00276111])"
      ]
     },
     "execution_count": 20,
     "metadata": {},
     "output_type": "execute_result"
    }
   ],
   "source": [
    "model.coef_"
   ]
  },
  {
   "cell_type": "markdown",
   "id": "efc597e1-33f5-4481-ba2c-e44ce6d84239",
   "metadata": {},
   "source": [
    "# Tahmin"
   ]
  },
  {
   "cell_type": "markdown",
   "id": "883bbc70-7c6a-40de-aeaa-e85bc9c4fec7",
   "metadata": {},
   "source": [
    "Model Denklemi:\n",
    "\n",
    "Sales = 2.97 + TV * 0.044 + Radio * 0.19 + Newspaper * 0.003\n",
    "\n",
    "Örnek: 30 TV, 10 Radio, 40 Gazete harcaması yapılırsa tahmini satış değeri ?"
   ]
  },
  {
   "cell_type": "code",
   "execution_count": 21,
   "id": "85fed5e8-a8f5-4728-9cbf-e1ae5e72172b",
   "metadata": {},
   "outputs": [],
   "source": [
    "yeni_veri = [[0], [30], [10],[40]]\n",
    "yeni_veri = pd.DataFrame(yeni_veri).T #veriyi doğru bir şekilde 3 farklı değişkene verebilmek için df'e çevirdik\n",
    "# burada ders koduyla farklı olan bir sabitim olduğu için onu dikkate alarak girdi vermem gerekiyordu. \n",
    "# ayrıca df çevirme işlemini yapmamızın sebebi matrix çarpımı işlemine hazırlamak"
   ]
  },
  {
   "cell_type": "code",
   "execution_count": 22,
   "id": "a7f1846d-416e-43c1-bea7-5fb3900b5aef",
   "metadata": {},
   "outputs": [
    {
     "data": {
      "text/plain": [
       "array([6.32334798])"
      ]
     },
     "execution_count": 22,
     "metadata": {},
     "output_type": "execute_result"
    }
   ],
   "source": [
    "model.predict(yeni_veri)"
   ]
  },
  {
   "cell_type": "code",
   "execution_count": 23,
   "id": "6a7be59e-e829-485f-b881-2ce27ec5c4e6",
   "metadata": {},
   "outputs": [],
   "source": [
    "from sklearn.metrics import mean_squared_error, r2_score"
   ]
  },
  {
   "cell_type": "code",
   "execution_count": 24,
   "id": "136700e7-ae89-4522-99bd-b48c3d4d2042",
   "metadata": {},
   "outputs": [],
   "source": [
    "rmse = np.sqrt(mean_squared_error(y_train, model.predict(X_train))) # eğitim hatasını hesaplama"
   ]
  },
  {
   "cell_type": "code",
   "execution_count": 25,
   "id": "3d27ceac-ed43-42e6-a65d-180a49dcf469",
   "metadata": {},
   "outputs": [
    {
     "data": {
      "text/plain": [
       "1.6447277656443373"
      ]
     },
     "execution_count": 25,
     "metadata": {},
     "output_type": "execute_result"
    }
   ],
   "source": [
    "rmse # yukarıda m_s_e fonksiyonunun içine gerçek y değerleri ve predict olan y değerlerini koyut hata kare ortalamasını aldık"
   ]
  },
  {
   "cell_type": "code",
   "execution_count": 26,
   "id": "3561be31-b269-4146-9ed1-2af081829722",
   "metadata": {},
   "outputs": [
    {
     "data": {
      "text/plain": [
       "1.7815996615334497"
      ]
     },
     "execution_count": 26,
     "metadata": {},
     "output_type": "execute_result"
    }
   ],
   "source": [
    "rmse_test = np.sqrt(mean_squared_error(y_test, model.predict(X_test))) # test hatasını hesaplama\n",
    "rmse_test #test setinin tahmin başarısı"
   ]
  },
  {
   "cell_type": "markdown",
   "id": "f5940055-3061-42ff-88d0-52810778eeed",
   "metadata": {},
   "source": [
    "# Model Tuning / Model Doğrulama"
   ]
  },
  {
   "cell_type": "markdown",
   "id": "0fe04d6c-625b-4e74-9d1d-b2e05b26c593",
   "metadata": {},
   "source": [
    "Çoklu doğrusal regresyon modelinde B0'dan başka dışsal parametre yok (B0 da değil aslında). Burada model tuning işlemini model doğrulama olarak ele alacağız. Model doğrulamanın görmüş olduğumuz yöntemlerce mantığını ele alıp değerlendirip bu modelde tuningi doğrulama olarak uygulayacağız."
   ]
  },
  {
   "cell_type": "code",
   "execution_count": 27,
   "id": "a7150826-63c7-4f9f-80ba-64f6070dedec",
   "metadata": {},
   "outputs": [
    {
     "data": {
      "text/html": [
       "<div>\n",
       "<style scoped>\n",
       "    .dataframe tbody tr th:only-of-type {\n",
       "        vertical-align: middle;\n",
       "    }\n",
       "\n",
       "    .dataframe tbody tr th {\n",
       "        vertical-align: top;\n",
       "    }\n",
       "\n",
       "    .dataframe thead th {\n",
       "        text-align: right;\n",
       "    }\n",
       "</style>\n",
       "<table border=\"1\" class=\"dataframe\">\n",
       "  <thead>\n",
       "    <tr style=\"text-align: right;\">\n",
       "      <th></th>\n",
       "      <th>TV</th>\n",
       "      <th>radio</th>\n",
       "      <th>newspaper</th>\n",
       "      <th>sales</th>\n",
       "    </tr>\n",
       "  </thead>\n",
       "  <tbody>\n",
       "    <tr>\n",
       "      <th>0</th>\n",
       "      <td>230.1</td>\n",
       "      <td>37.8</td>\n",
       "      <td>69.2</td>\n",
       "      <td>22.1</td>\n",
       "    </tr>\n",
       "    <tr>\n",
       "      <th>1</th>\n",
       "      <td>44.5</td>\n",
       "      <td>39.3</td>\n",
       "      <td>45.1</td>\n",
       "      <td>10.4</td>\n",
       "    </tr>\n",
       "    <tr>\n",
       "      <th>2</th>\n",
       "      <td>17.2</td>\n",
       "      <td>45.9</td>\n",
       "      <td>69.3</td>\n",
       "      <td>9.3</td>\n",
       "    </tr>\n",
       "    <tr>\n",
       "      <th>3</th>\n",
       "      <td>151.5</td>\n",
       "      <td>41.3</td>\n",
       "      <td>58.5</td>\n",
       "      <td>18.5</td>\n",
       "    </tr>\n",
       "    <tr>\n",
       "      <th>4</th>\n",
       "      <td>180.8</td>\n",
       "      <td>10.8</td>\n",
       "      <td>58.4</td>\n",
       "      <td>12.9</td>\n",
       "    </tr>\n",
       "  </tbody>\n",
       "</table>\n",
       "</div>"
      ],
      "text/plain": [
       "      TV  radio  newspaper  sales\n",
       "0  230.1   37.8       69.2   22.1\n",
       "1   44.5   39.3       45.1   10.4\n",
       "2   17.2   45.9       69.3    9.3\n",
       "3  151.5   41.3       58.5   18.5\n",
       "4  180.8   10.8       58.4   12.9"
      ]
     },
     "execution_count": 27,
     "metadata": {},
     "output_type": "execute_result"
    }
   ],
   "source": [
    "df.head()"
   ]
  },
  {
   "cell_type": "code",
   "execution_count": 28,
   "id": "0459a8eb-8d89-41c0-9a18-e4a1d7f9e84e",
   "metadata": {},
   "outputs": [],
   "source": [
    "X = df.drop('sales', axis=1)\n",
    "y = df[\"sales\"]\n",
    "X_train, X_test, y_train, y_test = train_test_split(X, y, \n",
    "                                                    test_size=0.20, \n",
    "                                                    random_state=144)\n",
    "lm = LinearRegression() \n",
    "model = lm.fit(X_train, y_train)"
   ]
  },
  {
   "cell_type": "code",
   "execution_count": 29,
   "id": "5f584eb1-d30a-48d0-82d0-84fbf97f2007",
   "metadata": {},
   "outputs": [
    {
     "data": {
      "text/plain": [
       "1.6748559274650712"
      ]
     },
     "execution_count": 29,
     "metadata": {},
     "output_type": "execute_result"
    }
   ],
   "source": [
    "np.sqrt(mean_squared_error(y_train, model.predict(X_train)))"
   ]
  },
  {
   "cell_type": "code",
   "execution_count": 30,
   "id": "10bbcb8c-7e3f-4a4a-962f-46ba0be99a0c",
   "metadata": {},
   "outputs": [
    {
     "data": {
      "text/plain": [
       "1.6640263686701038"
      ]
     },
     "execution_count": 30,
     "metadata": {},
     "output_type": "execute_result"
    }
   ],
   "source": [
    "np.sqrt(mean_squared_error(y_test, model.predict(X_test)))"
   ]
  },
  {
   "cell_type": "code",
   "execution_count": 31,
   "id": "fb514ad9-3a5c-4edd-9b3d-3b18bf533283",
   "metadata": {},
   "outputs": [
    {
     "data": {
      "text/plain": [
       "0.8971614078663419"
      ]
     },
     "execution_count": 31,
     "metadata": {},
     "output_type": "execute_result"
    }
   ],
   "source": [
    "model.score(X_train, y_train)"
   ]
  },
  {
   "cell_type": "code",
   "execution_count": 32,
   "id": "bde729e4-12bf-4017-a552-52354d78f2ee",
   "metadata": {},
   "outputs": [],
   "source": [
    "# burada modele cross validation yaparak gerçekçi mse değerine ulaşacağız.\n",
    "# aşağıda 10 katlı bir cv yapıp bunun ortalamasını alıyoruz ve bu ortalama güvenilir (valide edilmiş) mse değerine ulaşıyoruz"
   ]
  },
  {
   "cell_type": "code",
   "execution_count": 33,
   "id": "32619977-f901-4c1e-b825-59a917625508",
   "metadata": {},
   "outputs": [
    {
     "data": {
      "text/plain": [
       "0.8853562237979616"
      ]
     },
     "execution_count": 33,
     "metadata": {},
     "output_type": "execute_result"
    }
   ],
   "source": [
    "cross_val_score(model, X, y, cv = 10, scoring = \"r2\").mean()"
   ]
  },
  {
   "cell_type": "markdown",
   "id": "ce347538-320b-4fb4-87ab-f69fb79711e9",
   "metadata": {},
   "source": [
    "### --------------------------------------------------------------------------------------------------------\n",
    "Aşağıdaki gibi direkt score fonksiyonu ile bulunan mse değeri ortalamadan farklı, burada ortalama train grupları için  daha doğru bir mse değeridir"
   ]
  },
  {
   "cell_type": "code",
   "execution_count": 34,
   "id": "f4eb9ac1-311c-40b1-a106-3bf277c6a52b",
   "metadata": {},
   "outputs": [
    {
     "data": {
      "text/plain": [
       "0.8733783298422939"
      ]
     },
     "execution_count": 34,
     "metadata": {},
     "output_type": "execute_result"
    }
   ],
   "source": [
    "cross_val_score(model, X_train, y_train,\n",
    "                cv = 10, \n",
    "                scoring = \"r2\").mean() # bu da train için 10 validasyon yaparak bulduğumuz mse değeri"
   ]
  },
  {
   "cell_type": "code",
   "execution_count": 35,
   "id": "47af8da2-e952-41c8-a5b2-37baaa26c3d8",
   "metadata": {},
   "outputs": [
    {
     "data": {
      "text/plain": [
       "0.8971614078663419"
      ]
     },
     "execution_count": 35,
     "metadata": {},
     "output_type": "execute_result"
    }
   ],
   "source": [
    "model.score(X_train, y_train)"
   ]
  },
  {
   "cell_type": "markdown",
   "id": "ee9e1a48-1407-46b6-aa9b-8598dc99e215",
   "metadata": {},
   "source": [
    "### --------------------------------------------------------------------------------------------------------"
   ]
  },
  {
   "cell_type": "markdown",
   "id": "de48bc08-80fb-471f-b521-fd68eec4235a",
   "metadata": {},
   "source": [
    "# Asıl Önemli Doğrulama Kısmı"
   ]
  },
  {
   "cell_type": "code",
   "execution_count": 36,
   "id": "f3386f01-3565-46a3-9a6c-3b875b1a95e9",
   "metadata": {},
   "outputs": [],
   "source": [
    "## train grubunun tek işlemli ve 10 validasyonlu r2 değerlerinin karşılaştırılması"
   ]
  },
  {
   "cell_type": "code",
   "execution_count": 37,
   "id": "dce2ae65-b623-4868-817a-75869997d48e",
   "metadata": {},
   "outputs": [
    {
     "data": {
      "text/plain": [
       "0.8971614078663419"
      ]
     },
     "execution_count": 37,
     "metadata": {},
     "output_type": "execute_result"
    }
   ],
   "source": [
    "model.score(X_train, y_train) # r2 değeri"
   ]
  },
  {
   "cell_type": "code",
   "execution_count": 38,
   "id": "a63502c1-23f5-44f7-8eac-687b43b698a4",
   "metadata": {},
   "outputs": [
    {
     "data": {
      "text/plain": [
       "0.8733783298422939"
      ]
     },
     "execution_count": 38,
     "metadata": {},
     "output_type": "execute_result"
    }
   ],
   "source": [
    "cross_val_score(model, X_train, y_train,\n",
    "                cv = 10, \n",
    "                scoring = \"r2\").mean() # bu da train grubu için 10 validasyon yaparak bulduğumuz r2 değeri"
   ]
  },
  {
   "cell_type": "code",
   "execution_count": 39,
   "id": "bfd89ebe-108e-445f-82a1-4a04b0e6888b",
   "metadata": {},
   "outputs": [],
   "source": [
    "## burada daha güvenilir olan değer validasyonla bulunmuş değer yani 0.84"
   ]
  },
  {
   "cell_type": "code",
   "execution_count": null,
   "id": "9dfe3b93-5da4-49ed-94ec-08f3b1267529",
   "metadata": {},
   "outputs": [],
   "source": []
  },
  {
   "cell_type": "code",
   "execution_count": 40,
   "id": "11864fe8-7566-4d51-af3e-c019d0fafc4f",
   "metadata": {},
   "outputs": [],
   "source": [
    "## burada train için validasyon yaparken adımları görüyoruz"
   ]
  },
  {
   "cell_type": "code",
   "execution_count": 41,
   "id": "047a056d-1779-46ed-bd8b-46d0610e9483",
   "metadata": {},
   "outputs": [
    {
     "data": {
      "text/plain": [
       "array([3.77011117, 1.38904597, 1.31506551, 3.32109589, 8.82506973,\n",
       "       2.37926645, 2.2872061 , 1.05714426, 2.99532621, 3.15248307])"
      ]
     },
     "execution_count": 41,
     "metadata": {},
     "output_type": "execute_result"
    }
   ],
   "source": [
    "-cross_val_score(model, X_train, y_train,\n",
    "                cv = 10, \n",
    "                scoring = \"neg_mean_squared_error\") # datayı 10'a ayırıp train hatası değerleri oluşturuldu (r2)"
   ]
  },
  {
   "cell_type": "code",
   "execution_count": 42,
   "id": "5448bcc4-18ed-49f1-b228-540b1d5cc137",
   "metadata": {},
   "outputs": [
    {
     "data": {
      "text/plain": [
       "array([1.94167741, 1.17857794, 1.14676306, 1.82238742, 2.97070189,\n",
       "       1.5424871 , 1.51235118, 1.02817521, 1.73070108, 1.77552332])"
      ]
     },
     "execution_count": 42,
     "metadata": {},
     "output_type": "execute_result"
    }
   ],
   "source": [
    "np.sqrt(-cross_val_score(model, X_train, y_train,\n",
    "                cv = 10, \n",
    "                scoring = \"neg_mean_squared_error\")) # elimizde train seti için 10 grubun rmse değeri oldu"
   ]
  },
  {
   "cell_type": "code",
   "execution_count": 43,
   "id": "bb132d10-09b2-4027-a0de-e9ea80251b8d",
   "metadata": {},
   "outputs": [
    {
     "data": {
      "text/plain": [
       "1.6649345607872932"
      ]
     },
     "execution_count": 43,
     "metadata": {},
     "output_type": "execute_result"
    }
   ],
   "source": [
    "np.sqrt(-cross_val_score(model, X_train, y_train,\n",
    "                cv = 10, \n",
    "                scoring = \"neg_mean_squared_error\")).mean() # burada da bu 10 grubun rmse'lerinin ortalamasını alıyoruz"
   ]
  },
  {
   "cell_type": "code",
   "execution_count": 44,
   "id": "94c23e05-3580-4c4e-8964-83d3d0166da0",
   "metadata": {},
   "outputs": [
    {
     "data": {
      "text/plain": [
       "1.6748559274650712"
      ]
     },
     "execution_count": 44,
     "metadata": {},
     "output_type": "execute_result"
    }
   ],
   "source": [
    "np.sqrt(mean_squared_error(y_train, model.predict(X_train))) # 1 adet train seti için rmse değeri bulmuştuk önceden"
   ]
  },
  {
   "cell_type": "markdown",
   "id": "5732ef33-febf-4be4-803d-8aa00abe3067",
   "metadata": {},
   "source": [
    "#### Yukarda adım adım nasıl rmse ortalamasına validasyonla ulaştığımızı ve valide edilmiş rmse ile tekli rmse'nin farkını görüyoruz\n",
    "\n",
    "#### Validasyon yaparken verinin farklı parçalarından rmse değerleri alınarak ortalaması alınıyor.\n",
    "\n",
    "### ---------------------------------------------------------------------------------------------------------"
   ]
  },
  {
   "cell_type": "code",
   "execution_count": 45,
   "id": "8fedd7bb-97bf-4301-8353-91553ce66967",
   "metadata": {},
   "outputs": [],
   "source": [
    "##"
   ]
  },
  {
   "cell_type": "code",
   "execution_count": 46,
   "id": "faf29cd9-ecce-48c2-8a51-a8e8aac8a2db",
   "metadata": {},
   "outputs": [],
   "source": [
    "## Son olarak da asıl kullanacağımız test hatasının valide edilmiş değerini görüyoruz\n",
    "## Bu değer bize ml algoritmamızın gerçek hata payını veriyor diyebiliriz."
   ]
  },
  {
   "cell_type": "code",
   "execution_count": 47,
   "id": "88807992-35b1-4229-9675-e411b6cc0319",
   "metadata": {},
   "outputs": [
    {
     "data": {
      "text/plain": [
       "1.6640263686701038"
      ]
     },
     "execution_count": 47,
     "metadata": {},
     "output_type": "execute_result"
    }
   ],
   "source": [
    "np.sqrt(mean_squared_error(y_test, model.predict(X_test))) # test hatası"
   ]
  },
  {
   "cell_type": "code",
   "execution_count": 48,
   "id": "9652beaa-0b5e-4092-a6c9-bdadfceab5fb",
   "metadata": {},
   "outputs": [
    {
     "data": {
      "text/plain": [
       "1.7399924960346642"
      ]
     },
     "execution_count": 48,
     "metadata": {},
     "output_type": "execute_result"
    }
   ],
   "source": [
    "np.sqrt(-cross_val_score(model, X_test, y_test,\n",
    "                cv = 10, \n",
    "                scoring = \"neg_mean_squared_error\")).mean() # valide edilmiş test hatası değeri yani bunu kullanılırız ölçümde"
   ]
  },
  {
   "cell_type": "code",
   "execution_count": 49,
   "id": "dbcc6bb2-781d-4ef7-a024-62fa1f96d057",
   "metadata": {},
   "outputs": [],
   "source": [
    "# train hatası ve test hatası birbirinden farklılaşır, eğitim hatası test hatasının kötü bir tahmincisidir."
   ]
  },
  {
   "cell_type": "code",
   "execution_count": null,
   "id": "576b40c6-86f3-403b-964c-c745eef0cc53",
   "metadata": {},
   "outputs": [],
   "source": []
  }
 ],
 "metadata": {
  "kernelspec": {
   "display_name": "Python 3 (ipykernel)",
   "language": "python",
   "name": "python3"
  },
  "language_info": {
   "codemirror_mode": {
    "name": "ipython",
    "version": 3
   },
   "file_extension": ".py",
   "mimetype": "text/x-python",
   "name": "python",
   "nbconvert_exporter": "python",
   "pygments_lexer": "ipython3",
   "version": "3.9.7"
  }
 },
 "nbformat": 4,
 "nbformat_minor": 5
}
