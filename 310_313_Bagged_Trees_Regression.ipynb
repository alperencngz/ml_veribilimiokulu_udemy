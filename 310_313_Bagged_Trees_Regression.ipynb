{
 "cells": [
  {
   "cell_type": "markdown",
   "id": "c9aaf809-d1df-4dcd-b4a6-f0f15f8c863d",
   "metadata": {},
   "source": [
    "# Bagged Trees Regression"
   ]
  },
  {
   "cell_type": "markdown",
   "id": "a2fa26bd-659b-498b-9da0-27b6e3450384",
   "metadata": {},
   "source": [
    "# Model"
   ]
  },
  {
   "cell_type": "code",
   "execution_count": 1,
   "id": "a3575ae6-ffc7-42db-9a90-a525e2294e84",
   "metadata": {},
   "outputs": [],
   "source": [
    "import numpy as np\n",
    "import pandas as pd \n",
    "from sklearn.model_selection import train_test_split, GridSearchCV,cross_val_score\n",
    "from sklearn.metrics import mean_squared_error, r2_score\n",
    "import matplotlib.pyplot as plt\n",
    "from sklearn.preprocessing import scale \n",
    "from sklearn import model_selection\n",
    "from sklearn.tree import DecisionTreeRegressor, DecisionTreeClassifier\n",
    "from sklearn.ensemble import BaggingRegressor\n",
    "\n",
    "from warnings import filterwarnings\n",
    "filterwarnings('ignore')"
   ]
  },
  {
   "cell_type": "code",
   "execution_count": 2,
   "id": "94758634-b12e-4e83-9aaf-c12de2a4b755",
   "metadata": {},
   "outputs": [],
   "source": [
    "hit = pd.read_csv(\"Hitters.csv\")\n",
    "df = hit.copy()\n",
    "df = df.dropna()\n",
    "dms = pd.get_dummies(df[['League', 'Division', 'NewLeague']])\n",
    "y = df[\"Salary\"]\n",
    "X_ = df.drop(['Salary', 'League', 'Division', 'NewLeague'], axis=1).astype('float64')\n",
    "X = pd.concat([X_, dms[['League_N', 'Division_W', 'NewLeague_N']]], axis=1)\n",
    "X_train, X_test, y_train, y_test = train_test_split(X, y, \n",
    "                                                    test_size=0.25, \n",
    "                                                    random_state=42)"
   ]
  },
  {
   "cell_type": "code",
   "execution_count": 3,
   "id": "7853c9b3-d7fe-4857-8859-3a2776d9b124",
   "metadata": {},
   "outputs": [
    {
     "data": {
      "text/plain": [
       "BaggingRegressor(bootstrap_features=True)"
      ]
     },
     "execution_count": 3,
     "metadata": {},
     "output_type": "execute_result"
    }
   ],
   "source": [
    "bag_model = BaggingRegressor(bootstrap_features = True) # boostrap örneklemlerini gözlemlemek için True yaptık\n",
    "bag_model.fit(X_train, y_train)"
   ]
  },
  {
   "cell_type": "code",
   "execution_count": 4,
   "id": "82be608f-981b-40cb-8c03-89e691be2899",
   "metadata": {},
   "outputs": [
    {
     "data": {
      "text/plain": [
       "{'base_estimator': None,\n",
       " 'bootstrap': True,\n",
       " 'bootstrap_features': True,\n",
       " 'max_features': 1.0,\n",
       " 'max_samples': 1.0,\n",
       " 'n_estimators': 10,\n",
       " 'n_jobs': None,\n",
       " 'oob_score': False,\n",
       " 'random_state': None,\n",
       " 'verbose': 0,\n",
       " 'warm_start': False}"
      ]
     },
     "execution_count": 4,
     "metadata": {},
     "output_type": "execute_result"
    }
   ],
   "source": [
    "bag_model.get_params()"
   ]
  },
  {
   "cell_type": "code",
   "execution_count": 5,
   "id": "c87ea9eb-aee5-4331-b055-2d504f640818",
   "metadata": {},
   "outputs": [],
   "source": [
    "# n_estimators = oluşan farklı ağaç sayısı (T)"
   ]
  },
  {
   "cell_type": "code",
   "execution_count": 6,
   "id": "0f28599e-f58d-4fb0-a59d-3c24cd3cee96",
   "metadata": {},
   "outputs": [
    {
     "data": {
      "text/plain": [
       "[DecisionTreeRegressor(random_state=2105689532),\n",
       " DecisionTreeRegressor(random_state=268371615),\n",
       " DecisionTreeRegressor(random_state=652908217),\n",
       " DecisionTreeRegressor(random_state=875648796),\n",
       " DecisionTreeRegressor(random_state=350351338),\n",
       " DecisionTreeRegressor(random_state=1133740924),\n",
       " DecisionTreeRegressor(random_state=462429232),\n",
       " DecisionTreeRegressor(random_state=1737747164),\n",
       " DecisionTreeRegressor(random_state=1587230378),\n",
       " DecisionTreeRegressor(random_state=1388889694)]"
      ]
     },
     "execution_count": 6,
     "metadata": {},
     "output_type": "execute_result"
    }
   ],
   "source": [
    "bag_model.estimators_ # modeli oluşturan birbirinden farklı ağaçlar"
   ]
  },
  {
   "cell_type": "code",
   "execution_count": 7,
   "id": "f99d262a-6a94-4259-bb1e-266afdddbee2",
   "metadata": {
    "tags": []
   },
   "outputs": [
    {
     "data": {
      "text/plain": [
       "[array([ 31,  89, 100,  42,   4, 178,  48, 195, 189, 100,  85, 100,  87,\n",
       "         52, 163, 125,  57,  31,  49,  64,  22,  37, 129, 116,  10,  51,\n",
       "        140, 128, 193, 173, 111, 186, 110,  62, 124, 108,  29,  92, 188,\n",
       "         49,  66,   7,  22, 127, 179,  67,  38,  42, 121, 110, 130, 121,\n",
       "         10, 168, 158, 176,  98,  79, 106,  52,  35, 136,  80,  11,  10,\n",
       "         82, 142,  86, 139, 141,  23,  13, 194,  20, 172,  84,  59, 146,\n",
       "         95, 136,  14, 140, 102,  66,  77,  86,  48, 142, 170,  68,   7,\n",
       "        125, 158,  31, 182, 125, 169, 148, 194,  87,  46, 102, 134, 163,\n",
       "         32, 161,  46, 168,  45, 194, 125,  31, 176, 118,  87,  84, 159,\n",
       "         96,  36, 114, 120,  43,   0,  77, 168,  78,  96,  36,  26,  94,\n",
       "        174, 141,  15, 116, 144, 187, 191, 122, 124, 102, 157, 138,  86,\n",
       "        162,  51,  45,  92,  66,  58, 148,  34, 136, 109,  47,   4, 132,\n",
       "         59, 189,  17, 152,  59, 126, 138, 165, 149,  56,  31,  80,  49,\n",
       "         63,  89, 195, 108, 139,  28, 142,  15, 113, 139,  43,  39,  58,\n",
       "         31, 137,  33,  26,  67, 192, 175, 167, 153, 117,   8,  28, 112,\n",
       "         28, 169]),\n",
       " array([ 54,  69, 140, 138,  18,  47,  60,  52,  80, 146, 190, 129, 129,\n",
       "         82, 120,  42, 176,  50, 189,  72, 172,  74,   7, 133, 192,  98,\n",
       "         90, 172,  51,  63,   5, 154,  45,  11,  13, 157,  82,  22, 167,\n",
       "         24,  42,  57,  19, 174,  13,  71, 115, 119, 165, 110,  83,  94,\n",
       "        113,  85,   5, 135,   0,  67, 194, 157, 174, 135, 166, 158,   2,\n",
       "         21, 143,  82, 185,  87,  94,  24, 139,  16,  44, 127,  35, 180,\n",
       "         57,   4, 181, 180, 176, 163, 135, 101, 172, 103, 103,  93, 109,\n",
       "        172, 117,  74,  11,  96,  19,  24,  82,  69,  17,  92, 168,  71,\n",
       "         41, 141, 169, 119, 127, 123,  70, 146, 137,  18,  43, 114, 163,\n",
       "        133, 106,  61,  22, 195,  97, 176, 114,  94,  56,  55,  72, 141,\n",
       "        138, 160,  18, 170, 163, 101,  45,  78, 173, 176,  84, 138,  17,\n",
       "         37, 196,  56,  57,  50,  69, 140, 155,   4, 123, 133,  45, 105,\n",
       "        124,  52,  55,  38, 188,  38,  28, 133,  28, 124, 184, 172,   6,\n",
       "        103,  38,  38,   0, 187,  91, 172,  71,  96,  85,  58,  49,  29,\n",
       "         36,   3,  11, 159,  51, 123,   5,  27,  36,  44, 123,  64,  30,\n",
       "        177, 172]),\n",
       " array([ 12,  21,  71,  71, 142,   6,  75, 192, 104, 143,  68,  53, 143,\n",
       "         80, 100, 150,  38, 180,  29, 179,  24, 192, 144,  95, 152,   9,\n",
       "        144,  52,  91,  38, 128,  21, 158,  74,  70,  73,  67, 103, 177,\n",
       "        161,  57, 161,  35, 196, 100,  45,  29,  23,  68,  71, 173,  41,\n",
       "        183, 176,  11,  38,  39, 103, 120,  76,  77, 186,  98,  23,  26,\n",
       "        174, 142, 196, 134, 165,  34,  41,  15,  89, 189,  38, 120, 112,\n",
       "        144,  99,  49,  22, 104,   5, 136, 121, 148,   1,  24,  58, 135,\n",
       "        175,  71, 116,  38,  46,  22, 179,  21, 146, 151, 174, 129, 137,\n",
       "        136,  23,  55,  31,  27, 189, 124,  94, 169,  80,  86, 109, 176,\n",
       "         15,  39,  13,  44, 185, 141, 115,   1, 100, 115, 179, 179, 190,\n",
       "         10,   5,  53, 189, 175, 136, 155, 195, 101, 184,  83, 166,  25,\n",
       "        165,  50, 144,  14,  16, 169, 178, 178,  84,   5,  77, 163,  46,\n",
       "         48,  30,  15, 157, 131,  87,  67,  53, 100,  91, 112,  22,  29,\n",
       "         94,  91, 133,  22, 160, 167, 151, 159, 103,  32, 145,  21, 122,\n",
       "         13,  52,  27, 165,  82, 155, 125, 158, 156,  90,  99,  68, 194,\n",
       "        173,   7]),\n",
       " array([ 37, 141,  92, 173,  53,  13, 188,   0,  89,  40, 154,  54,  88,\n",
       "          4, 159,  11,  45, 186, 182, 141,  66, 118, 151, 182,   2, 132,\n",
       "         41, 170,  34,  45,  47,  91, 127,  89, 169, 123,  74,  98,  84,\n",
       "         11,  70, 147,   8, 182,  85,  89, 195,  85,  47,  60, 187,  81,\n",
       "        162, 176, 146, 148, 155,  90, 184,  67,  59, 138, 140,  61,  57,\n",
       "         26, 101, 190, 142, 183, 130, 160,  25, 192, 145, 102,  69,   5,\n",
       "         74,  15,  81, 119,  57, 148,  90, 147, 139,  44, 115, 160, 146,\n",
       "        192,  35,  19,  51,  18, 172,  65, 179, 111, 132, 130,   6,  33,\n",
       "        193,  16,  83,  84, 194,  90,  76,  27, 188, 124,  53, 167, 134,\n",
       "         95,  42,  88,  16, 108, 186, 119,  96,  66,  34, 172,  88,  88,\n",
       "         17, 148,  78, 142, 146,  38,  84,  28,  66,  98,  17, 136, 168,\n",
       "         61,  28,  39, 194, 118,  88,  70, 187,  74,  80, 195,   2, 118,\n",
       "         68, 125,  99, 172,  27,  36, 110, 119,  32,   3,  45,  21, 136,\n",
       "        132, 127, 158, 106,  52, 174, 132,  82,  46, 159, 132,  11,   9,\n",
       "        155,   2, 115, 125,  97, 107,  61,  87, 130, 123,  73, 145,  30,\n",
       "         85, 182]),\n",
       " array([164,  22,  52,  67, 186, 102, 137,  95,  87, 162,  62, 138,  69,\n",
       "         11, 166,  68,  67, 100, 165,  71,  98,  80,  46, 158,   5,  39,\n",
       "        191,  34, 106, 159, 160,  42,  50, 170, 167, 121, 192,  50,  72,\n",
       "         92, 179,  67, 158,  66,  49, 156,  69,  82, 187,  26, 127,  31,\n",
       "         15,  86, 110, 114, 173, 107,  15, 121,  76, 133,  50, 181, 176,\n",
       "         85, 115,  49, 159,  64,  75, 187, 130,  42,  70, 157,  33, 188,\n",
       "         39,  72, 100, 171,  23,  33,  26,   2, 193, 123,   1,  90,  52,\n",
       "        177,  83,  42, 130,  28,  55,  49,  37,  25, 127,  99, 142,  70,\n",
       "         32, 158, 100, 175,  40,  33, 172,  25, 180, 146,  98,  96,  67,\n",
       "        164,  76,  45,  20, 113, 192,  92,  93,  59,  46,  14, 113,  85,\n",
       "        180,  35,  76,  58,  94,  53, 153, 183,  12,  14,  59, 141,  58,\n",
       "         87,  48, 178, 174, 122,  55, 168, 148,  13,  24, 129, 121, 143,\n",
       "        153, 138,  23, 117,  28,  63, 180, 179, 103, 135, 150, 176, 162,\n",
       "        117,  70,  78,  35, 126, 154, 131,  27, 123,  76, 194,   6,  99,\n",
       "        183,   7, 195,   6, 109,  40,  81, 126, 179,  44, 116, 153, 181,\n",
       "          7,  41]),\n",
       " array([ 40, 189, 144, 143,  54,  12, 130, 165,  13, 184, 108, 189,  81,\n",
       "        125, 157, 187, 175, 168, 160, 137, 134, 182, 193,  93,  53,  10,\n",
       "         15,  51,  72,  66, 168, 150, 100, 183,  68,  31,  66,   6, 103,\n",
       "         14, 185, 144,  35,  34, 152, 182, 181,  96,  22,  52, 105, 141,\n",
       "        108,  35, 141,  57, 104, 122, 161, 119, 124, 140,  11,  22, 178,\n",
       "        150,  50, 166,  30,  60,  24, 166, 167, 179, 134, 147, 101, 190,\n",
       "         87, 132, 112,  62,  47, 157,   1, 100, 135,  26,  54, 174, 183,\n",
       "         61,  98,  21, 106,  81,  92,  12, 186, 131,  75,  38,  36,  30,\n",
       "         82, 101, 117,  81, 109, 112, 140,  69,   3,  46, 127,  54,  79,\n",
       "        196, 196,  93,  92,  37, 135,  45, 155,  97,  15, 106,  15, 148,\n",
       "         34, 181,  61, 157,  90, 158, 136,  55,  77,  71,  77, 186,  49,\n",
       "         12,  53, 105, 124, 115,  27, 128, 152,  89, 175,  87,  60, 172,\n",
       "         94, 182,  54,  14, 178,  50,  28, 196,  58,   7,  28,  69, 180,\n",
       "        145,  65, 183,  35, 108,   3,   1,  28, 165, 169, 135,  14,  21,\n",
       "         41,  30,  85, 107,  67,  80, 168,  21,  44, 106,  67,   2, 126,\n",
       "        172,   2]),\n",
       " array([  7, 128, 121, 122, 176, 141, 152, 195, 102, 113,  36, 167, 188,\n",
       "        193, 111, 106,  83, 142,  35, 101,  67, 144,  76,  87,  71, 133,\n",
       "        104,  15, 185,  37, 196,  38,   4, 115,  87,  90,  61, 151,  55,\n",
       "          7,  40,  87, 118,  35, 166,  22,  26,  62, 113,  71,  91, 150,\n",
       "        172,  41, 166,  43, 113,  85,  28, 120, 180, 111,  73, 196,  18,\n",
       "          1, 133,  35,  53, 182,  94, 109,  66,  72, 176, 137, 129, 161,\n",
       "         77, 119,  45,  72, 138, 176, 119,  40, 129, 139, 136,  83, 188,\n",
       "        191,  25, 196, 133,  29, 106,  12,  39,  58,  91, 137,  31, 121,\n",
       "         53, 125, 131, 145, 136, 166, 176, 172, 167, 109,  77, 172,  43,\n",
       "        136,   9, 169,  41, 175,   8, 176,  81, 145,  76,  39,  40,  16,\n",
       "        141,  86,  89, 113,   6,  52,  84,  15,   3,  27, 109, 148, 101,\n",
       "        180, 153,  15,  69,  50,  25, 100,  46,  62,  20,  77, 185,  58,\n",
       "        141, 185,  76, 185,  39,   3,  57, 141, 101,  61,  20,  30, 144,\n",
       "         82, 126,  34, 140, 152, 189,  24,  41,  36, 116,  99,  63,   4,\n",
       "         76, 138,  71, 177,  17, 163,  81,  79,  81, 133, 160, 149,  67,\n",
       "         36, 139]),\n",
       " array([150, 119, 109, 176,  97,  68,  62, 157, 181,   2,  21,  24, 144,\n",
       "         27,  54, 196, 160,  86,  30, 134, 116,  71,   2,  58,  42,   6,\n",
       "         92, 183, 141, 117, 149,  38, 133, 180,  20,  71, 125,  18, 160,\n",
       "         50, 150, 150,  89, 111, 124, 104,  74,  53, 147,  44, 122, 114,\n",
       "        171, 179,  93, 104, 179,   7,  76, 128, 180, 150, 179, 191,  90,\n",
       "         75, 168, 100,  24,  58, 111,  49,  49, 189,   0, 176, 187, 179,\n",
       "        107, 187,  65, 185, 154,  90,  83,  70, 117, 104,  91, 137,  64,\n",
       "        153, 180, 158, 108, 123, 114,  90,   1,  43,  59, 169, 126, 110,\n",
       "         33,  78,  96, 178, 166,   1,  63, 133, 174, 187,  49,  18, 196,\n",
       "         36, 138, 195,  31, 183, 157,  63,   7, 176, 170, 109, 110,  97,\n",
       "         28, 139, 176,  69, 126,  64,  97,  53,  65,  29,  22, 181,  58,\n",
       "        135,  53, 173, 194,  41, 169, 131,  70,  93, 147, 103,  32, 154,\n",
       "         77,  35,  38, 155,  98,  64, 137, 123,  25, 163,  12,  67,  15,\n",
       "        127, 154, 104, 185, 161,  14, 109, 196, 182, 181,  15, 150, 132,\n",
       "         87, 101, 110, 179, 131,  58,  66,  22, 188,  49,   9,  17,  48,\n",
       "        187,  69]),\n",
       " array([ 73,   6, 192,  74, 184,  91,  35,  59,  50,  33,  77,  31,  22,\n",
       "         60, 189, 190,  43,  42, 123, 101,  51, 122,  13,  80, 181,  34,\n",
       "         94, 119, 172,  51,  90, 177, 135, 104,  71,  42,  51, 107,   3,\n",
       "         11,  26,  30, 149,  84, 128, 190,  83,  78, 132, 192,  48,  18,\n",
       "        189, 185, 128,  82,  99,  47, 177, 185,  46, 185, 100, 127, 109,\n",
       "         48, 114,  45, 104, 165, 155,  49, 179,  22,  26,  91,  73,  18,\n",
       "        125, 119,  91,  35, 145,  17,  40,  92, 138, 133, 135, 187,  48,\n",
       "        177,  69, 158, 166,  12, 106, 185,  23, 118,  88, 127, 183, 116,\n",
       "         57,  94,  18, 178,   2, 109, 129,  62, 180,  21, 105,   4, 130,\n",
       "        151,  82, 128,  89, 169,  37, 120,  26, 185,  29, 181,  18,  18,\n",
       "         94, 196, 177,  44,  73, 100,   1,  47, 171,  28, 142,  29,  71,\n",
       "         40,  77,  77,  24,  86, 167, 133, 169,  44,  36, 112,  47,  23,\n",
       "         22, 103,  88,  54, 114,  68,  27,  79,  38, 173, 176,  20,  56,\n",
       "        160, 119, 155, 137,  21,  57, 190,  33, 178,  37, 104, 140, 100,\n",
       "         26, 117, 122,  81,  97,  59, 191, 176,  54,  77, 172, 138,  69,\n",
       "         40,  72]),\n",
       " array([ 44, 159,   4,  39,  10, 129,  59, 105,  70,  37, 187, 132,  62,\n",
       "        104, 194,  36, 119,  59, 154,   2, 162, 120, 176, 112,  84,   9,\n",
       "        149,  14,  88, 126,  27, 157,  18,  93,  45,  70,  26, 148, 113,\n",
       "        149,  66, 116, 138, 127, 178,  12, 180,  94,  12,  67,  12, 156,\n",
       "         22,   1, 170, 184, 169,  30,  91,  98, 120,  48,  76, 101, 169,\n",
       "        155,  52,  12, 152, 160,  78,   4, 132, 174, 132,  66, 181,  83,\n",
       "        106, 173,  52, 121, 164,  54,  35,  89, 153, 108, 149,  26, 186,\n",
       "        176, 108, 179, 128, 182,  64, 190,  57,  83,  62,  45, 165,  78,\n",
       "          3, 193,  53, 138,  39,  87,  43,  98,  86, 121,  41, 185,  12,\n",
       "        189,  32,  95,  46,  74, 118,  54,  23, 173,  92, 111, 121,  62,\n",
       "         36,  47, 119, 164, 165, 165,   3,  82, 134,   8, 129,  21, 134,\n",
       "         94,  63,  24, 179,  62, 139,  98, 180,  85,  25, 172,  80,  96,\n",
       "          5,  88,  81, 171,  22, 128,  64, 118, 142,  68,  28, 119,  93,\n",
       "         43,  70, 146,  59, 151,  83,  24, 142,  74,  35, 114,  79, 113,\n",
       "        111, 104,   1, 194, 116,  82,  97,  17,  26, 180,  27, 195,  83,\n",
       "        172,  40])]"
      ]
     },
     "execution_count": 7,
     "metadata": {},
     "output_type": "execute_result"
    }
   ],
   "source": [
    "bag_model.estimators_samples_ # her bir ağaçta kaç örnek olduğu bilgisine erişmek için, buradaki şeyler verilerin indexleri"
   ]
  },
  {
   "cell_type": "code",
   "execution_count": 8,
   "id": "6cba2f90-d4c8-4d29-9dc9-46582901cef8",
   "metadata": {
    "tags": []
   },
   "outputs": [
    {
     "data": {
      "text/plain": [
       "[array([ 5,  7,  5,  9,  3, 10, 18,  0, 13, 13,  4,  9, 17,  3,  6, 11, 15,\n",
       "        11, 17]),\n",
       " array([18, 15,  3, 11,  0, 16,  1,  9, 11,  5,  6, 14, 15,  0, 11,  8,  5,\n",
       "        11,  0]),\n",
       " array([10, 17,  1, 17,  9,  2, 16,  3, 12,  9, 10, 12, 12,  0,  5, 18, 13,\n",
       "        12,  7]),\n",
       " array([ 4,  5, 18, 13,  9, 13,  6, 18, 18,  8,  3, 14,  9, 18,  9, 13,  0,\n",
       "        13,  3]),\n",
       " array([10,  6,  4,  3,  8,  4,  7, 14, 10,  1,  0, 17, 11,  1, 14,  9, 12,\n",
       "        11, 13]),\n",
       " array([16,  0,  8, 15,  1, 12,  9, 17,  1, 11, 15,  5,  0,  4, 15, 10,  7,\n",
       "        18,  6]),\n",
       " array([16, 14, 11, 12, 12, 18,  4,  7, 14, 16, 15, 17, 11,  5, 17, 16, 10,\n",
       "        12,  3]),\n",
       " array([ 3,  4, 15, 15, 16,  8,  1,  9, 13, 15, 14, 14,  6, 11, 18, 13, 10,\n",
       "         9,  1]),\n",
       " array([10, 12, 15, 11,  1,  6, 12,  8, 18, 15, 12,  4, 13,  6, 14, 10,  3,\n",
       "         2, 15]),\n",
       " array([13,  7,  8, 16, 18,  8, 13, 18,  8,  1,  1,  5,  9,  4, 18,  3,  6,\n",
       "        14, 16])]"
      ]
     },
     "execution_count": 8,
     "metadata": {},
     "output_type": "execute_result"
    }
   ],
   "source": [
    "bag_model.estimators_features_ # her bir ağacın bağımsız değişkenlerine ulaşmak için\n",
    "#her bir ağacın kullanıdğı değişkenler ve bunların indexleri"
   ]
  },
  {
   "cell_type": "code",
   "execution_count": 9,
   "id": "75baab35-aae4-4af8-ba23-756fddd3aae1",
   "metadata": {
    "tags": []
   },
   "outputs": [
    {
     "data": {
      "text/plain": [
       "{'ccp_alpha': 0.0,\n",
       " 'criterion': 'mse',\n",
       " 'max_depth': None,\n",
       " 'max_features': None,\n",
       " 'max_leaf_nodes': None,\n",
       " 'min_impurity_decrease': 0.0,\n",
       " 'min_impurity_split': None,\n",
       " 'min_samples_leaf': 1,\n",
       " 'min_samples_split': 2,\n",
       " 'min_weight_fraction_leaf': 0.0,\n",
       " 'random_state': 2105689532,\n",
       " 'splitter': 'best'}"
      ]
     },
     "execution_count": 9,
     "metadata": {},
     "output_type": "execute_result"
    }
   ],
   "source": [
    "bag_model.estimators_[0].get_params() # her bir modele özel değerlere erişmek\n",
    "# sadece 1. modelin özelliklerin eriştik"
   ]
  },
  {
   "cell_type": "markdown",
   "id": "3f65bbf7-ddd2-4842-ab12-15d3c2832dfe",
   "metadata": {},
   "source": [
    "# Tahmin"
   ]
  },
  {
   "cell_type": "code",
   "execution_count": 10,
   "id": "5de63f8f-15df-4179-977e-9a33bc4fe2f5",
   "metadata": {},
   "outputs": [],
   "source": [
    "y_pred = bag_model.predict(X_test) # her bir ağacın tahminlerini bir araya getirerek oluşmuş tahminler"
   ]
  },
  {
   "cell_type": "code",
   "execution_count": 11,
   "id": "74c05989-3503-4489-9549-5f7efc05c53a",
   "metadata": {},
   "outputs": [
    {
     "data": {
      "text/plain": [
       "342.96650338133145"
      ]
     },
     "execution_count": 11,
     "metadata": {},
     "output_type": "execute_result"
    }
   ],
   "source": [
    "np.sqrt(mean_squared_error(y_test, y_pred))"
   ]
  },
  {
   "cell_type": "code",
   "execution_count": 12,
   "id": "eaabd7da-f694-4334-97b9-79b429b52be9",
   "metadata": {},
   "outputs": [],
   "source": [
    "# her bir ağacın özel sonucunu öğrenmek -> ağaçların hatalı tahmincilerine gidip hesap sorma aşaması\n",
    "# her bir ağaca özel sorarak hatalara odaklı optimizasyon işlemlerinin temelini atmış oluyoruz"
   ]
  },
  {
   "cell_type": "code",
   "execution_count": 13,
   "id": "d8007308-12ef-494b-a540-5b8bddf799bd",
   "metadata": {},
   "outputs": [],
   "source": [
    "# ikinci ağacın sonuçlarını görmek için"
   ]
  },
  {
   "cell_type": "code",
   "execution_count": 14,
   "id": "f09adb59-0c7b-474d-b92c-b09d33f936d9",
   "metadata": {},
   "outputs": [],
   "source": [
    "iki_y_pred = bag_model.estimators_[1].fit(X_train, y_train).predict(X_test)"
   ]
  },
  {
   "cell_type": "code",
   "execution_count": 15,
   "id": "40d10f59-d3c2-42c0-8e66-48a4fcffe8d2",
   "metadata": {},
   "outputs": [
    {
     "data": {
      "text/plain": [
       "486.868506768418"
      ]
     },
     "execution_count": 15,
     "metadata": {},
     "output_type": "execute_result"
    }
   ],
   "source": [
    "np.sqrt(mean_squared_error(y_test, iki_y_pred))"
   ]
  },
  {
   "cell_type": "code",
   "execution_count": 16,
   "id": "7c3fbf3b-617c-434c-88cc-5b811cf28c76",
   "metadata": {},
   "outputs": [],
   "source": [
    "# bu ağacı ilerleyen dönemlerde kırbaçlayacağız\n",
    "#RF bu durumlarda ağaçlara farklı ağırlıklar vererek iyi tahmin yapanlara öncelik veriyor"
   ]
  },
  {
   "cell_type": "code",
   "execution_count": 17,
   "id": "cdee618f-6857-4345-979b-9a02ec897ea2",
   "metadata": {},
   "outputs": [],
   "source": [
    "yedi_y_pred = bag_model.estimators_[6].fit(X_train, y_train).predict(X_test)"
   ]
  },
  {
   "cell_type": "code",
   "execution_count": 18,
   "id": "10fd8726-15d5-4bba-a77e-74b96717c118",
   "metadata": {},
   "outputs": [
    {
     "data": {
      "text/plain": [
       "514.5437099576525"
      ]
     },
     "execution_count": 18,
     "metadata": {},
     "output_type": "execute_result"
    }
   ],
   "source": [
    "np.sqrt(mean_squared_error(y_test, yedi_y_pred))"
   ]
  },
  {
   "cell_type": "code",
   "execution_count": 19,
   "id": "d8af59a3-7fc7-4f7f-b156-aebc3d13ffd0",
   "metadata": {},
   "outputs": [],
   "source": [
    "# bu şekilde ağaçların her birine ayrı ayrı erişip hata değeri büyük olanları optimize edebiliriz (optimizasyon ilerde)"
   ]
  },
  {
   "cell_type": "markdown",
   "id": "bdd64236-e449-42e9-a2cd-f95357453e9f",
   "metadata": {},
   "source": [
    "# Model Tuning"
   ]
  },
  {
   "cell_type": "markdown",
   "id": "464bbc92-c6ae-4a8a-b904-9050326727ff",
   "metadata": {},
   "source": [
    "Beggingi aslında bir metodoloji olarak görmemiz gerekiyor -> beg etmek, bootstrap birleştirmeleri yapmak\n",
    "\n",
    "Bu metodolojiyi herhangi bir ağaç yöntemine uyguladığınızda o ağacı beg etmiş oluyorsunuz -> mesela CART'a bunu uyguladığımızda ve değişken seçimlerine de random_sub_space yöntemini getirdiğimizde RandomForests yapmış oluyoruz"
   ]
  },
  {
   "cell_type": "code",
   "execution_count": 20,
   "id": "ce2d727b-79b4-4cc5-b176-f7ccadcd51fb",
   "metadata": {},
   "outputs": [
    {
     "data": {
      "text/plain": [
       "BaggingRegressor(bootstrap_features=True)"
      ]
     },
     "execution_count": 20,
     "metadata": {},
     "output_type": "execute_result"
    }
   ],
   "source": [
    "bag_model = BaggingRegressor(bootstrap_features = True)\n",
    "bag_model.fit(X_train, y_train)"
   ]
  },
  {
   "cell_type": "code",
   "execution_count": 21,
   "id": "7bf9a3ee-0271-49cc-92de-54fb086c2bf6",
   "metadata": {},
   "outputs": [],
   "source": [
    "bag_params = {\"n_estimators\": range(2,20)}"
   ]
  },
  {
   "cell_type": "code",
   "execution_count": 22,
   "id": "be1c173b-1e96-4a9e-8902-0b7605a07698",
   "metadata": {},
   "outputs": [],
   "source": [
    "bag_cv_model = GridSearchCV(bag_model, bag_params, cv = 10)"
   ]
  },
  {
   "cell_type": "code",
   "execution_count": 23,
   "id": "6b705a13-6dfa-4f30-9497-f1d675317e2d",
   "metadata": {},
   "outputs": [
    {
     "data": {
      "text/plain": [
       "GridSearchCV(cv=10, estimator=BaggingRegressor(bootstrap_features=True),\n",
       "             param_grid={'n_estimators': range(2, 20)})"
      ]
     },
     "execution_count": 23,
     "metadata": {},
     "output_type": "execute_result"
    }
   ],
   "source": [
    "bag_cv_model.fit(X_train, y_train)"
   ]
  },
  {
   "cell_type": "code",
   "execution_count": 24,
   "id": "1b253631-a3e2-4b9c-9bd8-60f1e9aac8c4",
   "metadata": {},
   "outputs": [
    {
     "data": {
      "text/plain": [
       "{'n_estimators': 17}"
      ]
     },
     "execution_count": 24,
     "metadata": {},
     "output_type": "execute_result"
    }
   ],
   "source": [
    "bag_cv_model.best_params_"
   ]
  },
  {
   "cell_type": "code",
   "execution_count": 25,
   "id": "44aea6d6-33a7-4d51-8aeb-7f136d2bec8f",
   "metadata": {},
   "outputs": [],
   "source": [
    "# final modeli oluşturma"
   ]
  },
  {
   "cell_type": "code",
   "execution_count": 26,
   "id": "bd32566f-ccc6-46a9-94d2-cda03745d824",
   "metadata": {},
   "outputs": [],
   "source": [
    "bag_tuned = BaggingRegressor(n_estimators = 10, random_state = 45)"
   ]
  },
  {
   "cell_type": "code",
   "execution_count": 27,
   "id": "f77ca2ba-f8ac-49c4-9297-51f3ef6375c2",
   "metadata": {},
   "outputs": [
    {
     "data": {
      "text/plain": [
       "BaggingRegressor(random_state=45)"
      ]
     },
     "execution_count": 27,
     "metadata": {},
     "output_type": "execute_result"
    }
   ],
   "source": [
    "bag_tuned.fit(X_train, y_train)"
   ]
  },
  {
   "cell_type": "code",
   "execution_count": 28,
   "id": "25b70125-a522-455c-a8dd-0b63828f462d",
   "metadata": {},
   "outputs": [],
   "source": [
    "y_pred = bag_tuned.predict(X_test)"
   ]
  },
  {
   "cell_type": "code",
   "execution_count": 29,
   "id": "9684ecaa-90d9-4911-8160-127c246b7f8b",
   "metadata": {},
   "outputs": [
    {
     "data": {
      "text/plain": [
       "343.7299462017933"
      ]
     },
     "execution_count": 29,
     "metadata": {},
     "output_type": "execute_result"
    }
   ],
   "source": [
    "np.sqrt(mean_squared_error(y_test, y_pred))"
   ]
  },
  {
   "cell_type": "code",
   "execution_count": 30,
   "id": "0af90231-a66a-4da9-a070-9e1e691f1d58",
   "metadata": {},
   "outputs": [],
   "source": [
    "# elimizdeki veri setinde şimdiye kadarki en düşük hata değerini almış olduk"
   ]
  },
  {
   "cell_type": "code",
   "execution_count": 31,
   "id": "434ce229-d1f1-4c0c-9a08-ba7dfd246849",
   "metadata": {},
   "outputs": [],
   "source": [
    "# burada kendi kodumla her ağacın hata değerini ayrı ayrı inceleyeceğim"
   ]
  },
  {
   "cell_type": "code",
   "execution_count": 32,
   "id": "3b294b1d-03fe-46ed-84bb-600aecf882c0",
   "metadata": {},
   "outputs": [
    {
     "name": "stdout",
     "output_type": "stream",
     "text": [
      "Object `?` not found.\n"
     ]
    }
   ],
   "source": [
    "???"
   ]
  },
  {
   "cell_type": "code",
   "execution_count": null,
   "id": "415e4021-4faf-44fc-ac7c-3dcf5196721e",
   "metadata": {},
   "outputs": [],
   "source": []
  },
  {
   "cell_type": "code",
   "execution_count": 33,
   "id": "c0a7f725-0c40-48af-83c4-041aab3c41a6",
   "metadata": {},
   "outputs": [
    {
     "name": "stdout",
     "output_type": "stream",
     "text": [
      "474.8653074801604\n",
      "469.5993939326306\n",
      "526.5852061961016\n",
      "476.5403582960464\n",
      "447.7179409429185\n",
      "473.86325152155\n",
      "520.2307745853437\n",
      "523.538001721504\n",
      "518.7235948615368\n",
      "486.2569892557595\n"
     ]
    }
   ],
   "source": [
    "for i in range(10):\n",
    "    predict = bag_tuned.estimators_[i].fit(X_train, y_train).predict(X_test)\n",
    "    error = np.sqrt(mean_squared_error(y_test, predict))\n",
    "    print(error)"
   ]
  },
  {
   "cell_type": "code",
   "execution_count": 34,
   "id": "dbf83f79-bd8c-410f-acb2-5e32b5c0fc23",
   "metadata": {},
   "outputs": [],
   "source": [
    "# burada neden rmse değerier tuned modelin verdiği değerden(ortalamaları olması gerekiyor diye düşünüyorum) büyük çıktı???"
   ]
  },
  {
   "cell_type": "code",
   "execution_count": null,
   "id": "5da18365-597f-4107-ba57-2ced36a484e7",
   "metadata": {},
   "outputs": [],
   "source": []
  }
 ],
 "metadata": {
  "kernelspec": {
   "display_name": "Python 3 (ipykernel)",
   "language": "python",
   "name": "python3"
  },
  "language_info": {
   "codemirror_mode": {
    "name": "ipython",
    "version": 3
   },
   "file_extension": ".py",
   "mimetype": "text/x-python",
   "name": "python",
   "nbconvert_exporter": "python",
   "pygments_lexer": "ipython3",
   "version": "3.9.7"
  }
 },
 "nbformat": 4,
 "nbformat_minor": 5
}
