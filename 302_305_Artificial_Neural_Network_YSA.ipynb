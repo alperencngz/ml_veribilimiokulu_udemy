{
 "cells": [
  {
   "cell_type": "markdown",
   "id": "82ab63ad-d7d3-4606-9735-7ab755733c34",
   "metadata": {},
   "source": [
    "# Yapay Sinir Ağları"
   ]
  },
  {
   "cell_type": "markdown",
   "id": "468eb17e-ba72-4ab0-9c85-62387ab908a6",
   "metadata": {},
   "source": [
    "# Model"
   ]
  },
  {
   "cell_type": "code",
   "execution_count": 1,
   "id": "90488c18-dc0f-4621-9e53-08fad484559b",
   "metadata": {},
   "outputs": [],
   "source": [
    "import numpy as np\n",
    "import pandas as pd \n",
    "from sklearn.model_selection import train_test_split, GridSearchCV,cross_val_score\n",
    "from sklearn.metrics import mean_squared_error, r2_score\n",
    "import matplotlib.pyplot as plt\n",
    "from sklearn.preprocessing import scale \n",
    "from sklearn import model_selection\n",
    "from sklearn.tree import DecisionTreeRegressor, DecisionTreeClassifier\n",
    "from sklearn.neighbors import KNeighborsRegressor\n",
    "from sklearn.ensemble import BaggingRegressor\n",
    "\n",
    "from warnings import filterwarnings\n",
    "filterwarnings('ignore')"
   ]
  },
  {
   "cell_type": "code",
   "execution_count": 2,
   "id": "c5e8b1c2-4670-4c7f-b45f-dd9993a8f942",
   "metadata": {},
   "outputs": [],
   "source": [
    "hit = pd.read_csv(\"Hitters.csv\")\n",
    "df = hit.copy()\n",
    "df = df.dropna()\n",
    "dms = pd.get_dummies(df[['League', 'Division', 'NewLeague']])\n",
    "y = df[\"Salary\"]\n",
    "X_ = df.drop(['Salary', 'League', 'Division', 'NewLeague'], axis=1).astype('float64')\n",
    "X = pd.concat([X_, dms[['League_N', 'Division_W', 'NewLeague_N']]], axis=1)\n",
    "X_train, X_test, y_train, y_test = train_test_split(X, y, \n",
    "                                                    test_size=0.25, \n",
    "                                                    random_state=42)"
   ]
  },
  {
   "cell_type": "code",
   "execution_count": 3,
   "id": "51e3f21a-42f0-4584-9635-3b2e5b1b27ae",
   "metadata": {},
   "outputs": [],
   "source": [
    "# Önce veriye dönüştürme işlemi yapmamız gerekiyor"
   ]
  },
  {
   "cell_type": "markdown",
   "id": "a27275de-8423-437d-ba6b-3a3648ff0513",
   "metadata": {},
   "source": [
    "Bir çok katman olduğundan dolayı verideki aykırılıklar ve değişkenlerin varyans ayapılarının birbirinden çok farklı olması elde edilen sonuçların güvenilirliğini düşürmektedir. Bundan dolayı YSA'da özellikle bu işlem yapılmalıdır."
   ]
  },
  {
   "cell_type": "code",
   "execution_count": 4,
   "id": "eb17cfdb-99b5-4f1d-b8a3-180e6769f958",
   "metadata": {},
   "outputs": [],
   "source": [
    "from sklearn.preprocessing import StandardScaler"
   ]
  },
  {
   "cell_type": "code",
   "execution_count": 5,
   "id": "b38ecfdb-3adb-4bb6-a679-f6f62b1debdd",
   "metadata": {},
   "outputs": [
    {
     "data": {
      "text/plain": [
       "StandardScaler()"
      ]
     },
     "execution_count": 5,
     "metadata": {},
     "output_type": "execute_result"
    }
   ],
   "source": [
    "scaler = StandardScaler()\n",
    "scaler.fit(X_train)"
   ]
  },
  {
   "cell_type": "code",
   "execution_count": 6,
   "id": "d7a96bd3-4501-4376-a5ee-e9b71f3f7988",
   "metadata": {},
   "outputs": [],
   "source": [
    "X_train_scaled = scaler.transform(X_train)"
   ]
  },
  {
   "cell_type": "code",
   "execution_count": 7,
   "id": "25cef8f2-497a-490a-acf5-a10efcff9479",
   "metadata": {},
   "outputs": [],
   "source": [
    "X_test_scaled = scaler.transform(X_test)"
   ]
  },
  {
   "cell_type": "code",
   "execution_count": 8,
   "id": "c663724b-d54d-426d-b8a5-daa7b9a9843a",
   "metadata": {},
   "outputs": [],
   "source": [
    "#X_train_scaled = scaler.fit_transform(X_train)\n",
    "#X_test_scaled = scaler.fit_transform(X_test)\n",
    "# burada fit yapmak ile fit_transform yapmak arasında fark olur muydu, dene bitince"
   ]
  },
  {
   "cell_type": "markdown",
   "id": "0ab6a81e-6eae-4483-ba44-9fc360797105",
   "metadata": {},
   "source": [
    "### Şimdi Model Kurulumu zamanı"
   ]
  },
  {
   "cell_type": "code",
   "execution_count": 9,
   "id": "6a95f8b6-2e12-46e8-abf1-cf15c79db6fe",
   "metadata": {},
   "outputs": [],
   "source": [
    "from sklearn.neural_network import MLPRegressor"
   ]
  },
  {
   "cell_type": "code",
   "execution_count": 21,
   "id": "05501748-b359-472f-920a-17d1f4088af4",
   "metadata": {},
   "outputs": [],
   "source": [
    "mlp_model = MLPRegressor(hidden_layer_sizes = (100,20)).fit(X_train_scaled, y_train)"
   ]
  },
  {
   "cell_type": "code",
   "execution_count": 22,
   "id": "2d6ae05a-ea54-4716-ba2b-cca9daf4f2e1",
   "metadata": {},
   "outputs": [
    {
     "data": {
      "text/plain": [
       "{'activation': 'relu',\n",
       " 'alpha': 0.0001,\n",
       " 'batch_size': 'auto',\n",
       " 'beta_1': 0.9,\n",
       " 'beta_2': 0.999,\n",
       " 'early_stopping': False,\n",
       " 'epsilon': 1e-08,\n",
       " 'hidden_layer_sizes': (100, 20),\n",
       " 'learning_rate': 'constant',\n",
       " 'learning_rate_init': 0.001,\n",
       " 'max_fun': 15000,\n",
       " 'max_iter': 200,\n",
       " 'momentum': 0.9,\n",
       " 'n_iter_no_change': 10,\n",
       " 'nesterovs_momentum': True,\n",
       " 'power_t': 0.5,\n",
       " 'random_state': None,\n",
       " 'shuffle': True,\n",
       " 'solver': 'adam',\n",
       " 'tol': 0.0001,\n",
       " 'validation_fraction': 0.1,\n",
       " 'verbose': False,\n",
       " 'warm_start': False}"
      ]
     },
     "execution_count": 22,
     "metadata": {},
     "output_type": "execute_result"
    }
   ],
   "source": [
    "mlp_model.get_params() # inceleme için"
   ]
  },
  {
   "cell_type": "code",
   "execution_count": 23,
   "id": "784b231c-82ef-4a6c-bbb0-b82ce731d8d3",
   "metadata": {},
   "outputs": [
    {
     "data": {
      "text/plain": [
       "4"
      ]
     },
     "execution_count": 23,
     "metadata": {},
     "output_type": "execute_result"
    }
   ],
   "source": [
    "mlp_model.n_layers_ # katman sayısıdır, genel framework (büyük resimi) ifade eder -> (1i, 1o, 1h)"
   ]
  },
  {
   "cell_type": "code",
   "execution_count": 24,
   "id": "a66a5176-6a5c-4c97-8fba-3c0ecc6b0352",
   "metadata": {},
   "outputs": [
    {
     "data": {
      "text/plain": [
       "(100, 20)"
      ]
     },
     "execution_count": 24,
     "metadata": {},
     "output_type": "execute_result"
    }
   ],
   "source": [
    "mlp_model.hidden_layer_sizes # genel framework'ün gizli katmanlarının içindeki nöron sayısı"
   ]
  },
  {
   "cell_type": "markdown",
   "id": "28fe7ad0-ebc9-44e0-a477-95b0175ef9a9",
   "metadata": {},
   "source": [
    "# Tahmin"
   ]
  },
  {
   "cell_type": "code",
   "execution_count": 25,
   "id": "639b190c-baa3-4733-9d13-3362b5f9ad74",
   "metadata": {},
   "outputs": [
    {
     "data": {
      "text/plain": [
       "array([ 88.3524026 , 364.90976787, 265.6522415 ,  67.16070214])"
      ]
     },
     "execution_count": 25,
     "metadata": {},
     "output_type": "execute_result"
    }
   ],
   "source": [
    "mlp_model.predict(X_train_scaled)[0:4]"
   ]
  },
  {
   "cell_type": "code",
   "execution_count": 26,
   "id": "441e028e-3784-446f-90ed-e09d1693d04b",
   "metadata": {},
   "outputs": [],
   "source": [
    "y_pred = mlp_model.predict(X_test_scaled)"
   ]
  },
  {
   "cell_type": "code",
   "execution_count": 27,
   "id": "c7975de6-be45-4269-b6fc-1df2cf7cc6c5",
   "metadata": {},
   "outputs": [
    {
     "data": {
      "text/plain": [
       "455.3815535656345"
      ]
     },
     "execution_count": 27,
     "metadata": {},
     "output_type": "execute_result"
    }
   ],
   "source": [
    "np.sqrt(mean_squared_error(y_test, y_pred))"
   ]
  },
  {
   "cell_type": "markdown",
   "id": "04d36546-c8bd-4bb1-91b7-675da225fbaf",
   "metadata": {},
   "source": [
    "# Model Tuning"
   ]
  },
  {
   "cell_type": "code",
   "execution_count": 28,
   "id": "196c6a08-a725-4bbf-8be1-a954d83481c0",
   "metadata": {},
   "outputs": [
    {
     "data": {
      "text/plain": [
       "{'activation': 'relu',\n",
       " 'alpha': 0.0001,\n",
       " 'batch_size': 'auto',\n",
       " 'beta_1': 0.9,\n",
       " 'beta_2': 0.999,\n",
       " 'early_stopping': False,\n",
       " 'epsilon': 1e-08,\n",
       " 'hidden_layer_sizes': (100, 20),\n",
       " 'learning_rate': 'constant',\n",
       " 'learning_rate_init': 0.001,\n",
       " 'max_fun': 15000,\n",
       " 'max_iter': 200,\n",
       " 'momentum': 0.9,\n",
       " 'n_iter_no_change': 10,\n",
       " 'nesterovs_momentum': True,\n",
       " 'power_t': 0.5,\n",
       " 'random_state': None,\n",
       " 'shuffle': True,\n",
       " 'solver': 'adam',\n",
       " 'tol': 0.0001,\n",
       " 'validation_fraction': 0.1,\n",
       " 'verbose': False,\n",
       " 'warm_start': False}"
      ]
     },
     "execution_count": 28,
     "metadata": {},
     "output_type": "execute_result"
    }
   ],
   "source": [
    "mlp_model.get_params()"
   ]
  },
  {
   "cell_type": "code",
   "execution_count": 29,
   "id": "f3f208a4-c528-479c-a7bc-18ff5ac2981d",
   "metadata": {},
   "outputs": [],
   "source": [
    "# 'hidden_layer_sizes': (100, 20), kısmı"
   ]
  },
  {
   "cell_type": "markdown",
   "id": "24799cb3-52eb-4806-b274-ff606d389e24",
   "metadata": {},
   "source": [
    "Bu parametreye girilen sayılar yeni katman eklemesi olarak düşünülür. Girilen sayı da katmanın nöron sayısını ifade eder.\n",
    "\n",
    "Bu hiperparametre girilen sayıyla beraber 3. katmanı oluşturacağını ve onun kaç nöronlu olacağını anlar."
   ]
  },
  {
   "cell_type": "code",
   "execution_count": 31,
   "id": "f65a930f-ee9a-47ba-aa8c-aeff97a286d3",
   "metadata": {},
   "outputs": [],
   "source": [
    "mlp_params = {\"alpha\": [0.1, 0.01, 0.02, 0.005], \n",
    "              \"hidden_layer_sizes\": [(20, 20), (100, 50, 150), (200, 300, 150)],\n",
    "              \"activation\": [\"relu\", \"logistic\"]}"
   ]
  },
  {
   "cell_type": "code",
   "execution_count": 33,
   "id": "6b60e4f5-8637-4ff9-9a8f-d84d465820d1",
   "metadata": {},
   "outputs": [],
   "source": [
    "mlp_cv_model = GridSearchCV(mlp_model, mlp_params, cv = 10)"
   ]
  },
  {
   "cell_type": "code",
   "execution_count": 34,
   "id": "c9e72dcb-2e7b-44c2-913f-ebf1ec2299fb",
   "metadata": {},
   "outputs": [
    {
     "data": {
      "text/plain": [
       "GridSearchCV(cv=10, estimator=MLPRegressor(hidden_layer_sizes=(100, 20)),\n",
       "             param_grid={'activation': ['relu', 'logistic'],\n",
       "                         'alpha': [0.1, 0.01, 0.02, 0.005],\n",
       "                         'hidden_layer_sizes': [(20, 20), (100, 50, 150),\n",
       "                                                (200, 300, 150)]})"
      ]
     },
     "execution_count": 34,
     "metadata": {},
     "output_type": "execute_result"
    }
   ],
   "source": [
    "mlp_cv_model.fit(X_train_scaled, y_train)"
   ]
  },
  {
   "cell_type": "code",
   "execution_count": 35,
   "id": "c455500a-61de-4663-8eb4-08914faea0b3",
   "metadata": {},
   "outputs": [
    {
     "data": {
      "text/plain": [
       "{'activation': 'relu', 'alpha': 0.02, 'hidden_layer_sizes': (100, 50, 150)}"
      ]
     },
     "execution_count": 35,
     "metadata": {},
     "output_type": "execute_result"
    }
   ],
   "source": [
    "mlp_cv_model.best_params_"
   ]
  },
  {
   "cell_type": "code",
   "execution_count": 36,
   "id": "b2fb823a-809c-4cb3-8f3f-799aebcf4777",
   "metadata": {},
   "outputs": [],
   "source": [
    "# final modeli oluşturma"
   ]
  },
  {
   "cell_type": "code",
   "execution_count": 38,
   "id": "2c4189f0-17e9-4016-a857-274d93f5aa48",
   "metadata": {},
   "outputs": [],
   "source": [
    "mlp_tuned = MLPRegressor(alpha = 0.02, activation = \"relu\", hidden_layer_sizes = (100,50,150))"
   ]
  },
  {
   "cell_type": "code",
   "execution_count": 41,
   "id": "b110211b-0ae5-416f-8a43-30e61d05e878",
   "metadata": {},
   "outputs": [
    {
     "data": {
      "text/plain": [
       "MLPRegressor(alpha=0.02, hidden_layer_sizes=(100, 50, 150))"
      ]
     },
     "execution_count": 41,
     "metadata": {},
     "output_type": "execute_result"
    }
   ],
   "source": [
    "mlp_tuned.fit(X_train_scaled, y_train) # tune edilmiş modeli oluşturduk optimum hiperparametrelerle"
   ]
  },
  {
   "cell_type": "code",
   "execution_count": 42,
   "id": "b7f823f0-1bba-4c90-83de-ed40d5dca8cc",
   "metadata": {},
   "outputs": [],
   "source": [
    "# son test hatasının oluşturulması ve karşılaştırılması"
   ]
  },
  {
   "cell_type": "code",
   "execution_count": 43,
   "id": "ccf8f792-fff7-4991-8782-07b351373757",
   "metadata": {},
   "outputs": [],
   "source": [
    "y_pred = mlp_tuned.predict(X_test_scaled)"
   ]
  },
  {
   "cell_type": "code",
   "execution_count": 44,
   "id": "5ed4fd63-a1a2-41bc-8824-302de7494368",
   "metadata": {},
   "outputs": [
    {
     "data": {
      "text/plain": [
       "359.1287319734944"
      ]
     },
     "execution_count": 44,
     "metadata": {},
     "output_type": "execute_result"
    }
   ],
   "source": [
    "np.sqrt(mean_squared_error(y_test, y_pred))"
   ]
  },
  {
   "cell_type": "markdown",
   "id": "042088ba-052f-4c87-a028-951b931f2b6d",
   "metadata": {},
   "source": [
    "### YSA: 359, SVR: 367, KNN: 413, NonlinearSVR : 473\n",
    "#### Yukarıdaki tune edilmiş RMSE sonuçlarına bakarak en doğru tahminleri yapan modelimizin YSA olduğunu söyleyebiliriz"
   ]
  },
  {
   "cell_type": "code",
   "execution_count": null,
   "id": "6ba27d0a-66ea-4748-bb6c-793d6ce4c1ec",
   "metadata": {},
   "outputs": [],
   "source": []
  }
 ],
 "metadata": {
  "kernelspec": {
   "display_name": "Python 3 (ipykernel)",
   "language": "python",
   "name": "python3"
  },
  "language_info": {
   "codemirror_mode": {
    "name": "ipython",
    "version": 3
   },
   "file_extension": ".py",
   "mimetype": "text/x-python",
   "name": "python",
   "nbconvert_exporter": "python",
   "pygments_lexer": "ipython3",
   "version": "3.9.7"
  }
 },
 "nbformat": 4,
 "nbformat_minor": 5
}
