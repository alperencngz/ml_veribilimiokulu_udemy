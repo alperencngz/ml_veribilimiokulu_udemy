{
 "cells": [
  {
   "cell_type": "markdown",
   "id": "fb685832-ed07-4f5f-91f5-932ca9dee922",
   "metadata": {},
   "source": [
    "#### Import"
   ]
  },
  {
   "cell_type": "code",
   "execution_count": 2,
   "id": "431dd2ba-1d15-4f54-9e5d-dd9a05947a26",
   "metadata": {},
   "outputs": [],
   "source": [
    "from warnings import filterwarnings\n",
    "filterwarnings('ignore')\n",
    "import numpy as np\n",
    "import pandas as pd \n",
    "import seaborn as sns\n",
    "import matplotlib.pyplot as plt\n",
    "import scipy as sp\n",
    "from sklearn.cluster import KMeans"
   ]
  },
  {
   "cell_type": "markdown",
   "id": "58ced95d-54bc-4c97-a792-f39be644107a",
   "metadata": {},
   "source": [
    "# Kmeans"
   ]
  },
  {
   "cell_type": "markdown",
   "id": "6a407b32-ac6a-4f37-b6cd-4dbb0e9d52cd",
   "metadata": {},
   "source": [
    "İş Problemimiz : Amerikada işe girdik. Problem:\n",
    "\n",
    "Bazı eyaletleri çeşitli suç istatistiklerine göre segmente etmek istiyoruz. Bu segmentlere göre bu eyaletlere bazı yaptırımlarda bulunmak istiyoruz. \n",
    "\n",
    "Buna yönelik olarak bütün eyaletleri tek tek yapmak zor, bunları bir veri bilimci aracılığıyla veri bilimciye diyoruz ki:\n",
    "\n",
    "Biz sana değişkenleri verelim, sen bu değişkenlerin etkilerini göz önünde bulundurarak eyaletleri segmente et ve bize bir liste ver. Biz de o listeye göz gezdirerek nihai segmentlemeyi yapıp politikalarımızı geliştirelim.\n",
    "\n",
    "Burada dikkat edilmesi gereken şey kümeleme sonunda oluşan segmentleri bir iş alanı profesiyoneline de kontrol ettirmek. Bizim örneğimizde bu şöyle olabilir: \"Bu eyaletin etnik yapısı bu değişimlere izin vermeyebilir. Bunları bu segmentte bırakmayalım.\" "
   ]
  },
  {
   "cell_type": "markdown",
   "id": "f72adc0d-c49e-453a-a196-761ece5eae61",
   "metadata": {
    "tags": []
   },
   "source": [
    "## Veriyi İnceleme"
   ]
  },
  {
   "cell_type": "code",
   "execution_count": 3,
   "id": "59a9f991-642f-4c59-bfc0-791c20519947",
   "metadata": {},
   "outputs": [
    {
     "data": {
      "text/html": [
       "<div>\n",
       "<style scoped>\n",
       "    .dataframe tbody tr th:only-of-type {\n",
       "        vertical-align: middle;\n",
       "    }\n",
       "\n",
       "    .dataframe tbody tr th {\n",
       "        vertical-align: top;\n",
       "    }\n",
       "\n",
       "    .dataframe thead th {\n",
       "        text-align: right;\n",
       "    }\n",
       "</style>\n",
       "<table border=\"1\" class=\"dataframe\">\n",
       "  <thead>\n",
       "    <tr style=\"text-align: right;\">\n",
       "      <th></th>\n",
       "      <th>Unnamed: 0</th>\n",
       "      <th>Murder</th>\n",
       "      <th>Assault</th>\n",
       "      <th>UrbanPop</th>\n",
       "      <th>Rape</th>\n",
       "    </tr>\n",
       "  </thead>\n",
       "  <tbody>\n",
       "    <tr>\n",
       "      <th>0</th>\n",
       "      <td>Alabama</td>\n",
       "      <td>13.2</td>\n",
       "      <td>236</td>\n",
       "      <td>58</td>\n",
       "      <td>21.2</td>\n",
       "    </tr>\n",
       "    <tr>\n",
       "      <th>1</th>\n",
       "      <td>Alaska</td>\n",
       "      <td>10.0</td>\n",
       "      <td>263</td>\n",
       "      <td>48</td>\n",
       "      <td>44.5</td>\n",
       "    </tr>\n",
       "    <tr>\n",
       "      <th>2</th>\n",
       "      <td>Arizona</td>\n",
       "      <td>8.1</td>\n",
       "      <td>294</td>\n",
       "      <td>80</td>\n",
       "      <td>31.0</td>\n",
       "    </tr>\n",
       "    <tr>\n",
       "      <th>3</th>\n",
       "      <td>Arkansas</td>\n",
       "      <td>8.8</td>\n",
       "      <td>190</td>\n",
       "      <td>50</td>\n",
       "      <td>19.5</td>\n",
       "    </tr>\n",
       "    <tr>\n",
       "      <th>4</th>\n",
       "      <td>California</td>\n",
       "      <td>9.0</td>\n",
       "      <td>276</td>\n",
       "      <td>91</td>\n",
       "      <td>40.6</td>\n",
       "    </tr>\n",
       "  </tbody>\n",
       "</table>\n",
       "</div>"
      ],
      "text/plain": [
       "   Unnamed: 0  Murder  Assault  UrbanPop  Rape\n",
       "0     Alabama    13.2      236        58  21.2\n",
       "1      Alaska    10.0      263        48  44.5\n",
       "2     Arizona     8.1      294        80  31.0\n",
       "3    Arkansas     8.8      190        50  19.5\n",
       "4  California     9.0      276        91  40.6"
      ]
     },
     "execution_count": 3,
     "metadata": {},
     "output_type": "execute_result"
    }
   ],
   "source": [
    "#df = pd.read_csv('USArrests.csv',index_col=0).copy() index ismi olayı için optimum çözüm\n",
    "df = pd.read_csv('USArrests.csv').copy()\n",
    "df.head()"
   ]
  },
  {
   "cell_type": "code",
   "execution_count": 4,
   "id": "dc867081-8670-4c8e-a06c-f9eb9e485c88",
   "metadata": {},
   "outputs": [],
   "source": [
    "df.index = df.iloc[:, 0]"
   ]
  },
  {
   "cell_type": "code",
   "execution_count": 5,
   "id": "dbd8038d-0ffb-4d5b-8aa5-6f405df84355",
   "metadata": {},
   "outputs": [
    {
     "data": {
      "text/html": [
       "<div>\n",
       "<style scoped>\n",
       "    .dataframe tbody tr th:only-of-type {\n",
       "        vertical-align: middle;\n",
       "    }\n",
       "\n",
       "    .dataframe tbody tr th {\n",
       "        vertical-align: top;\n",
       "    }\n",
       "\n",
       "    .dataframe thead th {\n",
       "        text-align: right;\n",
       "    }\n",
       "</style>\n",
       "<table border=\"1\" class=\"dataframe\">\n",
       "  <thead>\n",
       "    <tr style=\"text-align: right;\">\n",
       "      <th></th>\n",
       "      <th>Unnamed: 0</th>\n",
       "      <th>Murder</th>\n",
       "      <th>Assault</th>\n",
       "      <th>UrbanPop</th>\n",
       "      <th>Rape</th>\n",
       "    </tr>\n",
       "    <tr>\n",
       "      <th>Unnamed: 0</th>\n",
       "      <th></th>\n",
       "      <th></th>\n",
       "      <th></th>\n",
       "      <th></th>\n",
       "      <th></th>\n",
       "    </tr>\n",
       "  </thead>\n",
       "  <tbody>\n",
       "    <tr>\n",
       "      <th>Alabama</th>\n",
       "      <td>Alabama</td>\n",
       "      <td>13.2</td>\n",
       "      <td>236</td>\n",
       "      <td>58</td>\n",
       "      <td>21.2</td>\n",
       "    </tr>\n",
       "    <tr>\n",
       "      <th>Alaska</th>\n",
       "      <td>Alaska</td>\n",
       "      <td>10.0</td>\n",
       "      <td>263</td>\n",
       "      <td>48</td>\n",
       "      <td>44.5</td>\n",
       "    </tr>\n",
       "    <tr>\n",
       "      <th>Arizona</th>\n",
       "      <td>Arizona</td>\n",
       "      <td>8.1</td>\n",
       "      <td>294</td>\n",
       "      <td>80</td>\n",
       "      <td>31.0</td>\n",
       "    </tr>\n",
       "    <tr>\n",
       "      <th>Arkansas</th>\n",
       "      <td>Arkansas</td>\n",
       "      <td>8.8</td>\n",
       "      <td>190</td>\n",
       "      <td>50</td>\n",
       "      <td>19.5</td>\n",
       "    </tr>\n",
       "    <tr>\n",
       "      <th>California</th>\n",
       "      <td>California</td>\n",
       "      <td>9.0</td>\n",
       "      <td>276</td>\n",
       "      <td>91</td>\n",
       "      <td>40.6</td>\n",
       "    </tr>\n",
       "  </tbody>\n",
       "</table>\n",
       "</div>"
      ],
      "text/plain": [
       "            Unnamed: 0  Murder  Assault  UrbanPop  Rape\n",
       "Unnamed: 0                                             \n",
       "Alabama        Alabama    13.2      236        58  21.2\n",
       "Alaska          Alaska    10.0      263        48  44.5\n",
       "Arizona        Arizona     8.1      294        80  31.0\n",
       "Arkansas      Arkansas     8.8      190        50  19.5\n",
       "California  California     9.0      276        91  40.6"
      ]
     },
     "execution_count": 5,
     "metadata": {},
     "output_type": "execute_result"
    }
   ],
   "source": [
    "df.head()"
   ]
  },
  {
   "cell_type": "code",
   "execution_count": 6,
   "id": "f54f786d-d10c-4559-8a88-914fc934ae5c",
   "metadata": {},
   "outputs": [],
   "source": [
    "df = df.iloc[:, 1:5]"
   ]
  },
  {
   "cell_type": "code",
   "execution_count": 7,
   "id": "22cf318f-f1af-4008-bf17-4f665185a728",
   "metadata": {},
   "outputs": [
    {
     "data": {
      "text/html": [
       "<div>\n",
       "<style scoped>\n",
       "    .dataframe tbody tr th:only-of-type {\n",
       "        vertical-align: middle;\n",
       "    }\n",
       "\n",
       "    .dataframe tbody tr th {\n",
       "        vertical-align: top;\n",
       "    }\n",
       "\n",
       "    .dataframe thead th {\n",
       "        text-align: right;\n",
       "    }\n",
       "</style>\n",
       "<table border=\"1\" class=\"dataframe\">\n",
       "  <thead>\n",
       "    <tr style=\"text-align: right;\">\n",
       "      <th></th>\n",
       "      <th>Murder</th>\n",
       "      <th>Assault</th>\n",
       "      <th>UrbanPop</th>\n",
       "      <th>Rape</th>\n",
       "    </tr>\n",
       "    <tr>\n",
       "      <th>Unnamed: 0</th>\n",
       "      <th></th>\n",
       "      <th></th>\n",
       "      <th></th>\n",
       "      <th></th>\n",
       "    </tr>\n",
       "  </thead>\n",
       "  <tbody>\n",
       "    <tr>\n",
       "      <th>Alabama</th>\n",
       "      <td>13.2</td>\n",
       "      <td>236</td>\n",
       "      <td>58</td>\n",
       "      <td>21.2</td>\n",
       "    </tr>\n",
       "    <tr>\n",
       "      <th>Alaska</th>\n",
       "      <td>10.0</td>\n",
       "      <td>263</td>\n",
       "      <td>48</td>\n",
       "      <td>44.5</td>\n",
       "    </tr>\n",
       "    <tr>\n",
       "      <th>Arizona</th>\n",
       "      <td>8.1</td>\n",
       "      <td>294</td>\n",
       "      <td>80</td>\n",
       "      <td>31.0</td>\n",
       "    </tr>\n",
       "    <tr>\n",
       "      <th>Arkansas</th>\n",
       "      <td>8.8</td>\n",
       "      <td>190</td>\n",
       "      <td>50</td>\n",
       "      <td>19.5</td>\n",
       "    </tr>\n",
       "    <tr>\n",
       "      <th>California</th>\n",
       "      <td>9.0</td>\n",
       "      <td>276</td>\n",
       "      <td>91</td>\n",
       "      <td>40.6</td>\n",
       "    </tr>\n",
       "  </tbody>\n",
       "</table>\n",
       "</div>"
      ],
      "text/plain": [
       "            Murder  Assault  UrbanPop  Rape\n",
       "Unnamed: 0                                 \n",
       "Alabama       13.2      236        58  21.2\n",
       "Alaska        10.0      263        48  44.5\n",
       "Arizona        8.1      294        80  31.0\n",
       "Arkansas       8.8      190        50  19.5\n",
       "California     9.0      276        91  40.6"
      ]
     },
     "execution_count": 7,
     "metadata": {},
     "output_type": "execute_result"
    }
   ],
   "source": [
    "df.head()"
   ]
  },
  {
   "cell_type": "markdown",
   "id": "d4bb95c6-89fc-42e8-84da-54dd4e11dfab",
   "metadata": {},
   "source": [
    "Gözlem birimlerinin İSİMLERİNİ index isimleri olarak atamak, proje sonrası çıktıları gözlemlerden yapıalcak optimizasyonların içindir."
   ]
  },
  {
   "cell_type": "code",
   "execution_count": 8,
   "id": "f07998fd-cbc6-4fdc-ab58-db3c65084f18",
   "metadata": {},
   "outputs": [],
   "source": [
    "df.index.name=\"\""
   ]
  },
  {
   "cell_type": "code",
   "execution_count": 9,
   "id": "205d8563-bd7a-4a86-87a1-dc5eb4cb20f9",
   "metadata": {},
   "outputs": [
    {
     "data": {
      "text/html": [
       "<div>\n",
       "<style scoped>\n",
       "    .dataframe tbody tr th:only-of-type {\n",
       "        vertical-align: middle;\n",
       "    }\n",
       "\n",
       "    .dataframe tbody tr th {\n",
       "        vertical-align: top;\n",
       "    }\n",
       "\n",
       "    .dataframe thead th {\n",
       "        text-align: right;\n",
       "    }\n",
       "</style>\n",
       "<table border=\"1\" class=\"dataframe\">\n",
       "  <thead>\n",
       "    <tr style=\"text-align: right;\">\n",
       "      <th></th>\n",
       "      <th>Murder</th>\n",
       "      <th>Assault</th>\n",
       "      <th>UrbanPop</th>\n",
       "      <th>Rape</th>\n",
       "    </tr>\n",
       "    <tr>\n",
       "      <th></th>\n",
       "      <th></th>\n",
       "      <th></th>\n",
       "      <th></th>\n",
       "      <th></th>\n",
       "    </tr>\n",
       "  </thead>\n",
       "  <tbody>\n",
       "    <tr>\n",
       "      <th>Alabama</th>\n",
       "      <td>13.2</td>\n",
       "      <td>236</td>\n",
       "      <td>58</td>\n",
       "      <td>21.2</td>\n",
       "    </tr>\n",
       "    <tr>\n",
       "      <th>Alaska</th>\n",
       "      <td>10.0</td>\n",
       "      <td>263</td>\n",
       "      <td>48</td>\n",
       "      <td>44.5</td>\n",
       "    </tr>\n",
       "    <tr>\n",
       "      <th>Arizona</th>\n",
       "      <td>8.1</td>\n",
       "      <td>294</td>\n",
       "      <td>80</td>\n",
       "      <td>31.0</td>\n",
       "    </tr>\n",
       "    <tr>\n",
       "      <th>Arkansas</th>\n",
       "      <td>8.8</td>\n",
       "      <td>190</td>\n",
       "      <td>50</td>\n",
       "      <td>19.5</td>\n",
       "    </tr>\n",
       "    <tr>\n",
       "      <th>California</th>\n",
       "      <td>9.0</td>\n",
       "      <td>276</td>\n",
       "      <td>91</td>\n",
       "      <td>40.6</td>\n",
       "    </tr>\n",
       "  </tbody>\n",
       "</table>\n",
       "</div>"
      ],
      "text/plain": [
       "            Murder  Assault  UrbanPop  Rape\n",
       "                                           \n",
       "Alabama       13.2      236        58  21.2\n",
       "Alaska        10.0      263        48  44.5\n",
       "Arizona        8.1      294        80  31.0\n",
       "Arkansas       8.8      190        50  19.5\n",
       "California     9.0      276        91  40.6"
      ]
     },
     "execution_count": 9,
     "metadata": {},
     "output_type": "execute_result"
    }
   ],
   "source": [
    "df.head()"
   ]
  },
  {
   "cell_type": "code",
   "execution_count": 10,
   "id": "52c39d42-842b-4ebf-9a88-5cc125372a67",
   "metadata": {},
   "outputs": [],
   "source": [
    "# buraya kadarki index isimlendirme işlemi ilk satırda hallolabiliyor."
   ]
  },
  {
   "cell_type": "code",
   "execution_count": 11,
   "id": "4de578ca-d40b-4705-b5f6-b0a2e2a510f5",
   "metadata": {},
   "outputs": [
    {
     "data": {
      "text/plain": [
       "Murder      0\n",
       "Assault     0\n",
       "UrbanPop    0\n",
       "Rape        0\n",
       "dtype: int64"
      ]
     },
     "execution_count": 11,
     "metadata": {},
     "output_type": "execute_result"
    }
   ],
   "source": [
    "df.isnull().sum()"
   ]
  },
  {
   "cell_type": "code",
   "execution_count": 12,
   "id": "46014fb6-eb9d-4a9c-bf3e-e2ee2d079cec",
   "metadata": {},
   "outputs": [
    {
     "name": "stdout",
     "output_type": "stream",
     "text": [
      "<class 'pandas.core.frame.DataFrame'>\n",
      "Index: 50 entries, Alabama to Wyoming\n",
      "Data columns (total 4 columns):\n",
      " #   Column    Non-Null Count  Dtype  \n",
      "---  ------    --------------  -----  \n",
      " 0   Murder    50 non-null     float64\n",
      " 1   Assault   50 non-null     int64  \n",
      " 2   UrbanPop  50 non-null     int64  \n",
      " 3   Rape      50 non-null     float64\n",
      "dtypes: float64(2), int64(2)\n",
      "memory usage: 2.0+ KB\n"
     ]
    }
   ],
   "source": [
    "df.info()"
   ]
  },
  {
   "cell_type": "code",
   "execution_count": 13,
   "id": "58f14437-5a1a-48fe-942b-c0da7ff26bdc",
   "metadata": {},
   "outputs": [],
   "source": [
    "# 50 eyaleti 4 değişken bazında clusterlayacağız"
   ]
  },
  {
   "cell_type": "code",
   "execution_count": 14,
   "id": "8d660492-2557-4090-b07d-418aaa40012b",
   "metadata": {
    "tags": []
   },
   "outputs": [
    {
     "data": {
      "text/html": [
       "<div>\n",
       "<style scoped>\n",
       "    .dataframe tbody tr th:only-of-type {\n",
       "        vertical-align: middle;\n",
       "    }\n",
       "\n",
       "    .dataframe tbody tr th {\n",
       "        vertical-align: top;\n",
       "    }\n",
       "\n",
       "    .dataframe thead th {\n",
       "        text-align: right;\n",
       "    }\n",
       "</style>\n",
       "<table border=\"1\" class=\"dataframe\">\n",
       "  <thead>\n",
       "    <tr style=\"text-align: right;\">\n",
       "      <th></th>\n",
       "      <th>count</th>\n",
       "      <th>mean</th>\n",
       "      <th>std</th>\n",
       "      <th>min</th>\n",
       "      <th>25%</th>\n",
       "      <th>50%</th>\n",
       "      <th>75%</th>\n",
       "      <th>max</th>\n",
       "    </tr>\n",
       "  </thead>\n",
       "  <tbody>\n",
       "    <tr>\n",
       "      <th>Murder</th>\n",
       "      <td>50.0</td>\n",
       "      <td>7.788</td>\n",
       "      <td>4.355510</td>\n",
       "      <td>0.8</td>\n",
       "      <td>4.075</td>\n",
       "      <td>7.25</td>\n",
       "      <td>11.250</td>\n",
       "      <td>17.4</td>\n",
       "    </tr>\n",
       "    <tr>\n",
       "      <th>Assault</th>\n",
       "      <td>50.0</td>\n",
       "      <td>170.760</td>\n",
       "      <td>83.337661</td>\n",
       "      <td>45.0</td>\n",
       "      <td>109.000</td>\n",
       "      <td>159.00</td>\n",
       "      <td>249.000</td>\n",
       "      <td>337.0</td>\n",
       "    </tr>\n",
       "    <tr>\n",
       "      <th>UrbanPop</th>\n",
       "      <td>50.0</td>\n",
       "      <td>65.540</td>\n",
       "      <td>14.474763</td>\n",
       "      <td>32.0</td>\n",
       "      <td>54.500</td>\n",
       "      <td>66.00</td>\n",
       "      <td>77.750</td>\n",
       "      <td>91.0</td>\n",
       "    </tr>\n",
       "    <tr>\n",
       "      <th>Rape</th>\n",
       "      <td>50.0</td>\n",
       "      <td>21.232</td>\n",
       "      <td>9.366385</td>\n",
       "      <td>7.3</td>\n",
       "      <td>15.075</td>\n",
       "      <td>20.10</td>\n",
       "      <td>26.175</td>\n",
       "      <td>46.0</td>\n",
       "    </tr>\n",
       "  </tbody>\n",
       "</table>\n",
       "</div>"
      ],
      "text/plain": [
       "          count     mean        std   min      25%     50%      75%    max\n",
       "Murder     50.0    7.788   4.355510   0.8    4.075    7.25   11.250   17.4\n",
       "Assault    50.0  170.760  83.337661  45.0  109.000  159.00  249.000  337.0\n",
       "UrbanPop   50.0   65.540  14.474763  32.0   54.500   66.00   77.750   91.0\n",
       "Rape       50.0   21.232   9.366385   7.3   15.075   20.10   26.175   46.0"
      ]
     },
     "execution_count": 14,
     "metadata": {},
     "output_type": "execute_result"
    }
   ],
   "source": [
    "df.describe().T"
   ]
  },
  {
   "cell_type": "markdown",
   "id": "dc3cfa99-4948-4b97-8e7a-25de67ff6087",
   "metadata": {},
   "source": [
    "Burada gördüğümüz suçlarda ortalaması en düşük olan Murder oluyor, bu suçun üstüne odaklanmak istersek:\n",
    "1. Murder oranı %75'ten fazla olan eyaletler için yeni bir değişken oluşturup bu değişkende %75 üstüyse 1 altıysa 0 şeklinde murder'ın ağırlığını arttıracak bir değişken ekleme yapılabilir.\n",
    "2. Murderin ölçeğiyle oynayarak da bunu yapabiliriz. Mesela 1-10 arasında bir ölçek ayarlayıp murder sayısı %75'in üstünde olanlara 10, %25'ten küçük olanlara 1 ve aradakilere de 3-5 gibi bir ölçek verdiğimizde murder'ın yüksek olduğu yerler iyice göze batacak şekilde kümelenecektir. (x-y etkenindeki gibi düşün).\n",
    "\n",
    "Bunlar sayesinde murder değişkeninin gruplamadaki AĞIRLIĞINI elimizle ayarlayacak bir şekilde arttırmış oluyoruz. Bu kümeleme olayını mekaniklikten çıkartıp iş bilgisiyle de harmanlamaya yarıyor.\n",
    "\n",
    "Burada şöyle bir örnek düşünebiliriz:\n",
    "\n",
    "1. Elimizdeki verileri STANDARTLAŞTIRIP kümelemeye sokarsak iş bilgisi açısından çok kötü bir hamle yapmış oluyoruz (çünkü hepsinin max değerini 1 kabul etmiş oluyoruz) çünkü ölçek açısından farklarını yok sayıyoruz.\n",
    "2. Şuanki haliyle de varyans açısından büyük değişkenlerin kümelemeye etkisi daha büyük olmuş olmakta. \n",
    "3. Yani kısaca bir x-y grafiğinde onun o değişkendeki değerinin onu götüreceği yeri düşünebiliriz. Mesela 1-10 arasında bir değer alıyorsa o değişken kümelemeyi 1-5 arası bir değer alandan daha az etkileyecektir."
   ]
  },
  {
   "cell_type": "code",
   "execution_count": 15,
   "id": "e1d6a2db-c44a-41c7-bcaf-564af7aefe4b",
   "metadata": {},
   "outputs": [
    {
     "data": {
      "image/png": "[encoded data removed]",
      "text/plain": [
       "<Figure size 720x720 with 4 Axes>"
      ]
     },
     "metadata": {
      "needs_background": "light"
     },
     "output_type": "display_data"
    }
   ],
   "source": [
    "df.hist(figsize = (10,10));"
   ]
  },
  {
   "cell_type": "markdown",
   "id": "22003c1e-4894-4aeb-a79f-60841d2f6d6e",
   "metadata": {},
   "source": [
    "Burada yukarıda gördüğümüz tepeleri ilkel bir segmentasyon açısından yorumlayabiliriz. Örneğin Murder'ın 10'dan sonraki yüksek kısımlarını oluşturan eyaletlere bakmak,5-7.5 arasındaki eyaletlere bakmak onları bir nevi gruplayacaktır."
   ]
  },
  {
   "cell_type": "markdown",
   "id": "0820708e-33b8-4220-a87d-5ad9fe234389",
   "metadata": {
    "tags": []
   },
   "source": [
    "## Model ve Görselleştirme"
   ]
  },
  {
   "cell_type": "code",
   "execution_count": 16,
   "id": "7c2dd8ca-db6a-4c3e-b720-92b9a5d8b7fa",
   "metadata": {},
   "outputs": [
    {
     "data": {
      "text/plain": [
       "{'algorithm': 'lloyd',\n",
       " 'copy_x': True,\n",
       " 'init': 'k-means++',\n",
       " 'max_iter': 300,\n",
       " 'n_clusters': 4,\n",
       " 'n_init': 10,\n",
       " 'random_state': None,\n",
       " 'tol': 0.0001,\n",
       " 'verbose': 0}"
      ]
     },
     "execution_count": 16,
     "metadata": {},
     "output_type": "execute_result"
    }
   ],
   "source": [
    "kmeans = KMeans(n_clusters = 4)\n",
    "kmeans.get_params()"
   ]
  },
  {
   "cell_type": "code",
   "execution_count": 17,
   "id": "26e7989e-aeb7-42d6-8759-ad609ad31f09",
   "metadata": {
    "tags": []
   },
   "outputs": [
    {
     "data": {
      "text/plain": [
       "\u001b[0;31mType:\u001b[0m        KMeans\n",
       "\u001b[0;31mString form:\u001b[0m KMeans(n_clusters=4)\n",
       "\u001b[0;31mFile:\u001b[0m        ~/opt/anaconda3/lib/python3.9/site-packages/sklearn/cluster/_kmeans.py\n",
       "\u001b[0;31mDocstring:\u001b[0m  \n",
       "K-Means clustering.\n",
       "\n",
       "Read more in the :ref:`User Guide <k_means>`.\n",
       "\n",
       "Parameters\n",
       "----------\n",
       "\n",
       "n_clusters : int, default=8\n",
       "    The number of clusters to form as well as the number of\n",
       "    centroids to generate.\n",
       "\n",
       "init : {'k-means++', 'random'}, callable or array-like of shape             (n_clusters, n_features), default='k-means++'\n",
       "    Method for initialization:\n",
       "\n",
       "    'k-means++' : selects initial cluster centroids using sampling based on\n",
       "    an empirical probability distribution of the points' contribution to the\n",
       "    overall inertia. This technique speeds up convergence, and is\n",
       "    theoretically proven to be :math:`\\mathcal{O}(\\log k)`-optimal.\n",
       "    See the description of `n_init` for more details.\n",
       "\n",
       "    'random': choose `n_clusters` observations (rows) at random from data\n",
       "    for the initial centroids.\n",
       "\n",
       "    If an array is passed, it should be of shape (n_clusters, n_features)\n",
       "    and gives the initial centers.\n",
       "\n",
       "    If a callable is passed, it should take arguments X, n_clusters and a\n",
       "    random state and return an initialization.\n",
       "\n",
       "n_init : int, default=10\n",
       "    Number of time the k-means algorithm will be run with different\n",
       "    centroid seeds. The final results will be the best output of\n",
       "    n_init consecutive runs in terms of inertia.\n",
       "\n",
       "max_iter : int, default=300\n",
       "    Maximum number of iterations of the k-means algorithm for a\n",
       "    single run.\n",
       "\n",
       "tol : float, default=1e-4\n",
       "    Relative tolerance with regards to Frobenius norm of the difference\n",
       "    in the cluster centers of two consecutive iterations to declare\n",
       "    convergence.\n",
       "\n",
       "verbose : int, default=0\n",
       "    Verbosity mode.\n",
       "\n",
       "random_state : int, RandomState instance or None, default=None\n",
       "    Determines random number generation for centroid initialization. Use\n",
       "    an int to make the randomness deterministic.\n",
       "    See :term:`Glossary <random_state>`.\n",
       "\n",
       "copy_x : bool, default=True\n",
       "    When pre-computing distances it is more numerically accurate to center\n",
       "    the data first. If copy_x is True (default), then the original data is\n",
       "    not modified. If False, the original data is modified, and put back\n",
       "    before the function returns, but small numerical differences may be\n",
       "    introduced by subtracting and then adding the data mean. Note that if\n",
       "    the original data is not C-contiguous, a copy will be made even if\n",
       "    copy_x is False. If the original data is sparse, but not in CSR format,\n",
       "    a copy will be made even if copy_x is False.\n",
       "\n",
       "algorithm : {\"lloyd\", \"elkan\", \"auto\", \"full\"}, default=\"lloyd\"\n",
       "    K-means algorithm to use. The classical EM-style algorithm is `\"lloyd\"`.\n",
       "    The `\"elkan\"` variation can be more efficient on some datasets with\n",
       "    well-defined clusters, by using the triangle inequality. However it's\n",
       "    more memory intensive due to the allocation of an extra array of shape\n",
       "    `(n_samples, n_clusters)`.\n",
       "\n",
       "    `\"auto\"` and `\"full\"` are deprecated and they will be removed in\n",
       "    Scikit-Learn 1.3. They are both aliases for `\"lloyd\"`.\n",
       "\n",
       "    .. versionchanged:: 0.18\n",
       "        Added Elkan algorithm\n",
       "\n",
       "    .. versionchanged:: 1.1\n",
       "        Renamed \"full\" to \"lloyd\", and deprecated \"auto\" and \"full\".\n",
       "        Changed \"auto\" to use \"lloyd\" instead of \"elkan\".\n",
       "\n",
       "Attributes\n",
       "----------\n",
       "cluster_centers_ : ndarray of shape (n_clusters, n_features)\n",
       "    Coordinates of cluster centers. If the algorithm stops before fully\n",
       "    converging (see ``tol`` and ``max_iter``), these will not be\n",
       "    consistent with ``labels_``.\n",
       "\n",
       "labels_ : ndarray of shape (n_samples,)\n",
       "    Labels of each point\n",
       "\n",
       "inertia_ : float\n",
       "    Sum of squared distances of samples to their closest cluster center,\n",
       "    weighted by the sample weights if provided.\n",
       "\n",
       "n_iter_ : int\n",
       "    Number of iterations run.\n",
       "\n",
       "n_features_in_ : int\n",
       "    Number of features seen during :term:`fit`.\n",
       "\n",
       "    .. versionadded:: 0.24\n",
       "\n",
       "feature_names_in_ : ndarray of shape (`n_features_in_`,)\n",
       "    Names of features seen during :term:`fit`. Defined only when `X`\n",
       "    has feature names that are all strings.\n",
       "\n",
       "    .. versionadded:: 1.0\n",
       "\n",
       "See Also\n",
       "--------\n",
       "MiniBatchKMeans : Alternative online implementation that does incremental\n",
       "    updates of the centers positions using mini-batches.\n",
       "    For large scale learning (say n_samples > 10k) MiniBatchKMeans is\n",
       "    probably much faster than the default batch implementation.\n",
       "\n",
       "Notes\n",
       "-----\n",
       "The k-means problem is solved using either Lloyd's or Elkan's algorithm.\n",
       "\n",
       "The average complexity is given by O(k n T), where n is the number of\n",
       "samples and T is the number of iteration.\n",
       "\n",
       "The worst case complexity is given by O(n^(k+2/p)) with\n",
       "n = n_samples, p = n_features. (D. Arthur and S. Vassilvitskii,\n",
       "'How slow is the k-means method?' SoCG2006)\n",
       "\n",
       "In practice, the k-means algorithm is very fast (one of the fastest\n",
       "clustering algorithms available), but it falls in local minima. That's why\n",
       "it can be useful to restart it several times.\n",
       "\n",
       "If the algorithm stops before fully converging (because of ``tol`` or\n",
       "``max_iter``), ``labels_`` and ``cluster_centers_`` will not be consistent,\n",
       "i.e. the ``cluster_centers_`` will not be the means of the points in each\n",
       "cluster. Also, the estimator will reassign ``labels_`` after the last\n",
       "iteration to make ``labels_`` consistent with ``predict`` on the training\n",
       "set.\n",
       "\n",
       "Examples\n",
       "--------\n",
       "\n",
       ">>> from sklearn.cluster import KMeans\n",
       ">>> import numpy as np\n",
       ">>> X = np.array([[1, 2], [1, 4], [1, 0],\n",
       "...               [10, 2], [10, 4], [10, 0]])\n",
       ">>> kmeans = KMeans(n_clusters=2, random_state=0).fit(X)\n",
       ">>> kmeans.labels_\n",
       "array([1, 1, 1, 0, 0, 0], dtype=int32)\n",
       ">>> kmeans.predict([[0, 0], [12, 3]])\n",
       "array([1, 0], dtype=int32)\n",
       ">>> kmeans.cluster_centers_\n",
       "array([[10.,  2.],\n",
       "       [ 1.,  2.]])\n"
      ]
     },
     "metadata": {},
     "output_type": "display_data"
    }
   ],
   "source": [
    "?kmeans"
   ]
  },
  {
   "cell_type": "code",
   "execution_count": 18,
   "id": "85908d66-c2af-4a1a-9c8e-424aa5e5a2fd",
   "metadata": {},
   "outputs": [],
   "source": [
    "k_fit = kmeans.fit(df)"
   ]
  },
  {
   "cell_type": "code",
   "execution_count": 19,
   "id": "2d2203b4-8feb-4160-8ca0-3218e9f7cb2e",
   "metadata": {},
   "outputs": [
    {
     "data": {
      "text/plain": [
       "4"
      ]
     },
     "execution_count": 19,
     "metadata": {},
     "output_type": "execute_result"
    }
   ],
   "source": [
    "k_fit.n_clusters"
   ]
  },
  {
   "cell_type": "code",
   "execution_count": 20,
   "id": "4d3dbf6c-2894-424d-a11b-e48f9502c51e",
   "metadata": {},
   "outputs": [
    {
     "data": {
      "text/plain": [
       "array([[ 11.8125    , 272.5625    ,  68.3125    ,  28.375     ],\n",
       "       [  5.59      , 112.4       ,  65.6       ,  17.27      ],\n",
       "       [  2.95      ,  62.7       ,  53.9       ,  11.51      ],\n",
       "       [  8.21428571, 173.28571429,  70.64285714,  22.84285714]])"
      ]
     },
     "execution_count": 20,
     "metadata": {},
     "output_type": "execute_result"
    }
   ],
   "source": [
    "k_fit.cluster_centers_"
   ]
  },
  {
   "cell_type": "code",
   "execution_count": 21,
   "id": "1bdadb3f-5538-416e-8c70-712da1d6b28e",
   "metadata": {},
   "outputs": [
    {
     "data": {
      "text/plain": [
       "array([0, 0, 0, 3, 0, 3, 1, 0, 0, 3, 2, 1, 0, 1, 2, 1, 1, 0, 2, 0, 3, 0,\n",
       "       2, 0, 3, 1, 1, 0, 2, 3, 0, 0, 0, 2, 1, 3, 3, 1, 3, 0, 2, 3, 3, 1,\n",
       "       2, 3, 3, 2, 2, 3], dtype=int32)"
      ]
     },
     "execution_count": 21,
     "metadata": {},
     "output_type": "execute_result"
    }
   ],
   "source": [
    "k_fit.labels_ # hangi eyaletin hangi sınıfa (cluster'a) girdiğini görüyoruz"
   ]
  },
  {
   "cell_type": "markdown",
   "id": "043c27e1-b1b6-4b14-93c5-b2ab393a50a9",
   "metadata": {
    "jp-MarkdownHeadingCollapsed": true,
    "tags": []
   },
   "source": [
    "*Kümeleme işlemi aslında labels_'ı alınca bitiyor, ama bu inceleme için yeterli olmayabilir. o yüzden görselleştirmeyle devam*"
   ]
  },
  {
   "cell_type": "code",
   "execution_count": 22,
   "id": "82a8f883-f725-423e-a2e4-bed707dee26a",
   "metadata": {},
   "outputs": [],
   "source": [
    "# Görselleştirme Vakti"
   ]
  },
  {
   "cell_type": "code",
   "execution_count": 23,
   "id": "a1767274-1bd0-4d72-b134-28c575c0c965",
   "metadata": {},
   "outputs": [],
   "source": [
    "kmeans = KMeans(n_clusters = 2)\n",
    "k_fit = kmeans.fit(df)"
   ]
  },
  {
   "cell_type": "code",
   "execution_count": 24,
   "id": "c06fbf15-3391-4b3d-b279-7b50bb7b2f54",
   "metadata": {},
   "outputs": [],
   "source": [
    "kumeler = k_fit.labels_ #k_fit.labels_ == kmeans.labels_"
   ]
  },
  {
   "cell_type": "code",
   "execution_count": 25,
   "id": "665e8335-5fc3-45f6-90e6-348e719d2816",
   "metadata": {},
   "outputs": [
    {
     "data": {
      "image/png": "[encoded data removed]",
      "text/plain": [
       "<Figure size 432x288 with 1 Axes>"
      ]
     },
     "metadata": {
      "needs_background": "light"
     },
     "output_type": "display_data"
    }
   ],
   "source": [
    "plt.scatter(df.iloc[:, 0], df.iloc[:, 1], c = kumeler, s = 50, cmap = \"viridis\");\n",
    "\n",
    "merkezler = k_fit.cluster_centers_\n",
    "\n",
    "plt.scatter(merkezler[:, 0], merkezler[:, 1], c = \"red\", s = 200, alpha = 0.8);"
   ]
  },
  {
   "cell_type": "markdown",
   "id": "b7678d2e-edab-4db1-8742-ce8ec3640940",
   "metadata": {},
   "source": [
    "Veri setini 2 değişkene indirgeyip bu 2 değişken üzerinden kümeleri görselleştirdik. Bunu neden yaptık?\n",
    "\n",
    "Veriyi 2 boyutta gösterebilmenin 2 yolu var:\n",
    "1. 2 tane değişken seçip bunları göstermek.\n",
    "2. PCA uygulamak! -> Boyut indirgemesi yapıp görselleştirme yapmak."
   ]
  },
  {
   "cell_type": "code",
   "execution_count": 26,
   "id": "f29868e5-af08-4b93-b026-f92f986d516c",
   "metadata": {},
   "outputs": [
    {
     "data": {
      "text/html": [
       "<div>\n",
       "<style scoped>\n",
       "    .dataframe tbody tr th:only-of-type {\n",
       "        vertical-align: middle;\n",
       "    }\n",
       "\n",
       "    .dataframe tbody tr th {\n",
       "        vertical-align: top;\n",
       "    }\n",
       "\n",
       "    .dataframe thead th {\n",
       "        text-align: right;\n",
       "    }\n",
       "</style>\n",
       "<table border=\"1\" class=\"dataframe\">\n",
       "  <thead>\n",
       "    <tr style=\"text-align: right;\">\n",
       "      <th></th>\n",
       "      <th>Murder</th>\n",
       "      <th>Assault</th>\n",
       "      <th>UrbanPop</th>\n",
       "      <th>Rape</th>\n",
       "    </tr>\n",
       "    <tr>\n",
       "      <th></th>\n",
       "      <th></th>\n",
       "      <th></th>\n",
       "      <th></th>\n",
       "      <th></th>\n",
       "    </tr>\n",
       "  </thead>\n",
       "  <tbody>\n",
       "    <tr>\n",
       "      <th>Alabama</th>\n",
       "      <td>13.2</td>\n",
       "      <td>236</td>\n",
       "      <td>58</td>\n",
       "      <td>21.2</td>\n",
       "    </tr>\n",
       "    <tr>\n",
       "      <th>Alaska</th>\n",
       "      <td>10.0</td>\n",
       "      <td>263</td>\n",
       "      <td>48</td>\n",
       "      <td>44.5</td>\n",
       "    </tr>\n",
       "    <tr>\n",
       "      <th>Arizona</th>\n",
       "      <td>8.1</td>\n",
       "      <td>294</td>\n",
       "      <td>80</td>\n",
       "      <td>31.0</td>\n",
       "    </tr>\n",
       "    <tr>\n",
       "      <th>Arkansas</th>\n",
       "      <td>8.8</td>\n",
       "      <td>190</td>\n",
       "      <td>50</td>\n",
       "      <td>19.5</td>\n",
       "    </tr>\n",
       "    <tr>\n",
       "      <th>California</th>\n",
       "      <td>9.0</td>\n",
       "      <td>276</td>\n",
       "      <td>91</td>\n",
       "      <td>40.6</td>\n",
       "    </tr>\n",
       "  </tbody>\n",
       "</table>\n",
       "</div>"
      ],
      "text/plain": [
       "            Murder  Assault  UrbanPop  Rape\n",
       "                                           \n",
       "Alabama       13.2      236        58  21.2\n",
       "Alaska        10.0      263        48  44.5\n",
       "Arizona        8.1      294        80  31.0\n",
       "Arkansas       8.8      190        50  19.5\n",
       "California     9.0      276        91  40.6"
      ]
     },
     "execution_count": 26,
     "metadata": {},
     "output_type": "execute_result"
    }
   ],
   "source": [
    "df.head() # yukarda murder ve assault'a göre 2 kümeye ayırmış olduk."
   ]
  },
  {
   "cell_type": "code",
   "execution_count": 27,
   "id": "b3ea8a2e-9252-4583-b1ae-c78f7d69c2c6",
   "metadata": {},
   "outputs": [],
   "source": [
    "# 3 boyutlu görselleştirmek istersek?"
   ]
  },
  {
   "cell_type": "code",
   "execution_count": 28,
   "id": "ca9c5561-8bde-4449-98e6-b35735c7d9e2",
   "metadata": {},
   "outputs": [],
   "source": [
    "from mpl_toolkits.mplot3d import Axes3D\n",
    "# çalışmazsa bu şekilde düzelebilir:\n",
    "#!pip install --upgrade matplotlib\n",
    "#import mpl_toolkits"
   ]
  },
  {
   "cell_type": "code",
   "execution_count": 29,
   "id": "3b9c9bca-7b7d-4ac9-8091-99abbb34326e",
   "metadata": {},
   "outputs": [],
   "source": [
    "kmeans = KMeans(n_clusters = 3)\n",
    "k_fit = kmeans.fit(df)\n",
    "kümeler = k_fit.labels_\n",
    "merkezler = k_fit.cluster_centers_"
   ]
  },
  {
   "cell_type": "code",
   "execution_count": 30,
   "id": "0b28e104-d534-4499-8db1-8477c241fdaf",
   "metadata": {},
   "outputs": [
    {
     "data": {
      "text/plain": [
       "array([2, 2, 2, 0, 2, 0, 1, 2, 2, 0, 1, 1, 2, 1, 1, 1, 1, 2, 1, 2, 0, 2,\n",
       "       1, 2, 0, 1, 1, 2, 1, 0, 2, 2, 2, 1, 1, 0, 0, 1, 0, 2, 1, 0, 0, 1,\n",
       "       1, 0, 0, 1, 1, 0], dtype=int32)"
      ]
     },
     "execution_count": 30,
     "metadata": {},
     "output_type": "execute_result"
    }
   ],
   "source": [
    "kümeler"
   ]
  },
  {
   "cell_type": "code",
   "execution_count": 31,
   "id": "b812eb75-4102-4171-adbe-0745bbf3c6e1",
   "metadata": {},
   "outputs": [],
   "source": [
    "# şimdi 3 boyutlu bir scatterplot oluşturma işlemi yapacağız"
   ]
  },
  {
   "cell_type": "code",
   "execution_count": 32,
   "id": "7089894f-6ead-4a37-b090-1cccaf5c0d0c",
   "metadata": {},
   "outputs": [
    {
     "data": {
      "image/png": "[encoded data removed]",
      "text/plain": [
       "<Figure size 1152x648 with 1 Axes>"
      ]
     },
     "metadata": {
      "needs_background": "light"
     },
     "output_type": "display_data"
    }
   ],
   "source": [
    "plt.rcParams['figure.figsize'] = (16, 9)\n",
    "fig = plt.figure()\n",
    "ax = Axes3D(fig)\n",
    "ax.scatter(df.iloc[:, 0], df.iloc[:, 1], df.iloc[:, 2]);"
   ]
  },
  {
   "cell_type": "code",
   "execution_count": 33,
   "id": "89cbece8-176d-4c0f-95e0-a2174c98da4c",
   "metadata": {},
   "outputs": [
    {
     "data": {
      "image/png": "[encoded data removed]",
      "text/plain": [
       "<Figure size 1152x648 with 1 Axes>"
      ]
     },
     "metadata": {
      "needs_background": "light"
     },
     "output_type": "display_data"
    }
   ],
   "source": [
    "fig = plt.figure()\n",
    "ax = Axes3D(fig)\n",
    "ax.scatter(df.iloc[:, 0], df.iloc[:, 1], df.iloc[:, 2], c=kümeler)\n",
    "ax.scatter(merkezler[:, 0], merkezler[:, 1], merkezler[:, 2], \n",
    "           marker='*', \n",
    "           c='#050505', \n",
    "           s=1000);"
   ]
  },
  {
   "cell_type": "markdown",
   "id": "4fab9757-5b4d-4af5-b1fa-b5ce0f3c267c",
   "metadata": {},
   "source": [
    "Elimizde 10-15'e kadar değiken olabilir.\n",
    "\n",
    "Bu durumda yine de görselleştirme yapmak istiyorsanız:\n",
    "1. Elinizdeki değişkenlere PCA uygulamalısınız (bilgi kayıplarını göz önüne alarak)\n",
    "2. İndirgeme işleminden sonra 2 eksen üzerinde bu yeni bileşenlerle birlikte görselleştirme yapıp\n",
    "3. Gözlem birimlerini grafiğe bağlayıp\n",
    "\n",
    "Benzer bir görselleştirme işlemi çok sayıda değişkenle gerçekleştirilebilir."
   ]
  },
  {
   "cell_type": "markdown",
   "id": "3f52ae25-ea52-4fad-ac7e-9d33e4066d9a",
   "metadata": {},
   "source": [
    "## Şimdi asıl olaya geliyoruz, Hangi eyalet hangi kümede?"
   ]
  },
  {
   "cell_type": "code",
   "execution_count": 34,
   "id": "dcc702a2-b8b9-4c67-b419-ac0fa354cc3b",
   "metadata": {},
   "outputs": [],
   "source": [
    "# kümeler ve gözlem birimleri"
   ]
  },
  {
   "cell_type": "code",
   "execution_count": 35,
   "id": "da06073b-46e3-4572-b5d3-75a93ed4ff75",
   "metadata": {},
   "outputs": [],
   "source": [
    "kmeans = KMeans(n_clusters = 3)\n",
    "k_fit = kmeans.fit(df)\n",
    "kümeler = k_fit.labels_"
   ]
  },
  {
   "cell_type": "code",
   "execution_count": 36,
   "id": "f17d18fd-e464-4308-b995-cafec6875dc1",
   "metadata": {},
   "outputs": [
    {
     "data": {
      "text/html": [
       "<div>\n",
       "<style scoped>\n",
       "    .dataframe tbody tr th:only-of-type {\n",
       "        vertical-align: middle;\n",
       "    }\n",
       "\n",
       "    .dataframe tbody tr th {\n",
       "        vertical-align: top;\n",
       "    }\n",
       "\n",
       "    .dataframe thead th {\n",
       "        text-align: right;\n",
       "    }\n",
       "</style>\n",
       "<table border=\"1\" class=\"dataframe\">\n",
       "  <thead>\n",
       "    <tr style=\"text-align: right;\">\n",
       "      <th></th>\n",
       "      <th>Eyaletler</th>\n",
       "      <th>Clusters</th>\n",
       "    </tr>\n",
       "  </thead>\n",
       "  <tbody>\n",
       "    <tr>\n",
       "      <th>0</th>\n",
       "      <td>Alabama</td>\n",
       "      <td>1</td>\n",
       "    </tr>\n",
       "    <tr>\n",
       "      <th>1</th>\n",
       "      <td>Alaska</td>\n",
       "      <td>1</td>\n",
       "    </tr>\n",
       "    <tr>\n",
       "      <th>2</th>\n",
       "      <td>Arizona</td>\n",
       "      <td>1</td>\n",
       "    </tr>\n",
       "    <tr>\n",
       "      <th>3</th>\n",
       "      <td>Arkansas</td>\n",
       "      <td>0</td>\n",
       "    </tr>\n",
       "    <tr>\n",
       "      <th>4</th>\n",
       "      <td>California</td>\n",
       "      <td>1</td>\n",
       "    </tr>\n",
       "    <tr>\n",
       "      <th>5</th>\n",
       "      <td>Colorado</td>\n",
       "      <td>0</td>\n",
       "    </tr>\n",
       "    <tr>\n",
       "      <th>6</th>\n",
       "      <td>Connecticut</td>\n",
       "      <td>2</td>\n",
       "    </tr>\n",
       "    <tr>\n",
       "      <th>7</th>\n",
       "      <td>Delaware</td>\n",
       "      <td>1</td>\n",
       "    </tr>\n",
       "    <tr>\n",
       "      <th>8</th>\n",
       "      <td>Florida</td>\n",
       "      <td>1</td>\n",
       "    </tr>\n",
       "    <tr>\n",
       "      <th>9</th>\n",
       "      <td>Georgia</td>\n",
       "      <td>0</td>\n",
       "    </tr>\n",
       "  </tbody>\n",
       "</table>\n",
       "</div>"
      ],
      "text/plain": [
       "     Eyaletler  Clusters\n",
       "0      Alabama         1\n",
       "1       Alaska         1\n",
       "2      Arizona         1\n",
       "3     Arkansas         0\n",
       "4   California         1\n",
       "5     Colorado         0\n",
       "6  Connecticut         2\n",
       "7     Delaware         1\n",
       "8      Florida         1\n",
       "9      Georgia         0"
      ]
     },
     "execution_count": 36,
     "metadata": {},
     "output_type": "execute_result"
    }
   ],
   "source": [
    "pd.DataFrame({\"Eyaletler\": df.index, \"Clusters\": kümeler}).head(10)"
   ]
  },
  {
   "cell_type": "code",
   "execution_count": 37,
   "id": "814c9980-7dfd-4b05-bd4e-abbfa1b29c06",
   "metadata": {},
   "outputs": [],
   "source": [
    "# burada en öncelikli problemimiz bu eyaletleri dataframe'de bu şekilde görmekti."
   ]
  },
  {
   "cell_type": "code",
   "execution_count": 38,
   "id": "fab0295e-6442-43e8-a2bb-b843b4bfe644",
   "metadata": {},
   "outputs": [],
   "source": [
    "# ana veri setimize de bu kümeleri eklemek istersek:"
   ]
  },
  {
   "cell_type": "code",
   "execution_count": 39,
   "id": "eda9d08b-ffbb-48e0-ab02-b486d1724c96",
   "metadata": {},
   "outputs": [],
   "source": [
    "df[\"cluster_no\"] = kümeler"
   ]
  },
  {
   "cell_type": "code",
   "execution_count": 40,
   "id": "bef1dfcc-02eb-44ac-b9d6-cab172a494f0",
   "metadata": {},
   "outputs": [
    {
     "data": {
      "text/html": [
       "<div>\n",
       "<style scoped>\n",
       "    .dataframe tbody tr th:only-of-type {\n",
       "        vertical-align: middle;\n",
       "    }\n",
       "\n",
       "    .dataframe tbody tr th {\n",
       "        vertical-align: top;\n",
       "    }\n",
       "\n",
       "    .dataframe thead th {\n",
       "        text-align: right;\n",
       "    }\n",
       "</style>\n",
       "<table border=\"1\" class=\"dataframe\">\n",
       "  <thead>\n",
       "    <tr style=\"text-align: right;\">\n",
       "      <th></th>\n",
       "      <th>Murder</th>\n",
       "      <th>Assault</th>\n",
       "      <th>UrbanPop</th>\n",
       "      <th>Rape</th>\n",
       "      <th>cluster_no</th>\n",
       "    </tr>\n",
       "    <tr>\n",
       "      <th></th>\n",
       "      <th></th>\n",
       "      <th></th>\n",
       "      <th></th>\n",
       "      <th></th>\n",
       "      <th></th>\n",
       "    </tr>\n",
       "  </thead>\n",
       "  <tbody>\n",
       "    <tr>\n",
       "      <th>Alabama</th>\n",
       "      <td>13.2</td>\n",
       "      <td>236</td>\n",
       "      <td>58</td>\n",
       "      <td>21.2</td>\n",
       "      <td>1</td>\n",
       "    </tr>\n",
       "    <tr>\n",
       "      <th>Alaska</th>\n",
       "      <td>10.0</td>\n",
       "      <td>263</td>\n",
       "      <td>48</td>\n",
       "      <td>44.5</td>\n",
       "      <td>1</td>\n",
       "    </tr>\n",
       "    <tr>\n",
       "      <th>Arizona</th>\n",
       "      <td>8.1</td>\n",
       "      <td>294</td>\n",
       "      <td>80</td>\n",
       "      <td>31.0</td>\n",
       "      <td>1</td>\n",
       "    </tr>\n",
       "    <tr>\n",
       "      <th>Arkansas</th>\n",
       "      <td>8.8</td>\n",
       "      <td>190</td>\n",
       "      <td>50</td>\n",
       "      <td>19.5</td>\n",
       "      <td>0</td>\n",
       "    </tr>\n",
       "    <tr>\n",
       "      <th>California</th>\n",
       "      <td>9.0</td>\n",
       "      <td>276</td>\n",
       "      <td>91</td>\n",
       "      <td>40.6</td>\n",
       "      <td>1</td>\n",
       "    </tr>\n",
       "  </tbody>\n",
       "</table>\n",
       "</div>"
      ],
      "text/plain": [
       "            Murder  Assault  UrbanPop  Rape  cluster_no\n",
       "                                                       \n",
       "Alabama       13.2      236        58  21.2           1\n",
       "Alaska        10.0      263        48  44.5           1\n",
       "Arizona        8.1      294        80  31.0           1\n",
       "Arkansas       8.8      190        50  19.5           0\n",
       "California     9.0      276        91  40.6           1"
      ]
     },
     "execution_count": 40,
     "metadata": {},
     "output_type": "execute_result"
    }
   ],
   "source": [
    "df.head()"
   ]
  },
  {
   "cell_type": "code",
   "execution_count": 41,
   "id": "c48372ec-9e03-4ee2-8a33-7092f17e1234",
   "metadata": {},
   "outputs": [],
   "source": [
    "# daha gerçekçi gözlemler için 0 değil de 1'den kümelerin başlamasını istersek:"
   ]
  },
  {
   "cell_type": "code",
   "execution_count": 42,
   "id": "17ff7d8b-dfe9-49bd-9726-242bd9973cc4",
   "metadata": {},
   "outputs": [],
   "source": [
    "df[\"cluster_no\"] = df[\"cluster_no\"] + 1"
   ]
  },
  {
   "cell_type": "code",
   "execution_count": 43,
   "id": "022ae757-8a22-42e7-bf49-26a59eb40292",
   "metadata": {},
   "outputs": [
    {
     "data": {
      "text/html": [
       "<div>\n",
       "<style scoped>\n",
       "    .dataframe tbody tr th:only-of-type {\n",
       "        vertical-align: middle;\n",
       "    }\n",
       "\n",
       "    .dataframe tbody tr th {\n",
       "        vertical-align: top;\n",
       "    }\n",
       "\n",
       "    .dataframe thead th {\n",
       "        text-align: right;\n",
       "    }\n",
       "</style>\n",
       "<table border=\"1\" class=\"dataframe\">\n",
       "  <thead>\n",
       "    <tr style=\"text-align: right;\">\n",
       "      <th></th>\n",
       "      <th>Murder</th>\n",
       "      <th>Assault</th>\n",
       "      <th>UrbanPop</th>\n",
       "      <th>Rape</th>\n",
       "      <th>cluster_no</th>\n",
       "    </tr>\n",
       "    <tr>\n",
       "      <th></th>\n",
       "      <th></th>\n",
       "      <th></th>\n",
       "      <th></th>\n",
       "      <th></th>\n",
       "      <th></th>\n",
       "    </tr>\n",
       "  </thead>\n",
       "  <tbody>\n",
       "    <tr>\n",
       "      <th>Alabama</th>\n",
       "      <td>13.2</td>\n",
       "      <td>236</td>\n",
       "      <td>58</td>\n",
       "      <td>21.2</td>\n",
       "      <td>2</td>\n",
       "    </tr>\n",
       "    <tr>\n",
       "      <th>Alaska</th>\n",
       "      <td>10.0</td>\n",
       "      <td>263</td>\n",
       "      <td>48</td>\n",
       "      <td>44.5</td>\n",
       "      <td>2</td>\n",
       "    </tr>\n",
       "    <tr>\n",
       "      <th>Arizona</th>\n",
       "      <td>8.1</td>\n",
       "      <td>294</td>\n",
       "      <td>80</td>\n",
       "      <td>31.0</td>\n",
       "      <td>2</td>\n",
       "    </tr>\n",
       "    <tr>\n",
       "      <th>Arkansas</th>\n",
       "      <td>8.8</td>\n",
       "      <td>190</td>\n",
       "      <td>50</td>\n",
       "      <td>19.5</td>\n",
       "      <td>1</td>\n",
       "    </tr>\n",
       "    <tr>\n",
       "      <th>California</th>\n",
       "      <td>9.0</td>\n",
       "      <td>276</td>\n",
       "      <td>91</td>\n",
       "      <td>40.6</td>\n",
       "      <td>2</td>\n",
       "    </tr>\n",
       "  </tbody>\n",
       "</table>\n",
       "</div>"
      ],
      "text/plain": [
       "            Murder  Assault  UrbanPop  Rape  cluster_no\n",
       "                                                       \n",
       "Alabama       13.2      236        58  21.2           2\n",
       "Alaska        10.0      263        48  44.5           2\n",
       "Arizona        8.1      294        80  31.0           2\n",
       "Arkansas       8.8      190        50  19.5           1\n",
       "California     9.0      276        91  40.6           2"
      ]
     },
     "execution_count": 43,
     "metadata": {},
     "output_type": "execute_result"
    }
   ],
   "source": [
    "df.head()"
   ]
  },
  {
   "cell_type": "markdown",
   "id": "3b50a59b-00f3-4058-b340-d9d3798b937e",
   "metadata": {},
   "source": [
    "## Optimum Küme sayımızı nasıl bulacağız ?"
   ]
  },
  {
   "cell_type": "code",
   "execution_count": 44,
   "id": "c946be39-3a05-4954-a734-e9c611da370b",
   "metadata": {},
   "outputs": [],
   "source": [
    "# Bir nevi KMeans modelinin tuning aşamasındayız denebilir."
   ]
  },
  {
   "cell_type": "code",
   "execution_count": 45,
   "id": "0c281fa1-2e14-4789-ac64-6fb8e2bddb5a",
   "metadata": {},
   "outputs": [
    {
     "data": {
      "image/png": "[encoded data removed]",
      "text/plain": [
       "<Figure size 576x396 with 2 Axes>"
      ]
     },
     "metadata": {},
     "output_type": "display_data"
    }
   ],
   "source": [
    "#!pip install yellowbrick\n",
    "from yellowbrick.cluster import KElbowVisualizer\n",
    "kmeans = KMeans()\n",
    "visualizer = KElbowVisualizer(kmeans, k=(2,50))\n",
    "visualizer.fit(df) \n",
    "visualizer.poof();"
   ]
  },
  {
   "cell_type": "markdown",
   "id": "244689f3-73b3-43fc-99c1-d8ca9e756589",
   "metadata": {},
   "source": [
    "Bu grafiğin yorumu:\n",
    "1. KMeans ve hiyerarşik kümeleme yöntemleri gibi kümeleme yöntemleri kullanılırken İŞ BİLGİSİNİ göz önünde bulundurarak segmentasyon yapılmalıdır.\n",
    "2. Segmentasyon odaklı bir kümeleme analizi yapıyorsak, yani asıl amacımız bir grubu segmente etmek ise bu durumda SEGMENT ANLAMINI iyi düşünmek gerekiyor. Segment dediğimiz şey genelde 2-5 civaro bir sayıda olur.\n",
    "3. Ya da ana bir kırılım olur örneğin kredi kartı kullananlar ve kullanmayanlar. Bu durumda kredi kartı kullananların iÇİNDEN 3-5 segment, kullanmayanların İÇİNDEN 3-5 segment oluşturulabilir.\n",
    "\n",
    "Yani segmentasyon temelde bizim odağımızı iş gücü veya para kaynaklı bölmeye yaramaktadır. Örneğin 10.000 müşterimiz varsa: Bunların hepsiyle 100 kişilik bir müşteri ilişkileri departmanıyla ilgilenemem. Burada yapacağım şey bana en çok kazanç ve katkı sağlayacak kişileri belirli metriklerle segmente etmeliyim.\n",
    "\n",
    "Bu işlemden sonra bu 100 kişiyi platinium, gold gibi müşteri gruplarına ayırıp enerjilerini müşteri seviyesine göre belirleyebiliriz. Bunu göz yordamıyla yapmak zor olacağından nümerik olarak yapıyoruz burada."
   ]
  },
  {
   "cell_type": "markdown",
   "id": "6570a668-fd73-4d11-abda-417e73a0e51c",
   "metadata": {},
   "source": [
    "Bu sebeplerden dolayı KMeans'i mekanik problem için değil de iş bilgisi gerektiren bir segmentasyon vb problem için kullanıyorsak, bu durumda elbow yöntemi yani hata değerlerinin bize sunduğu şey bir *KARAR DESTEK NOKTASI*'dır. \n",
    "\n",
    "Yani burada kararı verirken SADECE düşük hata değerine göre bakıp iş bilgisini göz ardı edersek başarısız oluruz."
   ]
  },
  {
   "cell_type": "code",
   "execution_count": 46,
   "id": "f2431972-e5a9-409e-8994-10c0e432516d",
   "metadata": {},
   "outputs": [],
   "source": [
    "# Yukarıdaki yorumlar ve bilgilere dayanarak optimum küme sayısını 6 olarak buldum.\n",
    "# 7 yaparsam iş yükü artışı hata azalmasına değmeyecek bir seviyede."
   ]
  },
  {
   "cell_type": "code",
   "execution_count": 47,
   "id": "f6bda88b-1e02-47e3-845e-e5c12322c575",
   "metadata": {},
   "outputs": [],
   "source": [
    "# Final Model oluşumu"
   ]
  },
  {
   "cell_type": "code",
   "execution_count": 48,
   "id": "5e9bc3f7-1aff-4c1e-a483-2e2758451521",
   "metadata": {},
   "outputs": [],
   "source": [
    "kmeans = KMeans(n_clusters = 6)\n",
    "k_fit = kmeans.fit(df)\n",
    "kümeler = k_fit.labels_"
   ]
  },
  {
   "cell_type": "code",
   "execution_count": 49,
   "id": "ec0d1c85-5998-4f39-94f5-c0cb116904a0",
   "metadata": {},
   "outputs": [
    {
     "data": {
      "text/html": [
       "<div>\n",
       "<style scoped>\n",
       "    .dataframe tbody tr th:only-of-type {\n",
       "        vertical-align: middle;\n",
       "    }\n",
       "\n",
       "    .dataframe tbody tr th {\n",
       "        vertical-align: top;\n",
       "    }\n",
       "\n",
       "    .dataframe thead th {\n",
       "        text-align: right;\n",
       "    }\n",
       "</style>\n",
       "<table border=\"1\" class=\"dataframe\">\n",
       "  <thead>\n",
       "    <tr style=\"text-align: right;\">\n",
       "      <th></th>\n",
       "      <th>Eyaletler</th>\n",
       "      <th>Clusters</th>\n",
       "    </tr>\n",
       "  </thead>\n",
       "  <tbody>\n",
       "    <tr>\n",
       "      <th>0</th>\n",
       "      <td>Alabama</td>\n",
       "      <td>1</td>\n",
       "    </tr>\n",
       "    <tr>\n",
       "      <th>1</th>\n",
       "      <td>Alaska</td>\n",
       "      <td>1</td>\n",
       "    </tr>\n",
       "    <tr>\n",
       "      <th>2</th>\n",
       "      <td>Arizona</td>\n",
       "      <td>5</td>\n",
       "    </tr>\n",
       "    <tr>\n",
       "      <th>3</th>\n",
       "      <td>Arkansas</td>\n",
       "      <td>4</td>\n",
       "    </tr>\n",
       "    <tr>\n",
       "      <th>4</th>\n",
       "      <td>California</td>\n",
       "      <td>1</td>\n",
       "    </tr>\n",
       "    <tr>\n",
       "      <th>5</th>\n",
       "      <td>Colorado</td>\n",
       "      <td>4</td>\n",
       "    </tr>\n",
       "    <tr>\n",
       "      <th>6</th>\n",
       "      <td>Connecticut</td>\n",
       "      <td>3</td>\n",
       "    </tr>\n",
       "    <tr>\n",
       "      <th>7</th>\n",
       "      <td>Delaware</td>\n",
       "      <td>1</td>\n",
       "    </tr>\n",
       "    <tr>\n",
       "      <th>8</th>\n",
       "      <td>Florida</td>\n",
       "      <td>5</td>\n",
       "    </tr>\n",
       "    <tr>\n",
       "      <th>9</th>\n",
       "      <td>Georgia</td>\n",
       "      <td>4</td>\n",
       "    </tr>\n",
       "  </tbody>\n",
       "</table>\n",
       "</div>"
      ],
      "text/plain": [
       "     Eyaletler  Clusters\n",
       "0      Alabama         1\n",
       "1       Alaska         1\n",
       "2      Arizona         5\n",
       "3     Arkansas         4\n",
       "4   California         1\n",
       "5     Colorado         4\n",
       "6  Connecticut         3\n",
       "7     Delaware         1\n",
       "8      Florida         5\n",
       "9      Georgia         4"
      ]
     },
     "execution_count": 49,
     "metadata": {},
     "output_type": "execute_result"
    }
   ],
   "source": [
    "pd.DataFrame({\"Eyaletler\": df.index, \"Clusters\": kümeler}).head(10)"
   ]
  },
  {
   "cell_type": "markdown",
   "id": "c2e62e7c-94fd-4e06-8422-f88d5b79e097",
   "metadata": {},
   "source": [
    "Bu noktadan sonra bunları bir excel'e döküp, excelde bunları segmentlere göre renklendirip,\n",
    "\n",
    "\"Ben senin çalışmanı bitirdim. Müşterilerin belirli değerine karşılık (aylık bıraktıkları gelir, websitesi ziyaret miktarı) müşterileri segmente ettim ,excele döktüm, renklendirdim. İşte sana eyaletler, müşteriler ve segmentleri. *Bunları sıralayadabilirim gerekiyorsa*. (burada sıralama sınıflar arası farklılıkları göz önüne alarak hiyerarşik bir yapı oluşturma gibi düşünülebilir.)\""
   ]
  },
  {
   "cell_type": "code",
   "execution_count": 53,
   "id": "2fa2823c-e35c-4f81-b0fd-f4225af6045e",
   "metadata": {},
   "outputs": [],
   "source": [
    "# how to visualize the final result?"
   ]
  },
  {
   "cell_type": "code",
   "execution_count": null,
   "id": "3af29438-6fa6-4485-b85b-c5baa57df99f",
   "metadata": {},
   "outputs": [],
   "source": []
  }
 ],
 "metadata": {
  "kernelspec": {
   "display_name": "Python 3 (ipykernel)",
   "language": "python",
   "name": "python3"
  },
  "language_info": {
   "codemirror_mode": {
    "name": "ipython",
    "version": 3
   },
   "file_extension": ".py",
   "mimetype": "text/x-python",
   "name": "python",
   "nbconvert_exporter": "python",
   "pygments_lexer": "ipython3",
   "version": "3.9.7"
  }
 },
 "nbformat": 4,
 "nbformat_minor": 5
}
