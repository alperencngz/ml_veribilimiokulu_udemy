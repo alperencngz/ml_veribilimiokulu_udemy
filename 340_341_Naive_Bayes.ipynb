{
 "cells": [
  {
   "cell_type": "markdown",
   "id": "d1e5bff9-6673-4c8d-bcf8-3c4ce011f891",
   "metadata": {},
   "source": [
    "# Gaussian Naive Bayes"
   ]
  },
  {
   "cell_type": "code",
   "execution_count": 1,
   "id": "8827e128-c423-46de-a472-44d61dcee7c2",
   "metadata": {},
   "outputs": [],
   "source": [
    "import numpy as np\n",
    "import pandas as pd \n",
    "import statsmodels.api as sm\n",
    "import statsmodels.formula.api as smf\n",
    "import seaborn as sns"
   ]
  },
  {
   "cell_type": "markdown",
   "id": "aaa7d6f6-4747-4bd2-a987-a72550a83a26",
   "metadata": {},
   "source": [
    "# Model ve Tahmin"
   ]
  },
  {
   "cell_type": "code",
   "execution_count": 4,
   "id": "11134798-c65e-400a-b420-68896cef9b4e",
   "metadata": {},
   "outputs": [],
   "source": [
    "from sklearn.model_selection import train_test_split, GridSearchCV, cross_val_score"
   ]
  },
  {
   "cell_type": "code",
   "execution_count": 5,
   "id": "ab741262-e4b0-41c2-978a-b7bcda939ffd",
   "metadata": {},
   "outputs": [],
   "source": [
    "diabetes = pd.read_csv(\"diabetes.csv\")\n",
    "df = diabetes.copy()\n",
    "df = df.dropna()\n",
    "y = df[\"Outcome\"]\n",
    "X = df.drop(['Outcome'], axis=1)\n",
    "X_train, X_test, y_train, y_test = train_test_split(X, y, \n",
    "                                                    test_size=0.30, \n",
    "                                                    random_state=42)"
   ]
  },
  {
   "cell_type": "code",
   "execution_count": 6,
   "id": "3f43f5a1-1796-48f4-bf83-6e11b4dfc64a",
   "metadata": {},
   "outputs": [],
   "source": [
    "from sklearn.naive_bayes import GaussianNB"
   ]
  },
  {
   "cell_type": "code",
   "execution_count": 7,
   "id": "1710c5a7-5c4e-46ae-9316-ac97737e57c4",
   "metadata": {},
   "outputs": [],
   "source": [
    "# NB algoritmasında da optimize edilecek bir model hiperparametresi yok.\n",
    "# yine train hatasını elde etmiş ve buna göre hareket etmiş olacağız"
   ]
  },
  {
   "cell_type": "code",
   "execution_count": 8,
   "id": "4e336c49-936b-42ee-b188-747c7d7bd904",
   "metadata": {},
   "outputs": [],
   "source": [
    "nb = GaussianNB()"
   ]
  },
  {
   "cell_type": "code",
   "execution_count": 10,
   "id": "41b6f2d3-ca4c-4c9d-995b-c4ba726f424a",
   "metadata": {},
   "outputs": [
    {
     "data": {
      "text/plain": [
       "GaussianNB()"
      ]
     },
     "execution_count": 10,
     "metadata": {},
     "output_type": "execute_result"
    }
   ],
   "source": [
    "nb_model = nb.fit(X_train, y_train)\n",
    "nb_model"
   ]
  },
  {
   "cell_type": "code",
   "execution_count": 12,
   "id": "59c00bed-5675-4913-99ae-4e1be5d214d0",
   "metadata": {},
   "outputs": [
    {
     "data": {
      "text/plain": [
       "array([0, 0, 0, 0, 1, 1, 0, 0, 0, 1])"
      ]
     },
     "execution_count": 12,
     "metadata": {},
     "output_type": "execute_result"
    }
   ],
   "source": [
    "nb_model.predict(X_test)[0:10]"
   ]
  },
  {
   "cell_type": "markdown",
   "id": "e09e0f0e-f528-46ac-9bd0-6edcaa1ee718",
   "metadata": {
    "jp-MarkdownHeadingCollapsed": true,
    "tags": []
   },
   "source": [
    "## -----------------------------Önemli Not-----------------------------"
   ]
  },
  {
   "cell_type": "code",
   "execution_count": 13,
   "id": "8c84b70c-d640-4d9c-911e-d38ac546956f",
   "metadata": {},
   "outputs": [
    {
     "data": {
      "image/png": "[encoded data removed]",
      "text/plain": [
       "<Figure size 432x288 with 1 Axes>"
      ]
     },
     "metadata": {
      "needs_background": "light"
     },
     "output_type": "display_data"
    }
   ],
   "source": [
    "df[\"Outcome\"].value_counts().plot.barh();"
   ]
  },
  {
   "cell_type": "markdown",
   "id": "7e237846-cece-4b26-8b6d-ff2094d14273",
   "metadata": {
    "tags": []
   },
   "source": [
    "#### Önceki bölümlerden farklı olarak test setimizin boyutunu 0.3'e çıkarmamızın sebebi elimizdeki veri setinin dağılışındaki problemle alakalı.\n",
    "\n",
    "#### Elimizde 500 tane 0 kategorisinden eleman varken 268 tane 1 kategorisinden eleman var. \n",
    "\n",
    "#### Burada zaten az olan 1 kategorisindeki elemanların 0.25 kalmış olan test setine daha da az dağılması algoritma ölçümünde işimiz zorlaştıracaktır.\n",
    "\n",
    "### Bu konuda normalde yani gerçek hayatta yapılan bir modelde test ve train setlerinin içindeki eleman dağılımlarının iyi olup olmadığını kontrol etmek gerekmektedir."
   ]
  },
  {
   "cell_type": "markdown",
   "id": "1503941b-1119-40c6-bfe8-35d96acfa53b",
   "metadata": {},
   "source": [
    "## ---------------"
   ]
  },
  {
   "cell_type": "code",
   "execution_count": 14,
   "id": "f2b8f39a-4cde-4e84-820b-90303db4504d",
   "metadata": {},
   "outputs": [
    {
     "data": {
      "text/plain": [
       "array([[0.73815858, 0.26184142],\n",
       "       [0.94027894, 0.05972106],\n",
       "       [0.97242831, 0.02757169],\n",
       "       [0.82840069, 0.17159931],\n",
       "       [0.47153473, 0.52846527],\n",
       "       [0.47274458, 0.52725542],\n",
       "       [0.99607705, 0.00392295],\n",
       "       [0.69925055, 0.30074945],\n",
       "       [0.53838117, 0.46161883],\n",
       "       [0.25004536, 0.74995464]])"
      ]
     },
     "execution_count": 14,
     "metadata": {},
     "output_type": "execute_result"
    }
   ],
   "source": [
    "nb_model.predict_proba(X_test)[0:10]"
   ]
  },
  {
   "cell_type": "code",
   "execution_count": 15,
   "id": "bac0670a-e6de-4ddb-b20e-ffc258edb1c9",
   "metadata": {},
   "outputs": [],
   "source": [
    "# test hatasını hesaplama"
   ]
  },
  {
   "cell_type": "code",
   "execution_count": 22,
   "id": "e2ce6f7f-fefb-4cd4-89f2-6bf62fbceff0",
   "metadata": {},
   "outputs": [],
   "source": [
    "from sklearn.metrics import confusion_matrix, accuracy_score, classification_report\n",
    "from sklearn.model_selection import train_test_split, GridSearchCV, cross_val_score"
   ]
  },
  {
   "cell_type": "code",
   "execution_count": 19,
   "id": "f1f12087-5d90-4f5b-9e2e-fddf14710f6a",
   "metadata": {},
   "outputs": [],
   "source": [
    "y_pred = nb_model.predict(X_test)"
   ]
  },
  {
   "cell_type": "code",
   "execution_count": 21,
   "id": "92c6e73c-a67c-473e-943f-62e2540cfdda",
   "metadata": {},
   "outputs": [
    {
     "data": {
      "text/plain": [
       "0.7445887445887446"
      ]
     },
     "execution_count": 21,
     "metadata": {},
     "output_type": "execute_result"
    }
   ],
   "source": [
    "accuracy_score(y_test, y_pred)"
   ]
  },
  {
   "cell_type": "code",
   "execution_count": 24,
   "id": "8493bb85-79ae-46f1-9c1a-58f59f1fa490",
   "metadata": {},
   "outputs": [
    {
     "data": {
      "text/plain": [
       "0.775"
      ]
     },
     "execution_count": 24,
     "metadata": {},
     "output_type": "execute_result"
    }
   ],
   "source": [
    "cross_val_score(nb_model, X_test, y_test, cv = 10).mean()"
   ]
  },
  {
   "cell_type": "code",
   "execution_count": 25,
   "id": "c86b1be3-100c-45b7-b7f3-e3f466400934",
   "metadata": {},
   "outputs": [],
   "source": [
    "# naive bayes için de dediğimiz gibi model tuning aşamamız yok. burada da model tuning = model doğrulama"
   ]
  },
  {
   "cell_type": "code",
   "execution_count": null,
   "id": "08d972fc-4ba1-4c94-97fd-b9d4167317f7",
   "metadata": {},
   "outputs": [],
   "source": []
  }
 ],
 "metadata": {
  "kernelspec": {
   "display_name": "Python 3 (ipykernel)",
   "language": "python",
   "name": "python3"
  },
  "language_info": {
   "codemirror_mode": {
    "name": "ipython",
    "version": 3
   },
   "file_extension": ".py",
   "mimetype": "text/x-python",
   "name": "python",
   "nbconvert_exporter": "python",
   "pygments_lexer": "ipython3",
   "version": "3.9.7"
  }
 },
 "nbformat": 4,
 "nbformat_minor": 5
}
