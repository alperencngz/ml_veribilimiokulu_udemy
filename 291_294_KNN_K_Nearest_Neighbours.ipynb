{
 "cells": [
  {
   "cell_type": "markdown",
   "id": "33fd4b39-8acb-4607-9cf7-196486206b3e",
   "metadata": {},
   "source": [
    "# KNN"
   ]
  },
  {
   "cell_type": "markdown",
   "id": "8a6cc723-fb53-4175-87a4-c200f8ea7bc6",
   "metadata": {},
   "source": [
    "# Model"
   ]
  },
  {
   "cell_type": "code",
   "execution_count": 1,
   "id": "84fb9cae-288a-4ca8-914c-79bb4918df51",
   "metadata": {},
   "outputs": [],
   "source": [
    "import numpy as np\n",
    "import pandas as pd \n",
    "from sklearn.model_selection import train_test_split, GridSearchCV,cross_val_score\n",
    "from sklearn.metrics import mean_squared_error, r2_score\n",
    "import matplotlib.pyplot as plt\n",
    "from sklearn.preprocessing import scale \n",
    "from sklearn import model_selection\n",
    "from sklearn.neighbors import KNeighborsRegressor\n",
    "\n",
    "from warnings import filterwarnings\n",
    "filterwarnings('ignore')"
   ]
  },
  {
   "cell_type": "code",
   "execution_count": 2,
   "id": "92b09d2d-dd11-4231-a5b3-323a18c65b25",
   "metadata": {},
   "outputs": [],
   "source": [
    "hit = pd.read_csv(\"Hitters.csv\")\n",
    "df = hit.copy()\n",
    "df = df.dropna()\n",
    "dms = pd.get_dummies(df[['League', 'Division', 'NewLeague']])\n",
    "y = df[\"Salary\"]\n",
    "X_ = df.drop(['Salary', 'League', 'Division', 'NewLeague'], axis=1).astype('float64')\n",
    "X = pd.concat([X_, dms[['League_N', 'Division_W', 'NewLeague_N']]], axis=1)\n",
    "X_train, X_test, y_train, y_test = train_test_split(X, y, \n",
    "                                                    test_size=0.25, \n",
    "                                                    random_state=42)"
   ]
  },
  {
   "cell_type": "code",
   "execution_count": 3,
   "id": "49b7aa1b-9d22-4eae-9ebe-4a3635ec0f32",
   "metadata": {},
   "outputs": [],
   "source": [
    "knn_model = KNeighborsRegressor().fit(X_train, y_train)"
   ]
  },
  {
   "cell_type": "code",
   "execution_count": 4,
   "id": "16d67159-8a9b-402b-b3e2-eab9d876ea18",
   "metadata": {},
   "outputs": [
    {
     "data": {
      "text/plain": [
       "KNeighborsRegressor()"
      ]
     },
     "execution_count": 4,
     "metadata": {},
     "output_type": "execute_result"
    }
   ],
   "source": [
    "knn_model"
   ]
  },
  {
   "cell_type": "code",
   "execution_count": 5,
   "id": "5df04cf2-66a2-4d1a-8ce4-720577464bd7",
   "metadata": {},
   "outputs": [
    {
     "data": {
      "text/plain": [
       "5"
      ]
     },
     "execution_count": 5,
     "metadata": {},
     "output_type": "execute_result"
    }
   ],
   "source": [
    "knn_model.n_neighbors # ön tanımlı komşuluk değeri 5 yani 5 komşuya bakıyor, hiperparametre"
   ]
  },
  {
   "cell_type": "code",
   "execution_count": 6,
   "id": "21db5661-f0f8-40c1-9dde-36cacaf1f11f",
   "metadata": {},
   "outputs": [
    {
     "data": {
      "text/plain": [
       "'euclidean'"
      ]
     },
     "execution_count": 6,
     "metadata": {},
     "output_type": "execute_result"
    }
   ],
   "source": [
    "knn_model.effective_metric_"
   ]
  },
  {
   "cell_type": "markdown",
   "id": "8fe96072-abe4-4f14-8c59-d49ba069a7f1",
   "metadata": {},
   "source": [
    "# Tahmin"
   ]
  },
  {
   "cell_type": "code",
   "execution_count": 7,
   "id": "dd4c4c66-f30c-40f5-ad52-46a1ef3617b3",
   "metadata": {},
   "outputs": [],
   "source": [
    "y_pred = knn_model.predict(X_test)"
   ]
  },
  {
   "cell_type": "code",
   "execution_count": 8,
   "id": "71c81772-12e4-4ea7-9896-6dd96ab3408a",
   "metadata": {},
   "outputs": [
    {
     "data": {
      "text/plain": [
       "426.6570764525201"
      ]
     },
     "execution_count": 8,
     "metadata": {},
     "output_type": "execute_result"
    }
   ],
   "source": [
    "np.sqrt(mean_squared_error(y_test,y_pred))"
   ]
  },
  {
   "cell_type": "code",
   "execution_count": 9,
   "id": "ff9c9907-e2da-47a4-8018-544612c32ec8",
   "metadata": {},
   "outputs": [],
   "source": [
    "# şimdi farklı k değerleri için hata (RMSE) değerinin nasıl değişeceğine bakalım"
   ]
  },
  {
   "cell_type": "code",
   "execution_count": 10,
   "id": "7a4845ed-ef4d-4c13-bc3e-9e2cc3a61ebe",
   "metadata": {},
   "outputs": [
    {
     "name": "stdout",
     "output_type": "stream",
     "text": [
      "k = 1 için RMSE değeri:  0.0\n",
      "k = 2 için RMSE değeri:  179.52761335480352\n",
      "k = 3 için RMSE değeri:  205.20157172291863\n",
      "k = 4 için RMSE değeri:  220.5139794876305\n",
      "k = 5 için RMSE değeri:  239.6467132541376\n",
      "k = 6 için RMSE değeri:  243.5904190007242\n",
      "k = 7 için RMSE değeri:  258.1478781634636\n",
      "k = 8 için RMSE değeri:  266.05374203349805\n",
      "k = 9 için RMSE değeri:  269.73782093553376\n",
      "k = 10 için RMSE değeri:  271.2798300436963\n"
     ]
    }
   ],
   "source": [
    "RMSE = [] \n",
    "\n",
    "for k in range(10):\n",
    "    k = k+1\n",
    "    knn_model = KNeighborsRegressor(n_neighbors = k).fit(X_train, y_train)\n",
    "    y_pred = knn_model.predict(X_train) \n",
    "    rmse = np.sqrt(mean_squared_error(y_train,y_pred)) \n",
    "    RMSE.append(rmse) \n",
    "    print(\"k =\" , k , \"için RMSE değeri: \", rmse)"
   ]
  },
  {
   "cell_type": "code",
   "execution_count": 11,
   "id": "32a37baf-218a-499e-801a-c85a0138f232",
   "metadata": {},
   "outputs": [],
   "source": [
    "# sadece buna bakarak train seti üzerinden cv yapmadan karar veremeyiz, o yüzden tuninge geçiyoruz"
   ]
  },
  {
   "cell_type": "markdown",
   "id": "d387f8c3-aa45-449b-8c75-0900657e2e46",
   "metadata": {},
   "source": [
    "# Model Tuning"
   ]
  },
  {
   "cell_type": "code",
   "execution_count": 12,
   "id": "542866ed-8b02-4114-b7d0-1e0628b6bc16",
   "metadata": {},
   "outputs": [],
   "source": [
    "from sklearn.model_selection import GridSearchCV"
   ]
  },
  {
   "cell_type": "markdown",
   "id": "3aca4f8a-e0ae-472d-a0e6-442daebc9d23",
   "metadata": {},
   "source": [
    " Bundan sonraki bölümlerin hemen hemen tümünde GridSearchCV ile hiperparametre araması yapacağız.\n",
    " \n",
    " GridSearch bir ızgara mantığı ile bir olası parametre setinin verilip tüm olası kombinasyonların denenmesi anlamına gelir.\n",
    " \n",
    "#### Örneğin 2 paramtere için bazı değerler aranmak istediğinde bu 2 parametrenin birbirleriyle çarpıştırılarak olası tüm kombinasyonların denenmesi işlemini cv yöntemiyle gerçekleştirmek için kullanılan bir metoddur."
   ]
  },
  {
   "cell_type": "code",
   "execution_count": 13,
   "id": "19a64848-3722-4210-9654-25f2cdb52efe",
   "metadata": {},
   "outputs": [],
   "source": [
    "# KNN'de tek paramtre olmasına rağmen (tek paramtre olmasından bağımsız olan bir konu bu) bir grid (liste) oluşturacağız.\n",
    "# Bu liste içinde önceki bölümlerde benzer şekilde olacak şekilde bir arama işlemi gerçekleştirilecek.  "
   ]
  },
  {
   "cell_type": "code",
   "execution_count": 14,
   "id": "d3981b7e-5531-401f-9059-48859b927454",
   "metadata": {},
   "outputs": [],
   "source": [
    "knn_params = {'n_neighbors': np.arange(1,30,1)}"
   ]
  },
  {
   "cell_type": "code",
   "execution_count": 15,
   "id": "2b8f2832-1b21-4c7a-b221-9c3a854d04b8",
   "metadata": {},
   "outputs": [],
   "source": [
    "knn = KNeighborsRegressor()"
   ]
  },
  {
   "cell_type": "code",
   "execution_count": 16,
   "id": "9cf98913-e0ef-495e-a91e-f8f4f12cbf24",
   "metadata": {},
   "outputs": [],
   "source": [
    "knn_cv_model = GridSearchCV(knn, knn_params, cv = 10)"
   ]
  },
  {
   "cell_type": "code",
   "execution_count": 17,
   "id": "c3aa2327-b1ac-44ca-8a7b-759fb218758a",
   "metadata": {},
   "outputs": [
    {
     "data": {
      "text/plain": [
       "GridSearchCV(cv=10, estimator=KNeighborsRegressor(),\n",
       "             param_grid={'n_neighbors': array([ 1,  2,  3,  4,  5,  6,  7,  8,  9, 10, 11, 12, 13, 14, 15, 16, 17,\n",
       "       18, 19, 20, 21, 22, 23, 24, 25, 26, 27, 28, 29])})"
      ]
     },
     "execution_count": 17,
     "metadata": {},
     "output_type": "execute_result"
    }
   ],
   "source": [
    "knn_cv_model.fit(X_train, y_train)"
   ]
  },
  {
   "cell_type": "code",
   "execution_count": 18,
   "id": "26c2d271-4335-4eaf-a1d4-90be3f6982fb",
   "metadata": {},
   "outputs": [
    {
     "data": {
      "text/plain": [
       "8"
      ]
     },
     "execution_count": 18,
     "metadata": {},
     "output_type": "execute_result"
    }
   ],
   "source": [
    "knn_cv_model.best_params_[\"n_neighbors\"] "
   ]
  },
  {
   "cell_type": "code",
   "execution_count": 19,
   "id": "fda539fe-35aa-48a3-9f65-65849c60f412",
   "metadata": {},
   "outputs": [],
   "source": [
    "# valide edilmiş ve valide edilmemiş 2 grup rmse değerleri oluşturup bunları karşılaştıralım:"
   ]
  },
  {
   "cell_type": "code",
   "execution_count": 20,
   "id": "e68d8e25-ac77-4a54-abaf-325f47d17771",
   "metadata": {},
   "outputs": [
    {
     "name": "stdout",
     "output_type": "stream",
     "text": [
      "k = 1 için RMSE değeri:  0.0 RMSE_CV değeri:  325.3947514706382\n",
      "k = 2 için RMSE değeri:  179.52761335480352 RMSE_CV değeri:  293.24000183333817\n",
      "k = 3 için RMSE değeri:  205.20157172291863 RMSE_CV değeri:  283.7486667487823\n",
      "k = 4 için RMSE değeri:  220.5139794876305 RMSE_CV değeri:  286.3240222024089\n",
      "k = 5 için RMSE değeri:  239.6467132541376 RMSE_CV değeri:  290.0705466132226\n",
      "k = 6 için RMSE değeri:  243.5904190007242 RMSE_CV değeri:  298.1263115575851\n",
      "k = 7 için RMSE değeri:  258.1478781634636 RMSE_CV değeri:  294.77070479194987\n",
      "k = 8 için RMSE değeri:  266.05374203349805 RMSE_CV değeri:  291.98672028891235\n",
      "k = 9 için RMSE değeri:  269.73782093553376 RMSE_CV değeri:  295.7162739573105\n",
      "k = 10 için RMSE değeri:  271.2798300436963 RMSE_CV değeri:  301.31047022701154\n"
     ]
    }
   ],
   "source": [
    "RMSE = [] \n",
    "RMSE_CV = []\n",
    "for k in range(10):\n",
    "    k = k+1\n",
    "    knn_model = KNeighborsRegressor(n_neighbors = k).fit(X_train, y_train)\n",
    "    y_pred = knn_model.predict(X_train) \n",
    "    rmse = np.sqrt(mean_squared_error(y_train,y_pred)) \n",
    "    rmse_cv = np.sqrt(-1*cross_val_score(knn_model, X_train, y_train, cv=10, \n",
    "                                         scoring = \"neg_mean_squared_error\").mean())\n",
    "    RMSE.append(rmse) \n",
    "    RMSE_CV.append(rmse_cv)\n",
    "    print(\"k =\" , k , \"için RMSE değeri: \", rmse, \"RMSE_CV değeri: \", rmse_cv )"
   ]
  },
  {
   "cell_type": "code",
   "execution_count": 21,
   "id": "d1eee98c-7400-4605-903e-a0b31dea5107",
   "metadata": {},
   "outputs": [],
   "source": [
    "# Final Modeli"
   ]
  },
  {
   "cell_type": "markdown",
   "id": "997db489-e55e-4620-984b-8d076a17e4a6",
   "metadata": {},
   "source": [
    "Q: Hocam Knn Model Tuning yaptıktan sonra optimum k değerini 8 bulduk. Fakat valide edilmiş modelde RMSE değeri k=8 olduğunda en düşük değil. Neden optimum olarak 8'i aldık? Hatayı minimize etmesi gerekmez miydi optimum değerin?\n",
    "\n",
    "A: best_params fonksiyonu RMSE değerine bakarak bir sırlama yapmadığı için böyle bir durumla karşılaşılıyor.  best_params fonksiyonu \"mean_validation_score\" değerine göre bir sıralama yapıyor. Bu nedenle RMSE değerlerine bakıldığında farklı bir sonuç çıkıyor.  Keşke bu durumdan eğitimde bahsedilseydi. Zira en düşük hataya bakıp en düşük hatalı olmayan k değerini seçmek çok mantıklı değil."
   ]
  },
  {
   "cell_type": "code",
   "execution_count": 22,
   "id": "e3732d98-20e6-4905-bff9-ff55ce4d7700",
   "metadata": {},
   "outputs": [],
   "source": [
    "# Yukarıdaki soruda neden optimum değerin rmse'si en düşük olan değer yani 2 değil de 8 olduğunu anlıyorız, burada da 8 kullan"
   ]
  },
  {
   "cell_type": "code",
   "execution_count": 23,
   "id": "c0666300-6f1f-4dfc-b9c3-ed2fb584cfcf",
   "metadata": {},
   "outputs": [],
   "source": [
    "knn_tuned = KNeighborsRegressor(n_neighbors = knn_cv_model.best_params_[\"n_neighbors\"]).fit(X_train, y_train)"
   ]
  },
  {
   "cell_type": "code",
   "execution_count": 24,
   "id": "7c93370f-896c-426b-ac51-30a9d06bbf14",
   "metadata": {},
   "outputs": [],
   "source": [
    "# yukarda tune edilmiş modelin nesnesini oluşturduk ve train setlerimizi fit ettik"
   ]
  },
  {
   "cell_type": "code",
   "execution_count": 25,
   "id": "296bad62-c8b7-4039-b4ec-e3a18fa140d7",
   "metadata": {},
   "outputs": [],
   "source": [
    "# final test (rmse) score hesaplama yapıyoruz son olarak"
   ]
  },
  {
   "cell_type": "code",
   "execution_count": 26,
   "id": "fd7a6113-fb32-4a74-91bf-29a22b46b494",
   "metadata": {},
   "outputs": [],
   "source": [
    "y_pred = knn_tuned.predict(X_test) #predictionlarımızı yaptık"
   ]
  },
  {
   "cell_type": "code",
   "execution_count": 27,
   "id": "efd9c247-40ac-4b5c-8b88-95c43683d014",
   "metadata": {},
   "outputs": [
    {
     "data": {
      "text/plain": [
       "413.7094731463598"
      ]
     },
     "execution_count": 27,
     "metadata": {},
     "output_type": "execute_result"
    }
   ],
   "source": [
    "np.sqrt(mean_squared_error(y_test, y_pred))"
   ]
  },
  {
   "cell_type": "code",
   "execution_count": null,
   "id": "9a3eb442-1d22-46df-bd98-4f5c4a249cb2",
   "metadata": {},
   "outputs": [],
   "source": []
  }
 ],
 "metadata": {
  "kernelspec": {
   "display_name": "Python 3 (ipykernel)",
   "language": "python",
   "name": "python3"
  },
  "language_info": {
   "codemirror_mode": {
    "name": "ipython",
    "version": 3
   },
   "file_extension": ".py",
   "mimetype": "text/x-python",
   "name": "python",
   "nbconvert_exporter": "python",
   "pygments_lexer": "ipython3",
   "version": "3.9.7"
  }
 },
 "nbformat": 4,
 "nbformat_minor": 5
}
