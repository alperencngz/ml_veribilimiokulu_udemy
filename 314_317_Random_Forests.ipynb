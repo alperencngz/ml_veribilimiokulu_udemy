{
 "cells": [
  {
   "cell_type": "markdown",
   "id": "7b115ecb-51af-4eee-b1d3-523099cf2f31",
   "metadata": {},
   "source": [
    "# RandomForests"
   ]
  },
  {
   "cell_type": "markdown",
   "id": "3a5e21b7-743b-475b-942b-f6947ca5f310",
   "metadata": {},
   "source": [
    "# Model"
   ]
  },
  {
   "cell_type": "code",
   "execution_count": 2,
   "id": "734c7334-ef2f-4083-93f4-1ef3bc1395ef",
   "metadata": {},
   "outputs": [],
   "source": [
    "import numpy as np\n",
    "import pandas as pd \n",
    "from sklearn.model_selection import train_test_split, GridSearchCV,cross_val_score\n",
    "from sklearn.metrics import mean_squared_error, r2_score\n",
    "import matplotlib.pyplot as plt\n",
    "from sklearn.preprocessing import scale \n",
    "from sklearn import model_selection\n",
    "from sklearn.tree import DecisionTreeRegressor, DecisionTreeClassifier\n",
    "from sklearn.ensemble import BaggingRegressor\n",
    "\n",
    "from warnings import filterwarnings\n",
    "filterwarnings('ignore')"
   ]
  },
  {
   "cell_type": "code",
   "execution_count": 3,
   "id": "0a9ed4aa-e7d4-4db7-b6f0-aae38bc0352b",
   "metadata": {},
   "outputs": [],
   "source": [
    "hit = pd.read_csv(\"Hitters.csv\")\n",
    "df = hit.copy()\n",
    "df = df.dropna()\n",
    "dms = pd.get_dummies(df[['League', 'Division', 'NewLeague']])\n",
    "y = df[\"Salary\"]\n",
    "X_ = df.drop(['Salary', 'League', 'Division', 'NewLeague'], axis=1).astype('float64')\n",
    "X = pd.concat([X_, dms[['League_N', 'Division_W', 'NewLeague_N']]], axis=1)\n",
    "X_train, X_test, y_train, y_test = train_test_split(X, y, \n",
    "                                                    test_size=0.25, \n",
    "                                                    random_state=42)"
   ]
  },
  {
   "cell_type": "code",
   "execution_count": 4,
   "id": "8e7f2971-92fc-4ca0-827b-ffa3f11b93b0",
   "metadata": {},
   "outputs": [],
   "source": [
    "from sklearn.ensemble import RandomForestRegressor"
   ]
  },
  {
   "cell_type": "code",
   "execution_count": 5,
   "id": "05635139-5124-467e-a419-bb25b0888aa5",
   "metadata": {},
   "outputs": [],
   "source": [
    "rf_model = RandomForestRegressor(random_state = 42)"
   ]
  },
  {
   "cell_type": "code",
   "execution_count": 6,
   "id": "5df805e0-43fc-45ab-ae2a-c06c304be56b",
   "metadata": {},
   "outputs": [
    {
     "data": {
      "text/plain": [
       "RandomForestRegressor(random_state=42)"
      ]
     },
     "execution_count": 6,
     "metadata": {},
     "output_type": "execute_result"
    }
   ],
   "source": [
    "rf_model.fit(X_train, y_train)"
   ]
  },
  {
   "cell_type": "code",
   "execution_count": 7,
   "id": "9524abb5-cef3-431c-9da9-e9e4c5000bca",
   "metadata": {},
   "outputs": [
    {
     "data": {
      "text/plain": [
       "{'bootstrap': True,\n",
       " 'ccp_alpha': 0.0,\n",
       " 'criterion': 'mse',\n",
       " 'max_depth': None,\n",
       " 'max_features': 'auto',\n",
       " 'max_leaf_nodes': None,\n",
       " 'max_samples': None,\n",
       " 'min_impurity_decrease': 0.0,\n",
       " 'min_impurity_split': None,\n",
       " 'min_samples_leaf': 1,\n",
       " 'min_samples_split': 2,\n",
       " 'min_weight_fraction_leaf': 0.0,\n",
       " 'n_estimators': 100,\n",
       " 'n_jobs': None,\n",
       " 'oob_score': False,\n",
       " 'random_state': 42,\n",
       " 'verbose': 0,\n",
       " 'warm_start': False}"
      ]
     },
     "execution_count": 7,
     "metadata": {},
     "output_type": "execute_result"
    }
   ],
   "source": [
    "rf_model.get_params()"
   ]
  },
  {
   "cell_type": "markdown",
   "id": "ff86005c-4fdd-46db-a111-4c2c445b3879",
   "metadata": {},
   "source": [
    "#### En önemli parametreler :\n",
    "\n",
    "1. n_estimators = oluşturulacak ağaç sayısı\n",
    "2. max_features = her bölünmede göze alınacak değişken sayısı\n",
    "3. max_depth = dallanmaları en tepeden kontrol eden parametredir (overfitting önüne geçer)"
   ]
  },
  {
   "cell_type": "markdown",
   "id": "dd6cdc28-0a2f-48cb-81fe-a3c771015daf",
   "metadata": {},
   "source": [
    "# Tahmin"
   ]
  },
  {
   "cell_type": "code",
   "execution_count": 8,
   "id": "f2e51eaa-e883-4dc4-8ea8-67760a90f957",
   "metadata": {},
   "outputs": [],
   "source": [
    "y_pred = rf_model.predict(X_test)"
   ]
  },
  {
   "cell_type": "code",
   "execution_count": 10,
   "id": "cdc20819-691d-4fce-b8b0-7e9e972c285e",
   "metadata": {},
   "outputs": [
    {
     "data": {
      "text/plain": [
       "344.8191624908484"
      ]
     },
     "execution_count": 10,
     "metadata": {},
     "output_type": "execute_result"
    }
   ],
   "source": [
    "np.sqrt(mean_squared_error(y_test, y_pred)) # ilkel hata"
   ]
  },
  {
   "cell_type": "markdown",
   "id": "a7e7661c-6287-460e-9bc3-a346d1caaa00",
   "metadata": {},
   "source": [
    "# Model Tuning"
   ]
  },
  {
   "cell_type": "code",
   "execution_count": 12,
   "id": "6a6877a4-b0a9-4810-b246-d6f790f557c3",
   "metadata": {},
   "outputs": [],
   "source": [
    "rf_params = {\"max_depth\": list(range(1, 10)),\n",
    "             \"max_features\": [2, 4, 5, 10],\n",
    "             \"n_estimators\": [100, 200, 500, 1000]}"
   ]
  },
  {
   "cell_type": "code",
   "execution_count": 14,
   "id": "b0030846-157f-4981-bfe7-7b5dc52a448c",
   "metadata": {},
   "outputs": [],
   "source": [
    "rf_model = RandomForestRegressor(random_state = 42)"
   ]
  },
  {
   "cell_type": "markdown",
   "id": "106e8d30-165c-478e-bb34-f171b02f2978",
   "metadata": {},
   "source": [
    "Yapılacak çok fazla deneme işlemi olduğundan işemcinin tam gücüyle kullanılmasına izin veren ### n_jobs = -1 ### parametresini gridsearch'e dahil ettik"
   ]
  },
  {
   "cell_type": "code",
   "execution_count": 15,
   "id": "76acdcc7-c942-40e7-a12f-e9e75fd69479",
   "metadata": {},
   "outputs": [],
   "source": [
    "rf_cv_model = GridSearchCV(rf_model, \n",
    "                           rf_params, \n",
    "                           cv = 10, \n",
    "                           n_jobs = -1)"
   ]
  },
  {
   "cell_type": "code",
   "execution_count": 16,
   "id": "9f2e1371-c260-4006-9692-348bbb4566c7",
   "metadata": {},
   "outputs": [
    {
     "data": {
      "text/plain": [
       "GridSearchCV(cv=10, estimator=RandomForestRegressor(random_state=42), n_jobs=-1,\n",
       "             param_grid={'max_depth': [1, 2, 3, 4, 5, 6, 7, 8, 9],\n",
       "                         'max_features': [2, 3, 4, 5, 10, 15],\n",
       "                         'n_estimators': [100, 200, 500, 1000, 2000]})"
      ]
     },
     "execution_count": 16,
     "metadata": {},
     "output_type": "execute_result"
    }
   ],
   "source": [
    "rf_cv_model.fit(X_train, y_train)"
   ]
  },
  {
   "cell_type": "code",
   "execution_count": 17,
   "id": "098cf2c6-09b3-44b9-97d8-5ab18367463b",
   "metadata": {},
   "outputs": [
    {
     "data": {
      "text/plain": [
       "{'max_depth': 6, 'max_features': 2, 'n_estimators': 100}"
      ]
     },
     "execution_count": 17,
     "metadata": {},
     "output_type": "execute_result"
    }
   ],
   "source": [
    "rf_cv_model.best_params_"
   ]
  },
  {
   "cell_type": "code",
   "execution_count": 18,
   "id": "4cab3a34-dd5f-42e7-8dd0-b403daa84a0b",
   "metadata": {},
   "outputs": [],
   "source": [
    "# final model"
   ]
  },
  {
   "cell_type": "code",
   "execution_count": 67,
   "id": "c356d107-3c62-4c0c-be41-c0f448010567",
   "metadata": {},
   "outputs": [],
   "source": [
    "rf_tuned = RandomForestRegressor(max_depth = 6, \n",
    "                                 max_features = 2,\n",
    "                                 n_estimators = 100,\n",
    "                                 random_state = 42)"
   ]
  },
  {
   "cell_type": "code",
   "execution_count": 68,
   "id": "6998bf9d-d18b-435c-b561-c373b6ad0ebf",
   "metadata": {},
   "outputs": [
    {
     "data": {
      "text/plain": [
       "RandomForestRegressor(max_depth=6, max_features=2, random_state=42)"
      ]
     },
     "execution_count": 68,
     "metadata": {},
     "output_type": "execute_result"
    }
   ],
   "source": [
    "rf_tuned.fit(X_train, y_train)"
   ]
  },
  {
   "cell_type": "code",
   "execution_count": 69,
   "id": "34e69077-2262-424d-b71f-8cee0d460652",
   "metadata": {},
   "outputs": [],
   "source": [
    "y_pred = rf_tuned.predict(X_test)"
   ]
  },
  {
   "cell_type": "code",
   "execution_count": 70,
   "id": "697b8be2-1109-42b3-8b1f-076222a0de33",
   "metadata": {},
   "outputs": [
    {
     "data": {
      "text/plain": [
       "346.655412352411"
      ]
     },
     "execution_count": 70,
     "metadata": {},
     "output_type": "execute_result"
    }
   ],
   "source": [
    "np.sqrt(mean_squared_error(y_test, y_pred)) # tuned hata değeri"
   ]
  },
  {
   "cell_type": "markdown",
   "id": "d69d515d-50f8-4fc1-80e1-cd8b64142566",
   "metadata": {},
   "source": [
    "Bagged_Trees ile RandomForest'in birbirine yakın çıkması beklenir çünkü RF ve Begging arasında bir ilişki vardır.\n",
    "\n",
    "RF'da seçilecek değişken sayısını değişken sayısına eşitlediğimizde begging regresyon yapılmış olur (bizim veride 19). Begging regresyon RF modelinin özel bir halidir."
   ]
  },
  {
   "cell_type": "code",
   "execution_count": 71,
   "id": "7e3c9a55-96d7-46ef-99a0-0fd065e89ab3",
   "metadata": {},
   "outputs": [],
   "source": [
    "# Değişkenlerin önem düzeylerine erişmek istediğimiz zaman ne yapmalıyız?"
   ]
  },
  {
   "cell_type": "markdown",
   "id": "8f05314b-507d-41c4-8e49-a6f4e31c7442",
   "metadata": {},
   "source": [
    "Neden erişmek isteyelim : modelleme teknikleri anlamında da model seçme değişken seçme, değşkenleri analitik değil de model performansı odağında değerlendirme üzerinde olan yaklaşımlar hakkında konuşmaya başlıyoruz."
   ]
  },
  {
   "cell_type": "code",
   "execution_count": 74,
   "id": "2d4cb80e-df27-4b3b-8727-10cdbb15768d",
   "metadata": {},
   "outputs": [],
   "source": [
    "Importance = pd.DataFrame({\"Importance\": rf_tuned.feature_importances_ * 100},\n",
    "                          index = X_train.columns)"
   ]
  },
  {
   "cell_type": "code",
   "execution_count": 79,
   "id": "6fdcfc2a-a7ff-48e8-b450-1c330965af15",
   "metadata": {},
   "outputs": [
    {
     "data": {
      "image/png": "[encoded data removed]",
      "text/plain": [
       "<Figure size 432x288 with 1 Axes>"
      ]
     },
     "metadata": {
      "needs_background": "light"
     },
     "output_type": "display_data"
    }
   ],
   "source": [
    "Importance.sort_values(by = \"Importance\", axis = 0, \n",
    "                       ascending = True).plot(kind = \"barh\", color = \"red\")\n",
    "plt.xlabel(\"Değişken Önem Düzeyleri\");"
   ]
  },
  {
   "cell_type": "markdown",
   "id": "a89dbfe2-80d6-4c56-919d-4ab8e0bb7d46",
   "metadata": {},
   "source": [
    "Doğrusal regresyon modellerinde değişkenlerin önemine dair bilgi alabiliyorduk, doğrusal regresyon modellerinin çıktısında gördüğümüz şey değişkenlerin model için anlamlı olup olmadığını ve bu değişkenlerin bağımlı değişkene olan katkılarını gözlemleyebiliyorduk.\n",
    "\n",
    "RF için kurduğumuz bu modelde değişkenlerin bağımlı değişkene etkilerine göre hatalara olan etkilerine göre anlamlılıklarını bu şekilde elde ettik.\n",
    "\n",
    "Bu bilgiyle neler yapılabilir? :\n",
    "1. Görece önemsiz olduğu düşünülen değişkenler çıkartılabilir\n",
    "2. Değişkenler çaprazlanabilir\n",
    "3. Farklı değişkenler eklenebilir\n",
    "\n"
   ]
  },
  {
   "cell_type": "markdown",
   "id": "8cd839a3-b5e9-4660-b1b5-ec306373923b",
   "metadata": {},
   "source": [
    "Yapısını iyi bildiğimiz bir verisetinin hem değişken gözlem sayısı ve ifade ettiği iş bilgisi hem de taşıdığı bilgi anlamında buraları kullanarak daha ileri düzey konular olan model seçme, değişken seçme ve aralarında karar verme noktalarında da bunlar dayanak noktası olarak kullanılabilir."
   ]
  },
  {
   "cell_type": "code",
   "execution_count": null,
   "id": "eb28a2d2-8796-4428-be04-b4780052155e",
   "metadata": {},
   "outputs": [],
   "source": []
  }
 ],
 "metadata": {
  "kernelspec": {
   "display_name": "Python 3 (ipykernel)",
   "language": "python",
   "name": "python3"
  },
  "language_info": {
   "codemirror_mode": {
    "name": "ipython",
    "version": 3
   },
   "file_extension": ".py",
   "mimetype": "text/x-python",
   "name": "python",
   "nbconvert_exporter": "python",
   "pygments_lexer": "ipython3",
   "version": "3.9.7"
  }
 },
 "nbformat": 4,
 "nbformat_minor": 5
}
